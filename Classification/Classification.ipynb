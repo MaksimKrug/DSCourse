{
 "cells": [
  {
   "cell_type": "code",
   "execution_count": 1,
   "metadata": {},
   "outputs": [],
   "source": [
    "import numpy as np\n",
    "import pandas as pd\n",
    "from tqdm import tqdm\n",
    "import matplotlib.pyplot as plt\n",
    "import seaborn as sns"
   ]
  },
  {
   "cell_type": "markdown",
   "metadata": {},
   "source": [
    "## Посмотрим на данные"
   ]
  },
  {
   "cell_type": "code",
   "execution_count": 2,
   "metadata": {},
   "outputs": [
    {
     "data": {
      "text/plain": [
       "(59381, 128)"
      ]
     },
     "execution_count": 2,
     "metadata": {},
     "output_type": "execute_result"
    }
   ],
   "source": [
    "df = pd.read_csv('train.csv')\n",
    "df.shape"
   ]
  },
  {
   "cell_type": "code",
   "execution_count": 3,
   "metadata": {},
   "outputs": [
    {
     "data": {
      "text/html": [
       "<div>\n",
       "<style scoped>\n",
       "    .dataframe tbody tr th:only-of-type {\n",
       "        vertical-align: middle;\n",
       "    }\n",
       "\n",
       "    .dataframe tbody tr th {\n",
       "        vertical-align: top;\n",
       "    }\n",
       "\n",
       "    .dataframe thead th {\n",
       "        text-align: right;\n",
       "    }\n",
       "</style>\n",
       "<table border=\"1\" class=\"dataframe\">\n",
       "  <thead>\n",
       "    <tr style=\"text-align: right;\">\n",
       "      <th></th>\n",
       "      <th>Id</th>\n",
       "      <th>Product_Info_1</th>\n",
       "      <th>Product_Info_2</th>\n",
       "      <th>Product_Info_3</th>\n",
       "      <th>Product_Info_4</th>\n",
       "      <th>Product_Info_5</th>\n",
       "      <th>Product_Info_6</th>\n",
       "      <th>Product_Info_7</th>\n",
       "      <th>Ins_Age</th>\n",
       "      <th>Ht</th>\n",
       "      <th>...</th>\n",
       "      <th>Medical_Keyword_40</th>\n",
       "      <th>Medical_Keyword_41</th>\n",
       "      <th>Medical_Keyword_42</th>\n",
       "      <th>Medical_Keyword_43</th>\n",
       "      <th>Medical_Keyword_44</th>\n",
       "      <th>Medical_Keyword_45</th>\n",
       "      <th>Medical_Keyword_46</th>\n",
       "      <th>Medical_Keyword_47</th>\n",
       "      <th>Medical_Keyword_48</th>\n",
       "      <th>Response</th>\n",
       "    </tr>\n",
       "  </thead>\n",
       "  <tbody>\n",
       "    <tr>\n",
       "      <th>0</th>\n",
       "      <td>2</td>\n",
       "      <td>1</td>\n",
       "      <td>D3</td>\n",
       "      <td>10</td>\n",
       "      <td>0.076923</td>\n",
       "      <td>2</td>\n",
       "      <td>1</td>\n",
       "      <td>1</td>\n",
       "      <td>0.641791</td>\n",
       "      <td>0.581818</td>\n",
       "      <td>...</td>\n",
       "      <td>0</td>\n",
       "      <td>0</td>\n",
       "      <td>0</td>\n",
       "      <td>0</td>\n",
       "      <td>0</td>\n",
       "      <td>0</td>\n",
       "      <td>0</td>\n",
       "      <td>0</td>\n",
       "      <td>0</td>\n",
       "      <td>8</td>\n",
       "    </tr>\n",
       "    <tr>\n",
       "      <th>1</th>\n",
       "      <td>5</td>\n",
       "      <td>1</td>\n",
       "      <td>A1</td>\n",
       "      <td>26</td>\n",
       "      <td>0.076923</td>\n",
       "      <td>2</td>\n",
       "      <td>3</td>\n",
       "      <td>1</td>\n",
       "      <td>0.059701</td>\n",
       "      <td>0.600000</td>\n",
       "      <td>...</td>\n",
       "      <td>0</td>\n",
       "      <td>0</td>\n",
       "      <td>0</td>\n",
       "      <td>0</td>\n",
       "      <td>0</td>\n",
       "      <td>0</td>\n",
       "      <td>0</td>\n",
       "      <td>0</td>\n",
       "      <td>0</td>\n",
       "      <td>4</td>\n",
       "    </tr>\n",
       "    <tr>\n",
       "      <th>2</th>\n",
       "      <td>6</td>\n",
       "      <td>1</td>\n",
       "      <td>E1</td>\n",
       "      <td>26</td>\n",
       "      <td>0.076923</td>\n",
       "      <td>2</td>\n",
       "      <td>3</td>\n",
       "      <td>1</td>\n",
       "      <td>0.029851</td>\n",
       "      <td>0.745455</td>\n",
       "      <td>...</td>\n",
       "      <td>0</td>\n",
       "      <td>0</td>\n",
       "      <td>0</td>\n",
       "      <td>0</td>\n",
       "      <td>0</td>\n",
       "      <td>0</td>\n",
       "      <td>0</td>\n",
       "      <td>0</td>\n",
       "      <td>0</td>\n",
       "      <td>8</td>\n",
       "    </tr>\n",
       "    <tr>\n",
       "      <th>3</th>\n",
       "      <td>7</td>\n",
       "      <td>1</td>\n",
       "      <td>D4</td>\n",
       "      <td>10</td>\n",
       "      <td>0.487179</td>\n",
       "      <td>2</td>\n",
       "      <td>3</td>\n",
       "      <td>1</td>\n",
       "      <td>0.164179</td>\n",
       "      <td>0.672727</td>\n",
       "      <td>...</td>\n",
       "      <td>0</td>\n",
       "      <td>0</td>\n",
       "      <td>0</td>\n",
       "      <td>0</td>\n",
       "      <td>0</td>\n",
       "      <td>0</td>\n",
       "      <td>0</td>\n",
       "      <td>0</td>\n",
       "      <td>0</td>\n",
       "      <td>8</td>\n",
       "    </tr>\n",
       "    <tr>\n",
       "      <th>4</th>\n",
       "      <td>8</td>\n",
       "      <td>1</td>\n",
       "      <td>D2</td>\n",
       "      <td>26</td>\n",
       "      <td>0.230769</td>\n",
       "      <td>2</td>\n",
       "      <td>3</td>\n",
       "      <td>1</td>\n",
       "      <td>0.417910</td>\n",
       "      <td>0.654545</td>\n",
       "      <td>...</td>\n",
       "      <td>0</td>\n",
       "      <td>0</td>\n",
       "      <td>0</td>\n",
       "      <td>0</td>\n",
       "      <td>0</td>\n",
       "      <td>0</td>\n",
       "      <td>0</td>\n",
       "      <td>0</td>\n",
       "      <td>0</td>\n",
       "      <td>8</td>\n",
       "    </tr>\n",
       "  </tbody>\n",
       "</table>\n",
       "<p>5 rows × 128 columns</p>\n",
       "</div>"
      ],
      "text/plain": [
       "   Id  Product_Info_1 Product_Info_2  Product_Info_3  Product_Info_4  \\\n",
       "0   2               1             D3              10        0.076923   \n",
       "1   5               1             A1              26        0.076923   \n",
       "2   6               1             E1              26        0.076923   \n",
       "3   7               1             D4              10        0.487179   \n",
       "4   8               1             D2              26        0.230769   \n",
       "\n",
       "   Product_Info_5  Product_Info_6  Product_Info_7   Ins_Age        Ht  ...  \\\n",
       "0               2               1               1  0.641791  0.581818  ...   \n",
       "1               2               3               1  0.059701  0.600000  ...   \n",
       "2               2               3               1  0.029851  0.745455  ...   \n",
       "3               2               3               1  0.164179  0.672727  ...   \n",
       "4               2               3               1  0.417910  0.654545  ...   \n",
       "\n",
       "   Medical_Keyword_40  Medical_Keyword_41  Medical_Keyword_42  \\\n",
       "0                   0                   0                   0   \n",
       "1                   0                   0                   0   \n",
       "2                   0                   0                   0   \n",
       "3                   0                   0                   0   \n",
       "4                   0                   0                   0   \n",
       "\n",
       "   Medical_Keyword_43  Medical_Keyword_44  Medical_Keyword_45  \\\n",
       "0                   0                   0                   0   \n",
       "1                   0                   0                   0   \n",
       "2                   0                   0                   0   \n",
       "3                   0                   0                   0   \n",
       "4                   0                   0                   0   \n",
       "\n",
       "   Medical_Keyword_46  Medical_Keyword_47  Medical_Keyword_48  Response  \n",
       "0                   0                   0                   0         8  \n",
       "1                   0                   0                   0         4  \n",
       "2                   0                   0                   0         8  \n",
       "3                   0                   0                   0         8  \n",
       "4                   0                   0                   0         8  \n",
       "\n",
       "[5 rows x 128 columns]"
      ]
     },
     "execution_count": 3,
     "metadata": {},
     "output_type": "execute_result"
    }
   ],
   "source": [
    "df.head()"
   ]
  },
  {
   "cell_type": "code",
   "execution_count": 4,
   "metadata": {},
   "outputs": [
    {
     "data": {
      "text/plain": [
       "(array([dtype('int64'), dtype('float64'), dtype('O')], dtype=object),\n",
       " array([109,  18,   1], dtype=int64))"
      ]
     },
     "execution_count": 4,
     "metadata": {},
     "output_type": "execute_result"
    }
   ],
   "source": [
    "# В основном все в числовом виде, только один признак (Product_Info_2) закодирован какой-то видимо порядковой статистикой\n",
    "np.unique(df.dtypes.values, return_counts=True)"
   ]
  },
  {
   "cell_type": "code",
   "execution_count": 5,
   "metadata": {},
   "outputs": [
    {
     "data": {
      "text/plain": [
       "D3    14321\n",
       "D4    10812\n",
       "A8     6835\n",
       "D1     6554\n",
       "D2     6286\n",
       "E1     2647\n",
       "A1     2363\n",
       "A6     2098\n",
       "A2     1974\n",
       "A7     1383\n",
       "B2     1122\n",
       "A3      977\n",
       "A5      775\n",
       "C3      306\n",
       "C1      285\n",
       "C4      219\n",
       "A4      210\n",
       "C2      160\n",
       "B1       54\n",
       "Name: Product_Info_2, dtype: int64"
      ]
     },
     "execution_count": 5,
     "metadata": {},
     "output_type": "execute_result"
    }
   ],
   "source": [
    "# Да, можем потом перекодировать просто ранжированием, но в одном из обсуждений на кагл говорится что лучше \n",
    "# сделать несколько разных переменных, пусть так и будет, хотя не факт что это хорошо для не xgboost\n",
    "df['Product_Info_2'].value_counts()"
   ]
  },
  {
   "cell_type": "markdown",
   "metadata": {},
   "source": [
    "Признаков много, глянем что там вообще есть"
   ]
  },
  {
   "cell_type": "code",
   "execution_count": 6,
   "metadata": {},
   "outputs": [
    {
     "data": {
      "text/html": [
       "<div>\n",
       "<style scoped>\n",
       "    .dataframe tbody tr th:only-of-type {\n",
       "        vertical-align: middle;\n",
       "    }\n",
       "\n",
       "    .dataframe tbody tr th {\n",
       "        vertical-align: top;\n",
       "    }\n",
       "\n",
       "    .dataframe thead th {\n",
       "        text-align: right;\n",
       "    }\n",
       "</style>\n",
       "<table border=\"1\" class=\"dataframe\">\n",
       "  <thead>\n",
       "    <tr style=\"text-align: right;\">\n",
       "      <th></th>\n",
       "      <th>Product_Info_1</th>\n",
       "      <th>Product_Info_2</th>\n",
       "      <th>Product_Info_3</th>\n",
       "      <th>Product_Info_4</th>\n",
       "      <th>Product_Info_5</th>\n",
       "      <th>Product_Info_6</th>\n",
       "      <th>Product_Info_7</th>\n",
       "    </tr>\n",
       "  </thead>\n",
       "  <tbody>\n",
       "    <tr>\n",
       "      <th>0</th>\n",
       "      <td>1</td>\n",
       "      <td>D3</td>\n",
       "      <td>10</td>\n",
       "      <td>0.076923</td>\n",
       "      <td>2</td>\n",
       "      <td>1</td>\n",
       "      <td>1</td>\n",
       "    </tr>\n",
       "    <tr>\n",
       "      <th>1</th>\n",
       "      <td>1</td>\n",
       "      <td>A1</td>\n",
       "      <td>26</td>\n",
       "      <td>0.076923</td>\n",
       "      <td>2</td>\n",
       "      <td>3</td>\n",
       "      <td>1</td>\n",
       "    </tr>\n",
       "    <tr>\n",
       "      <th>2</th>\n",
       "      <td>1</td>\n",
       "      <td>E1</td>\n",
       "      <td>26</td>\n",
       "      <td>0.076923</td>\n",
       "      <td>2</td>\n",
       "      <td>3</td>\n",
       "      <td>1</td>\n",
       "    </tr>\n",
       "    <tr>\n",
       "      <th>3</th>\n",
       "      <td>1</td>\n",
       "      <td>D4</td>\n",
       "      <td>10</td>\n",
       "      <td>0.487179</td>\n",
       "      <td>2</td>\n",
       "      <td>3</td>\n",
       "      <td>1</td>\n",
       "    </tr>\n",
       "    <tr>\n",
       "      <th>4</th>\n",
       "      <td>1</td>\n",
       "      <td>D2</td>\n",
       "      <td>26</td>\n",
       "      <td>0.230769</td>\n",
       "      <td>2</td>\n",
       "      <td>3</td>\n",
       "      <td>1</td>\n",
       "    </tr>\n",
       "  </tbody>\n",
       "</table>\n",
       "</div>"
      ],
      "text/plain": [
       "   Product_Info_1 Product_Info_2  Product_Info_3  Product_Info_4  \\\n",
       "0               1             D3              10        0.076923   \n",
       "1               1             A1              26        0.076923   \n",
       "2               1             E1              26        0.076923   \n",
       "3               1             D4              10        0.487179   \n",
       "4               1             D2              26        0.230769   \n",
       "\n",
       "   Product_Info_5  Product_Info_6  Product_Info_7  \n",
       "0               2               1               1  \n",
       "1               2               3               1  \n",
       "2               2               3               1  \n",
       "3               2               3               1  \n",
       "4               2               3               1  "
      ]
     },
     "execution_count": 6,
     "metadata": {},
     "output_type": "execute_result"
    }
   ],
   "source": [
    "# Product_Info\n",
    "df[df.columns[df.columns.str.contains('Product_Info')]].head()"
   ]
  },
  {
   "cell_type": "code",
   "execution_count": 7,
   "metadata": {},
   "outputs": [
    {
     "data": {
      "text/html": [
       "<div>\n",
       "<style scoped>\n",
       "    .dataframe tbody tr th:only-of-type {\n",
       "        vertical-align: middle;\n",
       "    }\n",
       "\n",
       "    .dataframe tbody tr th {\n",
       "        vertical-align: top;\n",
       "    }\n",
       "\n",
       "    .dataframe thead th {\n",
       "        text-align: right;\n",
       "    }\n",
       "</style>\n",
       "<table border=\"1\" class=\"dataframe\">\n",
       "  <thead>\n",
       "    <tr style=\"text-align: right;\">\n",
       "      <th></th>\n",
       "      <th>Employment_Info_1</th>\n",
       "      <th>Employment_Info_2</th>\n",
       "      <th>Employment_Info_3</th>\n",
       "      <th>Employment_Info_4</th>\n",
       "      <th>Employment_Info_5</th>\n",
       "      <th>Employment_Info_6</th>\n",
       "    </tr>\n",
       "  </thead>\n",
       "  <tbody>\n",
       "    <tr>\n",
       "      <th>0</th>\n",
       "      <td>0.028</td>\n",
       "      <td>12</td>\n",
       "      <td>1</td>\n",
       "      <td>0.0</td>\n",
       "      <td>3</td>\n",
       "      <td>NaN</td>\n",
       "    </tr>\n",
       "    <tr>\n",
       "      <th>1</th>\n",
       "      <td>0.000</td>\n",
       "      <td>1</td>\n",
       "      <td>3</td>\n",
       "      <td>0.0</td>\n",
       "      <td>2</td>\n",
       "      <td>0.0018</td>\n",
       "    </tr>\n",
       "    <tr>\n",
       "      <th>2</th>\n",
       "      <td>0.030</td>\n",
       "      <td>9</td>\n",
       "      <td>1</td>\n",
       "      <td>0.0</td>\n",
       "      <td>2</td>\n",
       "      <td>0.0300</td>\n",
       "    </tr>\n",
       "    <tr>\n",
       "      <th>3</th>\n",
       "      <td>0.042</td>\n",
       "      <td>9</td>\n",
       "      <td>1</td>\n",
       "      <td>0.0</td>\n",
       "      <td>3</td>\n",
       "      <td>0.2000</td>\n",
       "    </tr>\n",
       "    <tr>\n",
       "      <th>4</th>\n",
       "      <td>0.027</td>\n",
       "      <td>9</td>\n",
       "      <td>1</td>\n",
       "      <td>0.0</td>\n",
       "      <td>2</td>\n",
       "      <td>0.0500</td>\n",
       "    </tr>\n",
       "  </tbody>\n",
       "</table>\n",
       "</div>"
      ],
      "text/plain": [
       "   Employment_Info_1  Employment_Info_2  Employment_Info_3  Employment_Info_4  \\\n",
       "0              0.028                 12                  1                0.0   \n",
       "1              0.000                  1                  3                0.0   \n",
       "2              0.030                  9                  1                0.0   \n",
       "3              0.042                  9                  1                0.0   \n",
       "4              0.027                  9                  1                0.0   \n",
       "\n",
       "   Employment_Info_5  Employment_Info_6  \n",
       "0                  3                NaN  \n",
       "1                  2             0.0018  \n",
       "2                  2             0.0300  \n",
       "3                  3             0.2000  \n",
       "4                  2             0.0500  "
      ]
     },
     "execution_count": 7,
     "metadata": {},
     "output_type": "execute_result"
    }
   ],
   "source": [
    "# Employment_Info\n",
    "df[df.columns[df.columns.str.contains('Employment_Info')]].head()"
   ]
  },
  {
   "cell_type": "code",
   "execution_count": 8,
   "metadata": {},
   "outputs": [
    {
     "data": {
      "text/html": [
       "<div>\n",
       "<style scoped>\n",
       "    .dataframe tbody tr th:only-of-type {\n",
       "        vertical-align: middle;\n",
       "    }\n",
       "\n",
       "    .dataframe tbody tr th {\n",
       "        vertical-align: top;\n",
       "    }\n",
       "\n",
       "    .dataframe thead th {\n",
       "        text-align: right;\n",
       "    }\n",
       "</style>\n",
       "<table border=\"1\" class=\"dataframe\">\n",
       "  <thead>\n",
       "    <tr style=\"text-align: right;\">\n",
       "      <th></th>\n",
       "      <th>Medical_Keyword_1</th>\n",
       "      <th>Medical_Keyword_2</th>\n",
       "      <th>Medical_Keyword_3</th>\n",
       "      <th>Medical_Keyword_4</th>\n",
       "      <th>Medical_Keyword_5</th>\n",
       "      <th>Medical_Keyword_6</th>\n",
       "      <th>Medical_Keyword_7</th>\n",
       "      <th>Medical_Keyword_8</th>\n",
       "      <th>Medical_Keyword_9</th>\n",
       "      <th>Medical_Keyword_10</th>\n",
       "      <th>...</th>\n",
       "      <th>Medical_Keyword_39</th>\n",
       "      <th>Medical_Keyword_40</th>\n",
       "      <th>Medical_Keyword_41</th>\n",
       "      <th>Medical_Keyword_42</th>\n",
       "      <th>Medical_Keyword_43</th>\n",
       "      <th>Medical_Keyword_44</th>\n",
       "      <th>Medical_Keyword_45</th>\n",
       "      <th>Medical_Keyword_46</th>\n",
       "      <th>Medical_Keyword_47</th>\n",
       "      <th>Medical_Keyword_48</th>\n",
       "    </tr>\n",
       "  </thead>\n",
       "  <tbody>\n",
       "    <tr>\n",
       "      <th>0</th>\n",
       "      <td>0</td>\n",
       "      <td>0</td>\n",
       "      <td>0</td>\n",
       "      <td>0</td>\n",
       "      <td>0</td>\n",
       "      <td>0</td>\n",
       "      <td>0</td>\n",
       "      <td>0</td>\n",
       "      <td>0</td>\n",
       "      <td>0</td>\n",
       "      <td>...</td>\n",
       "      <td>0</td>\n",
       "      <td>0</td>\n",
       "      <td>0</td>\n",
       "      <td>0</td>\n",
       "      <td>0</td>\n",
       "      <td>0</td>\n",
       "      <td>0</td>\n",
       "      <td>0</td>\n",
       "      <td>0</td>\n",
       "      <td>0</td>\n",
       "    </tr>\n",
       "    <tr>\n",
       "      <th>1</th>\n",
       "      <td>0</td>\n",
       "      <td>0</td>\n",
       "      <td>0</td>\n",
       "      <td>0</td>\n",
       "      <td>0</td>\n",
       "      <td>0</td>\n",
       "      <td>0</td>\n",
       "      <td>0</td>\n",
       "      <td>0</td>\n",
       "      <td>0</td>\n",
       "      <td>...</td>\n",
       "      <td>0</td>\n",
       "      <td>0</td>\n",
       "      <td>0</td>\n",
       "      <td>0</td>\n",
       "      <td>0</td>\n",
       "      <td>0</td>\n",
       "      <td>0</td>\n",
       "      <td>0</td>\n",
       "      <td>0</td>\n",
       "      <td>0</td>\n",
       "    </tr>\n",
       "    <tr>\n",
       "      <th>2</th>\n",
       "      <td>0</td>\n",
       "      <td>0</td>\n",
       "      <td>0</td>\n",
       "      <td>0</td>\n",
       "      <td>0</td>\n",
       "      <td>0</td>\n",
       "      <td>0</td>\n",
       "      <td>0</td>\n",
       "      <td>0</td>\n",
       "      <td>0</td>\n",
       "      <td>...</td>\n",
       "      <td>0</td>\n",
       "      <td>0</td>\n",
       "      <td>0</td>\n",
       "      <td>0</td>\n",
       "      <td>0</td>\n",
       "      <td>0</td>\n",
       "      <td>0</td>\n",
       "      <td>0</td>\n",
       "      <td>0</td>\n",
       "      <td>0</td>\n",
       "    </tr>\n",
       "    <tr>\n",
       "      <th>3</th>\n",
       "      <td>0</td>\n",
       "      <td>0</td>\n",
       "      <td>0</td>\n",
       "      <td>0</td>\n",
       "      <td>0</td>\n",
       "      <td>0</td>\n",
       "      <td>0</td>\n",
       "      <td>0</td>\n",
       "      <td>0</td>\n",
       "      <td>0</td>\n",
       "      <td>...</td>\n",
       "      <td>0</td>\n",
       "      <td>0</td>\n",
       "      <td>0</td>\n",
       "      <td>0</td>\n",
       "      <td>0</td>\n",
       "      <td>0</td>\n",
       "      <td>0</td>\n",
       "      <td>0</td>\n",
       "      <td>0</td>\n",
       "      <td>0</td>\n",
       "    </tr>\n",
       "    <tr>\n",
       "      <th>4</th>\n",
       "      <td>0</td>\n",
       "      <td>0</td>\n",
       "      <td>0</td>\n",
       "      <td>0</td>\n",
       "      <td>0</td>\n",
       "      <td>0</td>\n",
       "      <td>0</td>\n",
       "      <td>0</td>\n",
       "      <td>0</td>\n",
       "      <td>0</td>\n",
       "      <td>...</td>\n",
       "      <td>0</td>\n",
       "      <td>0</td>\n",
       "      <td>0</td>\n",
       "      <td>0</td>\n",
       "      <td>0</td>\n",
       "      <td>0</td>\n",
       "      <td>0</td>\n",
       "      <td>0</td>\n",
       "      <td>0</td>\n",
       "      <td>0</td>\n",
       "    </tr>\n",
       "  </tbody>\n",
       "</table>\n",
       "<p>5 rows × 48 columns</p>\n",
       "</div>"
      ],
      "text/plain": [
       "   Medical_Keyword_1  Medical_Keyword_2  Medical_Keyword_3  Medical_Keyword_4  \\\n",
       "0                  0                  0                  0                  0   \n",
       "1                  0                  0                  0                  0   \n",
       "2                  0                  0                  0                  0   \n",
       "3                  0                  0                  0                  0   \n",
       "4                  0                  0                  0                  0   \n",
       "\n",
       "   Medical_Keyword_5  Medical_Keyword_6  Medical_Keyword_7  Medical_Keyword_8  \\\n",
       "0                  0                  0                  0                  0   \n",
       "1                  0                  0                  0                  0   \n",
       "2                  0                  0                  0                  0   \n",
       "3                  0                  0                  0                  0   \n",
       "4                  0                  0                  0                  0   \n",
       "\n",
       "   Medical_Keyword_9  Medical_Keyword_10  ...  Medical_Keyword_39  \\\n",
       "0                  0                   0  ...                   0   \n",
       "1                  0                   0  ...                   0   \n",
       "2                  0                   0  ...                   0   \n",
       "3                  0                   0  ...                   0   \n",
       "4                  0                   0  ...                   0   \n",
       "\n",
       "   Medical_Keyword_40  Medical_Keyword_41  Medical_Keyword_42  \\\n",
       "0                   0                   0                   0   \n",
       "1                   0                   0                   0   \n",
       "2                   0                   0                   0   \n",
       "3                   0                   0                   0   \n",
       "4                   0                   0                   0   \n",
       "\n",
       "   Medical_Keyword_43  Medical_Keyword_44  Medical_Keyword_45  \\\n",
       "0                   0                   0                   0   \n",
       "1                   0                   0                   0   \n",
       "2                   0                   0                   0   \n",
       "3                   0                   0                   0   \n",
       "4                   0                   0                   0   \n",
       "\n",
       "   Medical_Keyword_46  Medical_Keyword_47  Medical_Keyword_48  \n",
       "0                   0                   0                   0  \n",
       "1                   0                   0                   0  \n",
       "2                   0                   0                   0  \n",
       "3                   0                   0                   0  \n",
       "4                   0                   0                   0  \n",
       "\n",
       "[5 rows x 48 columns]"
      ]
     },
     "execution_count": 8,
     "metadata": {},
     "output_type": "execute_result"
    }
   ],
   "source": [
    "# Medical_Keyword\n",
    "df[df.columns[df.columns.str.contains('Medical_Keyword')]].head()"
   ]
  },
  {
   "cell_type": "code",
   "execution_count": 9,
   "metadata": {},
   "outputs": [
    {
     "data": {
      "text/html": [
       "<div>\n",
       "<style scoped>\n",
       "    .dataframe tbody tr th:only-of-type {\n",
       "        vertical-align: middle;\n",
       "    }\n",
       "\n",
       "    .dataframe tbody tr th {\n",
       "        vertical-align: top;\n",
       "    }\n",
       "\n",
       "    .dataframe thead th {\n",
       "        text-align: right;\n",
       "    }\n",
       "</style>\n",
       "<table border=\"1\" class=\"dataframe\">\n",
       "  <thead>\n",
       "    <tr style=\"text-align: right;\">\n",
       "      <th></th>\n",
       "      <th>Medical_History_1</th>\n",
       "      <th>Medical_History_2</th>\n",
       "      <th>Medical_History_3</th>\n",
       "      <th>Medical_History_4</th>\n",
       "      <th>Medical_History_5</th>\n",
       "      <th>Medical_History_6</th>\n",
       "      <th>Medical_History_7</th>\n",
       "      <th>Medical_History_8</th>\n",
       "      <th>Medical_History_9</th>\n",
       "      <th>Medical_History_10</th>\n",
       "      <th>...</th>\n",
       "      <th>Medical_History_32</th>\n",
       "      <th>Medical_History_33</th>\n",
       "      <th>Medical_History_34</th>\n",
       "      <th>Medical_History_35</th>\n",
       "      <th>Medical_History_36</th>\n",
       "      <th>Medical_History_37</th>\n",
       "      <th>Medical_History_38</th>\n",
       "      <th>Medical_History_39</th>\n",
       "      <th>Medical_History_40</th>\n",
       "      <th>Medical_History_41</th>\n",
       "    </tr>\n",
       "  </thead>\n",
       "  <tbody>\n",
       "    <tr>\n",
       "      <th>0</th>\n",
       "      <td>4.0</td>\n",
       "      <td>112</td>\n",
       "      <td>2</td>\n",
       "      <td>1</td>\n",
       "      <td>1</td>\n",
       "      <td>3</td>\n",
       "      <td>2</td>\n",
       "      <td>2</td>\n",
       "      <td>1</td>\n",
       "      <td>NaN</td>\n",
       "      <td>...</td>\n",
       "      <td>NaN</td>\n",
       "      <td>1</td>\n",
       "      <td>3</td>\n",
       "      <td>1</td>\n",
       "      <td>2</td>\n",
       "      <td>2</td>\n",
       "      <td>1</td>\n",
       "      <td>3</td>\n",
       "      <td>3</td>\n",
       "      <td>3</td>\n",
       "    </tr>\n",
       "    <tr>\n",
       "      <th>1</th>\n",
       "      <td>5.0</td>\n",
       "      <td>412</td>\n",
       "      <td>2</td>\n",
       "      <td>1</td>\n",
       "      <td>1</td>\n",
       "      <td>3</td>\n",
       "      <td>2</td>\n",
       "      <td>2</td>\n",
       "      <td>1</td>\n",
       "      <td>NaN</td>\n",
       "      <td>...</td>\n",
       "      <td>NaN</td>\n",
       "      <td>3</td>\n",
       "      <td>1</td>\n",
       "      <td>1</td>\n",
       "      <td>2</td>\n",
       "      <td>2</td>\n",
       "      <td>1</td>\n",
       "      <td>3</td>\n",
       "      <td>3</td>\n",
       "      <td>1</td>\n",
       "    </tr>\n",
       "    <tr>\n",
       "      <th>2</th>\n",
       "      <td>10.0</td>\n",
       "      <td>3</td>\n",
       "      <td>2</td>\n",
       "      <td>2</td>\n",
       "      <td>1</td>\n",
       "      <td>3</td>\n",
       "      <td>2</td>\n",
       "      <td>2</td>\n",
       "      <td>2</td>\n",
       "      <td>NaN</td>\n",
       "      <td>...</td>\n",
       "      <td>NaN</td>\n",
       "      <td>3</td>\n",
       "      <td>3</td>\n",
       "      <td>1</td>\n",
       "      <td>3</td>\n",
       "      <td>2</td>\n",
       "      <td>1</td>\n",
       "      <td>3</td>\n",
       "      <td>3</td>\n",
       "      <td>1</td>\n",
       "    </tr>\n",
       "    <tr>\n",
       "      <th>3</th>\n",
       "      <td>0.0</td>\n",
       "      <td>350</td>\n",
       "      <td>2</td>\n",
       "      <td>2</td>\n",
       "      <td>1</td>\n",
       "      <td>3</td>\n",
       "      <td>2</td>\n",
       "      <td>2</td>\n",
       "      <td>2</td>\n",
       "      <td>NaN</td>\n",
       "      <td>...</td>\n",
       "      <td>NaN</td>\n",
       "      <td>3</td>\n",
       "      <td>3</td>\n",
       "      <td>1</td>\n",
       "      <td>2</td>\n",
       "      <td>2</td>\n",
       "      <td>1</td>\n",
       "      <td>3</td>\n",
       "      <td>3</td>\n",
       "      <td>1</td>\n",
       "    </tr>\n",
       "    <tr>\n",
       "      <th>4</th>\n",
       "      <td>NaN</td>\n",
       "      <td>162</td>\n",
       "      <td>2</td>\n",
       "      <td>2</td>\n",
       "      <td>1</td>\n",
       "      <td>3</td>\n",
       "      <td>2</td>\n",
       "      <td>2</td>\n",
       "      <td>2</td>\n",
       "      <td>NaN</td>\n",
       "      <td>...</td>\n",
       "      <td>NaN</td>\n",
       "      <td>3</td>\n",
       "      <td>3</td>\n",
       "      <td>1</td>\n",
       "      <td>3</td>\n",
       "      <td>2</td>\n",
       "      <td>1</td>\n",
       "      <td>3</td>\n",
       "      <td>3</td>\n",
       "      <td>1</td>\n",
       "    </tr>\n",
       "  </tbody>\n",
       "</table>\n",
       "<p>5 rows × 41 columns</p>\n",
       "</div>"
      ],
      "text/plain": [
       "   Medical_History_1  Medical_History_2  Medical_History_3  Medical_History_4  \\\n",
       "0                4.0                112                  2                  1   \n",
       "1                5.0                412                  2                  1   \n",
       "2               10.0                  3                  2                  2   \n",
       "3                0.0                350                  2                  2   \n",
       "4                NaN                162                  2                  2   \n",
       "\n",
       "   Medical_History_5  Medical_History_6  Medical_History_7  Medical_History_8  \\\n",
       "0                  1                  3                  2                  2   \n",
       "1                  1                  3                  2                  2   \n",
       "2                  1                  3                  2                  2   \n",
       "3                  1                  3                  2                  2   \n",
       "4                  1                  3                  2                  2   \n",
       "\n",
       "   Medical_History_9  Medical_History_10  ...  Medical_History_32  \\\n",
       "0                  1                 NaN  ...                 NaN   \n",
       "1                  1                 NaN  ...                 NaN   \n",
       "2                  2                 NaN  ...                 NaN   \n",
       "3                  2                 NaN  ...                 NaN   \n",
       "4                  2                 NaN  ...                 NaN   \n",
       "\n",
       "   Medical_History_33  Medical_History_34  Medical_History_35  \\\n",
       "0                   1                   3                   1   \n",
       "1                   3                   1                   1   \n",
       "2                   3                   3                   1   \n",
       "3                   3                   3                   1   \n",
       "4                   3                   3                   1   \n",
       "\n",
       "   Medical_History_36  Medical_History_37  Medical_History_38  \\\n",
       "0                   2                   2                   1   \n",
       "1                   2                   2                   1   \n",
       "2                   3                   2                   1   \n",
       "3                   2                   2                   1   \n",
       "4                   3                   2                   1   \n",
       "\n",
       "   Medical_History_39  Medical_History_40  Medical_History_41  \n",
       "0                   3                   3                   3  \n",
       "1                   3                   3                   1  \n",
       "2                   3                   3                   1  \n",
       "3                   3                   3                   1  \n",
       "4                   3                   3                   1  \n",
       "\n",
       "[5 rows x 41 columns]"
      ]
     },
     "execution_count": 9,
     "metadata": {},
     "output_type": "execute_result"
    }
   ],
   "source": [
    "# Medical_History\n",
    "df[df.columns[df.columns.str.contains('Medical_History')]].head()"
   ]
  },
  {
   "cell_type": "code",
   "execution_count": 10,
   "metadata": {},
   "outputs": [
    {
     "data": {
      "text/html": [
       "<div>\n",
       "<style scoped>\n",
       "    .dataframe tbody tr th:only-of-type {\n",
       "        vertical-align: middle;\n",
       "    }\n",
       "\n",
       "    .dataframe tbody tr th {\n",
       "        vertical-align: top;\n",
       "    }\n",
       "\n",
       "    .dataframe thead th {\n",
       "        text-align: right;\n",
       "    }\n",
       "</style>\n",
       "<table border=\"1\" class=\"dataframe\">\n",
       "  <thead>\n",
       "    <tr style=\"text-align: right;\">\n",
       "      <th></th>\n",
       "      <th>Insurance_History_1</th>\n",
       "      <th>Insurance_History_2</th>\n",
       "      <th>Insurance_History_3</th>\n",
       "      <th>Insurance_History_4</th>\n",
       "      <th>Insurance_History_5</th>\n",
       "      <th>Insurance_History_7</th>\n",
       "      <th>Insurance_History_8</th>\n",
       "      <th>Insurance_History_9</th>\n",
       "    </tr>\n",
       "  </thead>\n",
       "  <tbody>\n",
       "    <tr>\n",
       "      <th>0</th>\n",
       "      <td>1</td>\n",
       "      <td>1</td>\n",
       "      <td>3</td>\n",
       "      <td>1</td>\n",
       "      <td>0.000667</td>\n",
       "      <td>1</td>\n",
       "      <td>1</td>\n",
       "      <td>2</td>\n",
       "    </tr>\n",
       "    <tr>\n",
       "      <th>1</th>\n",
       "      <td>2</td>\n",
       "      <td>1</td>\n",
       "      <td>3</td>\n",
       "      <td>1</td>\n",
       "      <td>0.000133</td>\n",
       "      <td>1</td>\n",
       "      <td>3</td>\n",
       "      <td>2</td>\n",
       "    </tr>\n",
       "    <tr>\n",
       "      <th>2</th>\n",
       "      <td>2</td>\n",
       "      <td>1</td>\n",
       "      <td>1</td>\n",
       "      <td>3</td>\n",
       "      <td>NaN</td>\n",
       "      <td>3</td>\n",
       "      <td>2</td>\n",
       "      <td>3</td>\n",
       "    </tr>\n",
       "    <tr>\n",
       "      <th>3</th>\n",
       "      <td>2</td>\n",
       "      <td>1</td>\n",
       "      <td>1</td>\n",
       "      <td>3</td>\n",
       "      <td>NaN</td>\n",
       "      <td>3</td>\n",
       "      <td>2</td>\n",
       "      <td>3</td>\n",
       "    </tr>\n",
       "    <tr>\n",
       "      <th>4</th>\n",
       "      <td>2</td>\n",
       "      <td>1</td>\n",
       "      <td>1</td>\n",
       "      <td>3</td>\n",
       "      <td>NaN</td>\n",
       "      <td>3</td>\n",
       "      <td>2</td>\n",
       "      <td>3</td>\n",
       "    </tr>\n",
       "  </tbody>\n",
       "</table>\n",
       "</div>"
      ],
      "text/plain": [
       "   Insurance_History_1  Insurance_History_2  Insurance_History_3  \\\n",
       "0                    1                    1                    3   \n",
       "1                    2                    1                    3   \n",
       "2                    2                    1                    1   \n",
       "3                    2                    1                    1   \n",
       "4                    2                    1                    1   \n",
       "\n",
       "   Insurance_History_4  Insurance_History_5  Insurance_History_7  \\\n",
       "0                    1             0.000667                    1   \n",
       "1                    1             0.000133                    1   \n",
       "2                    3                  NaN                    3   \n",
       "3                    3                  NaN                    3   \n",
       "4                    3                  NaN                    3   \n",
       "\n",
       "   Insurance_History_8  Insurance_History_9  \n",
       "0                    1                    2  \n",
       "1                    3                    2  \n",
       "2                    2                    3  \n",
       "3                    2                    3  \n",
       "4                    2                    3  "
      ]
     },
     "execution_count": 10,
     "metadata": {},
     "output_type": "execute_result"
    }
   ],
   "source": [
    "# Insurance_History\n",
    "df[df.columns[df.columns.str.contains('Insurance_History')]].head()"
   ]
  },
  {
   "cell_type": "code",
   "execution_count": 11,
   "metadata": {},
   "outputs": [
    {
     "data": {
      "text/html": [
       "<div>\n",
       "<style scoped>\n",
       "    .dataframe tbody tr th:only-of-type {\n",
       "        vertical-align: middle;\n",
       "    }\n",
       "\n",
       "    .dataframe tbody tr th {\n",
       "        vertical-align: top;\n",
       "    }\n",
       "\n",
       "    .dataframe thead th {\n",
       "        text-align: right;\n",
       "    }\n",
       "</style>\n",
       "<table border=\"1\" class=\"dataframe\">\n",
       "  <thead>\n",
       "    <tr style=\"text-align: right;\">\n",
       "      <th></th>\n",
       "      <th>InsuredInfo_1</th>\n",
       "      <th>InsuredInfo_2</th>\n",
       "      <th>InsuredInfo_3</th>\n",
       "      <th>InsuredInfo_4</th>\n",
       "      <th>InsuredInfo_5</th>\n",
       "      <th>InsuredInfo_6</th>\n",
       "      <th>InsuredInfo_7</th>\n",
       "    </tr>\n",
       "  </thead>\n",
       "  <tbody>\n",
       "    <tr>\n",
       "      <th>0</th>\n",
       "      <td>1</td>\n",
       "      <td>2</td>\n",
       "      <td>6</td>\n",
       "      <td>3</td>\n",
       "      <td>1</td>\n",
       "      <td>2</td>\n",
       "      <td>1</td>\n",
       "    </tr>\n",
       "    <tr>\n",
       "      <th>1</th>\n",
       "      <td>1</td>\n",
       "      <td>2</td>\n",
       "      <td>6</td>\n",
       "      <td>3</td>\n",
       "      <td>1</td>\n",
       "      <td>2</td>\n",
       "      <td>1</td>\n",
       "    </tr>\n",
       "    <tr>\n",
       "      <th>2</th>\n",
       "      <td>1</td>\n",
       "      <td>2</td>\n",
       "      <td>8</td>\n",
       "      <td>3</td>\n",
       "      <td>1</td>\n",
       "      <td>1</td>\n",
       "      <td>1</td>\n",
       "    </tr>\n",
       "    <tr>\n",
       "      <th>3</th>\n",
       "      <td>2</td>\n",
       "      <td>2</td>\n",
       "      <td>8</td>\n",
       "      <td>3</td>\n",
       "      <td>1</td>\n",
       "      <td>2</td>\n",
       "      <td>1</td>\n",
       "    </tr>\n",
       "    <tr>\n",
       "      <th>4</th>\n",
       "      <td>1</td>\n",
       "      <td>2</td>\n",
       "      <td>6</td>\n",
       "      <td>3</td>\n",
       "      <td>1</td>\n",
       "      <td>2</td>\n",
       "      <td>1</td>\n",
       "    </tr>\n",
       "  </tbody>\n",
       "</table>\n",
       "</div>"
      ],
      "text/plain": [
       "   InsuredInfo_1  InsuredInfo_2  InsuredInfo_3  InsuredInfo_4  InsuredInfo_5  \\\n",
       "0              1              2              6              3              1   \n",
       "1              1              2              6              3              1   \n",
       "2              1              2              8              3              1   \n",
       "3              2              2              8              3              1   \n",
       "4              1              2              6              3              1   \n",
       "\n",
       "   InsuredInfo_6  InsuredInfo_7  \n",
       "0              2              1  \n",
       "1              2              1  \n",
       "2              1              1  \n",
       "3              2              1  \n",
       "4              2              1  "
      ]
     },
     "execution_count": 11,
     "metadata": {},
     "output_type": "execute_result"
    }
   ],
   "source": [
    "# Medical_History\n",
    "df[df.columns[df.columns.str.contains('InsuredInfo')]].head()"
   ]
  },
  {
   "cell_type": "code",
   "execution_count": 12,
   "metadata": {},
   "outputs": [
    {
     "data": {
      "text/html": [
       "<div>\n",
       "<style scoped>\n",
       "    .dataframe tbody tr th:only-of-type {\n",
       "        vertical-align: middle;\n",
       "    }\n",
       "\n",
       "    .dataframe tbody tr th {\n",
       "        vertical-align: top;\n",
       "    }\n",
       "\n",
       "    .dataframe thead th {\n",
       "        text-align: right;\n",
       "    }\n",
       "</style>\n",
       "<table border=\"1\" class=\"dataframe\">\n",
       "  <thead>\n",
       "    <tr style=\"text-align: right;\">\n",
       "      <th></th>\n",
       "      <th>Family_Hist_1</th>\n",
       "      <th>Family_Hist_2</th>\n",
       "      <th>Family_Hist_3</th>\n",
       "      <th>Family_Hist_4</th>\n",
       "      <th>Family_Hist_5</th>\n",
       "    </tr>\n",
       "  </thead>\n",
       "  <tbody>\n",
       "    <tr>\n",
       "      <th>0</th>\n",
       "      <td>2</td>\n",
       "      <td>NaN</td>\n",
       "      <td>0.598039</td>\n",
       "      <td>NaN</td>\n",
       "      <td>0.526786</td>\n",
       "    </tr>\n",
       "    <tr>\n",
       "      <th>1</th>\n",
       "      <td>2</td>\n",
       "      <td>0.188406</td>\n",
       "      <td>NaN</td>\n",
       "      <td>0.084507</td>\n",
       "      <td>NaN</td>\n",
       "    </tr>\n",
       "    <tr>\n",
       "      <th>2</th>\n",
       "      <td>3</td>\n",
       "      <td>0.304348</td>\n",
       "      <td>NaN</td>\n",
       "      <td>0.225352</td>\n",
       "      <td>NaN</td>\n",
       "    </tr>\n",
       "    <tr>\n",
       "      <th>3</th>\n",
       "      <td>3</td>\n",
       "      <td>0.420290</td>\n",
       "      <td>NaN</td>\n",
       "      <td>0.352113</td>\n",
       "      <td>NaN</td>\n",
       "    </tr>\n",
       "    <tr>\n",
       "      <th>4</th>\n",
       "      <td>2</td>\n",
       "      <td>0.463768</td>\n",
       "      <td>NaN</td>\n",
       "      <td>0.408451</td>\n",
       "      <td>NaN</td>\n",
       "    </tr>\n",
       "  </tbody>\n",
       "</table>\n",
       "</div>"
      ],
      "text/plain": [
       "   Family_Hist_1  Family_Hist_2  Family_Hist_3  Family_Hist_4  Family_Hist_5\n",
       "0              2            NaN       0.598039            NaN       0.526786\n",
       "1              2       0.188406            NaN       0.084507            NaN\n",
       "2              3       0.304348            NaN       0.225352            NaN\n",
       "3              3       0.420290            NaN       0.352113            NaN\n",
       "4              2       0.463768            NaN       0.408451            NaN"
      ]
     },
     "execution_count": 12,
     "metadata": {},
     "output_type": "execute_result"
    }
   ],
   "source": [
    "# Family_Hist\n",
    "df[df.columns[df.columns.str.contains('Family_Hist')]].head()"
   ]
  },
  {
   "cell_type": "code",
   "execution_count": 13,
   "metadata": {},
   "outputs": [
    {
     "data": {
      "text/html": [
       "<div>\n",
       "<style scoped>\n",
       "    .dataframe tbody tr th:only-of-type {\n",
       "        vertical-align: middle;\n",
       "    }\n",
       "\n",
       "    .dataframe tbody tr th {\n",
       "        vertical-align: top;\n",
       "    }\n",
       "\n",
       "    .dataframe thead th {\n",
       "        text-align: right;\n",
       "    }\n",
       "</style>\n",
       "<table border=\"1\" class=\"dataframe\">\n",
       "  <thead>\n",
       "    <tr style=\"text-align: right;\">\n",
       "      <th></th>\n",
       "      <th>Id</th>\n",
       "      <th>Ins_Age</th>\n",
       "      <th>Ht</th>\n",
       "      <th>Wt</th>\n",
       "      <th>BMI</th>\n",
       "      <th>Response</th>\n",
       "    </tr>\n",
       "  </thead>\n",
       "  <tbody>\n",
       "    <tr>\n",
       "      <th>0</th>\n",
       "      <td>2</td>\n",
       "      <td>0.641791</td>\n",
       "      <td>0.581818</td>\n",
       "      <td>0.148536</td>\n",
       "      <td>0.323008</td>\n",
       "      <td>8</td>\n",
       "    </tr>\n",
       "    <tr>\n",
       "      <th>1</th>\n",
       "      <td>5</td>\n",
       "      <td>0.059701</td>\n",
       "      <td>0.600000</td>\n",
       "      <td>0.131799</td>\n",
       "      <td>0.272288</td>\n",
       "      <td>4</td>\n",
       "    </tr>\n",
       "    <tr>\n",
       "      <th>2</th>\n",
       "      <td>6</td>\n",
       "      <td>0.029851</td>\n",
       "      <td>0.745455</td>\n",
       "      <td>0.288703</td>\n",
       "      <td>0.428780</td>\n",
       "      <td>8</td>\n",
       "    </tr>\n",
       "    <tr>\n",
       "      <th>3</th>\n",
       "      <td>7</td>\n",
       "      <td>0.164179</td>\n",
       "      <td>0.672727</td>\n",
       "      <td>0.205021</td>\n",
       "      <td>0.352438</td>\n",
       "      <td>8</td>\n",
       "    </tr>\n",
       "    <tr>\n",
       "      <th>4</th>\n",
       "      <td>8</td>\n",
       "      <td>0.417910</td>\n",
       "      <td>0.654545</td>\n",
       "      <td>0.234310</td>\n",
       "      <td>0.424046</td>\n",
       "      <td>8</td>\n",
       "    </tr>\n",
       "  </tbody>\n",
       "</table>\n",
       "</div>"
      ],
      "text/plain": [
       "   Id   Ins_Age        Ht        Wt       BMI  Response\n",
       "0   2  0.641791  0.581818  0.148536  0.323008         8\n",
       "1   5  0.059701  0.600000  0.131799  0.272288         4\n",
       "2   6  0.029851  0.745455  0.288703  0.428780         8\n",
       "3   7  0.164179  0.672727  0.205021  0.352438         8\n",
       "4   8  0.417910  0.654545  0.234310  0.424046         8"
      ]
     },
     "execution_count": 13,
     "metadata": {},
     "output_type": "execute_result"
    }
   ],
   "source": [
    "# Другие колонки\n",
    "df[df.columns[df.columns.str.contains('|'.join(['Product', 'Employment_Info', 'Medical_Keyword',\n",
    "                                             'Medical_History', 'Insurance_History', 'InsuredInfo',\n",
    "                                             'Family_Hist'])) == False]].head()"
   ]
  },
  {
   "cell_type": "markdown",
   "metadata": {},
   "source": [
    "В целом все параметры представляют из себя просто набор цифр с которыми мало что можно сделать, я просто взял скрипт из обсуждений, который помог занять второе место. Плюс еще добавил стандартизацию, для KNN полезно должно быть"
   ]
  },
  {
   "cell_type": "code",
   "execution_count": 14,
   "metadata": {},
   "outputs": [],
   "source": [
    "# Product_Info_2 перекодируем в несколько переменных\n",
    "df['Product_Info_2_char'] = df.Product_Info_2.str[0]\n",
    "df['Product_Info_2_num'] = df.Product_Info_2.str[1]\n",
    "df['Product_Info_2'] = pd.factorize(df['Product_Info_2'])[0]\n",
    "df['Product_Info_2_char'] = pd.factorize(df['Product_Info_2_char'])[0]\n",
    "df['Product_Info_2_num'] = pd.factorize(df['Product_Info_2_num'])[0]"
   ]
  },
  {
   "cell_type": "code",
   "execution_count": 15,
   "metadata": {},
   "outputs": [],
   "source": [
    "# что-то вроде индекса полноты на возраст\n",
    "df['BMI_Age'] = df['BMI'] * df['Ins_Age']\n",
    "# опять же фича из обсуждений на кагле\n",
    "med_keyword_columns = df.columns[df.columns.str.startswith('Medical_Keyword_')]\n",
    "df['Med_Keywords_Count'] = df[med_keyword_columns].sum(axis=1)\n",
    "df.drop(columns=med_keyword_columns, inplace=True)"
   ]
  },
  {
   "cell_type": "code",
   "execution_count": 16,
   "metadata": {},
   "outputs": [],
   "source": [
    "# странная фича, но пусть будет\n",
    "df['countna'] = df.apply(lambda x: sum(x.isnull()),1)"
   ]
  },
  {
   "cell_type": "code",
   "execution_count": 17,
   "metadata": {},
   "outputs": [
    {
     "data": {
      "text/plain": [
       "(59381, 84)"
      ]
     },
     "execution_count": 17,
     "metadata": {},
     "output_type": "execute_result"
    }
   ],
   "source": [
    "# id не особо нужен\n",
    "df.drop('Id', axis=1, inplace=True)\n",
    "df.shape"
   ]
  },
  {
   "cell_type": "code",
   "execution_count": 18,
   "metadata": {},
   "outputs": [],
   "source": [
    "# заполним единственный не числовой признак\n",
    "sorted_values = dict(zip(np.unique(df['Product_Info_2'].sort_values().values), range(len(df['Product_Info_2'].unique()))))\n",
    "df['Product_Info_2'] = df['Product_Info_2'].apply(lambda x: sorted_values[x])"
   ]
  },
  {
   "cell_type": "code",
   "execution_count": 19,
   "metadata": {},
   "outputs": [],
   "source": [
    "# бинарные признаки оставим без изменений\n",
    "from sklearn.preprocessing import StandardScaler\n",
    "scaler = StandardScaler()\n",
    "\n",
    "binaries_columns = [col for col in df if np.isin(df[col].dropna().unique(), [0, 1]).all()]\n",
    "standard_columns = [i for i in df.columns if i not in binaries_columns and i != 'Response']\n",
    "\n",
    "df[standard_columns] = scaler.fit_transform(df[standard_columns])"
   ]
  },
  {
   "cell_type": "code",
   "execution_count": 20,
   "metadata": {},
   "outputs": [
    {
     "data": {
      "text/plain": [
       "(59381, 79)"
      ]
     },
     "execution_count": 20,
     "metadata": {},
     "output_type": "execute_result"
    }
   ],
   "source": [
    "# удалим совсем плохо заполненные столбцы\n",
    "nan_columns = df.isna().sum()[df.isna().sum() != 0] / df.shape[0]\n",
    "df.drop(nan_columns[nan_columns > 0.7].keys(), axis=1, inplace=True)\n",
    "df.shape"
   ]
  },
  {
   "cell_type": "code",
   "execution_count": 21,
   "metadata": {},
   "outputs": [],
   "source": [
    "# остальные пропуски заполним чем-то очень большим\n",
    "df.fillna(-1000, inplace=True)\n",
    "assert all(df.isna().sum() == 0)"
   ]
  },
  {
   "cell_type": "code",
   "execution_count": 22,
   "metadata": {},
   "outputs": [
    {
     "data": {
      "text/html": [
       "<div>\n",
       "<style scoped>\n",
       "    .dataframe tbody tr th:only-of-type {\n",
       "        vertical-align: middle;\n",
       "    }\n",
       "\n",
       "    .dataframe tbody tr th {\n",
       "        vertical-align: top;\n",
       "    }\n",
       "\n",
       "    .dataframe thead th {\n",
       "        text-align: right;\n",
       "    }\n",
       "</style>\n",
       "<table border=\"1\" class=\"dataframe\">\n",
       "  <thead>\n",
       "    <tr style=\"text-align: right;\">\n",
       "      <th></th>\n",
       "      <th>Product_Info_1</th>\n",
       "      <th>Product_Info_2</th>\n",
       "      <th>Product_Info_3</th>\n",
       "      <th>Product_Info_4</th>\n",
       "      <th>Product_Info_5</th>\n",
       "      <th>Product_Info_6</th>\n",
       "      <th>Product_Info_7</th>\n",
       "      <th>Ins_Age</th>\n",
       "      <th>Ht</th>\n",
       "      <th>Wt</th>\n",
       "      <th>...</th>\n",
       "      <th>Medical_History_38</th>\n",
       "      <th>Medical_History_39</th>\n",
       "      <th>Medical_History_40</th>\n",
       "      <th>Medical_History_41</th>\n",
       "      <th>Response</th>\n",
       "      <th>Product_Info_2_char</th>\n",
       "      <th>Product_Info_2_num</th>\n",
       "      <th>BMI_Age</th>\n",
       "      <th>Med_Keywords_Count</th>\n",
       "      <th>countna</th>\n",
       "    </tr>\n",
       "  </thead>\n",
       "  <tbody>\n",
       "    <tr>\n",
       "      <th>0</th>\n",
       "      <td>-0.164525</td>\n",
       "      <td>-1.134051</td>\n",
       "      <td>-2.841731</td>\n",
       "      <td>-0.891949</td>\n",
       "      <td>-0.083689</td>\n",
       "      <td>-2.264385</td>\n",
       "      <td>-0.149284</td>\n",
       "      <td>1.197962</td>\n",
       "      <td>-1.690031</td>\n",
       "      <td>-1.617886</td>\n",
       "      <td>...</td>\n",
       "      <td>-0.069812</td>\n",
       "      <td>0.304099</td>\n",
       "      <td>0.128359</td>\n",
       "      <td>1.455973</td>\n",
       "      <td>8</td>\n",
       "      <td>-0.605233</td>\n",
       "      <td>-1.126402</td>\n",
       "      <td>0.121993</td>\n",
       "      <td>-0.854442</td>\n",
       "      <td>-0.572625</td>\n",
       "    </tr>\n",
       "    <tr>\n",
       "      <th>1</th>\n",
       "      <td>-0.164525</td>\n",
       "      <td>-0.852417</td>\n",
       "      <td>0.312319</td>\n",
       "      <td>-0.891949</td>\n",
       "      <td>-0.083689</td>\n",
       "      <td>0.441621</td>\n",
       "      <td>-0.149284</td>\n",
       "      <td>-1.753982</td>\n",
       "      <td>-1.445119</td>\n",
       "      <td>-1.805858</td>\n",
       "      <td>...</td>\n",
       "      <td>-0.069812</td>\n",
       "      <td>0.304099</td>\n",
       "      <td>0.128359</td>\n",
       "      <td>-0.686839</td>\n",
       "      <td>4</td>\n",
       "      <td>0.612101</td>\n",
       "      <td>-0.546185</td>\n",
       "      <td>-1.591454</td>\n",
       "      <td>-0.854442</td>\n",
       "      <td>-1.496194</td>\n",
       "    </tr>\n",
       "    <tr>\n",
       "      <th>2</th>\n",
       "      <td>-0.164525</td>\n",
       "      <td>-0.570782</td>\n",
       "      <td>0.312319</td>\n",
       "      <td>-0.891949</td>\n",
       "      <td>-0.083689</td>\n",
       "      <td>0.441621</td>\n",
       "      <td>-0.149284</td>\n",
       "      <td>-1.905363</td>\n",
       "      <td>0.514174</td>\n",
       "      <td>-0.043622</td>\n",
       "      <td>...</td>\n",
       "      <td>-0.069812</td>\n",
       "      <td>0.304099</td>\n",
       "      <td>0.128359</td>\n",
       "      <td>-0.686839</td>\n",
       "      <td>8</td>\n",
       "      <td>1.829435</td>\n",
       "      <td>-0.546185</td>\n",
       "      <td>-1.622455</td>\n",
       "      <td>-0.854442</td>\n",
       "      <td>0.350944</td>\n",
       "    </tr>\n",
       "    <tr>\n",
       "      <th>3</th>\n",
       "      <td>-0.164525</td>\n",
       "      <td>-0.289147</td>\n",
       "      <td>-2.841731</td>\n",
       "      <td>0.559979</td>\n",
       "      <td>-0.083689</td>\n",
       "      <td>0.441621</td>\n",
       "      <td>-0.149284</td>\n",
       "      <td>-1.224146</td>\n",
       "      <td>-0.465473</td>\n",
       "      <td>-0.983481</td>\n",
       "      <td>...</td>\n",
       "      <td>-0.069812</td>\n",
       "      <td>0.304099</td>\n",
       "      <td>0.128359</td>\n",
       "      <td>-0.686839</td>\n",
       "      <td>8</td>\n",
       "      <td>-0.605233</td>\n",
       "      <td>0.034033</td>\n",
       "      <td>-1.218294</td>\n",
       "      <td>-0.178868</td>\n",
       "      <td>0.350944</td>\n",
       "    </tr>\n",
       "    <tr>\n",
       "      <th>4</th>\n",
       "      <td>-0.164525</td>\n",
       "      <td>-0.007513</td>\n",
       "      <td>0.312319</td>\n",
       "      <td>-0.347476</td>\n",
       "      <td>-0.083689</td>\n",
       "      <td>0.441621</td>\n",
       "      <td>-0.149284</td>\n",
       "      <td>0.062599</td>\n",
       "      <td>-0.710384</td>\n",
       "      <td>-0.654530</td>\n",
       "      <td>...</td>\n",
       "      <td>-0.069812</td>\n",
       "      <td>0.304099</td>\n",
       "      <td>0.128359</td>\n",
       "      <td>-0.686839</td>\n",
       "      <td>8</td>\n",
       "      <td>-0.605233</td>\n",
       "      <td>0.614250</td>\n",
       "      <td>-0.147880</td>\n",
       "      <td>-0.854442</td>\n",
       "      <td>1.274513</td>\n",
       "    </tr>\n",
       "  </tbody>\n",
       "</table>\n",
       "<p>5 rows × 79 columns</p>\n",
       "</div>"
      ],
      "text/plain": [
       "   Product_Info_1  Product_Info_2  Product_Info_3  Product_Info_4  \\\n",
       "0       -0.164525       -1.134051       -2.841731       -0.891949   \n",
       "1       -0.164525       -0.852417        0.312319       -0.891949   \n",
       "2       -0.164525       -0.570782        0.312319       -0.891949   \n",
       "3       -0.164525       -0.289147       -2.841731        0.559979   \n",
       "4       -0.164525       -0.007513        0.312319       -0.347476   \n",
       "\n",
       "   Product_Info_5  Product_Info_6  Product_Info_7   Ins_Age        Ht  \\\n",
       "0       -0.083689       -2.264385       -0.149284  1.197962 -1.690031   \n",
       "1       -0.083689        0.441621       -0.149284 -1.753982 -1.445119   \n",
       "2       -0.083689        0.441621       -0.149284 -1.905363  0.514174   \n",
       "3       -0.083689        0.441621       -0.149284 -1.224146 -0.465473   \n",
       "4       -0.083689        0.441621       -0.149284  0.062599 -0.710384   \n",
       "\n",
       "         Wt  ...  Medical_History_38  Medical_History_39  Medical_History_40  \\\n",
       "0 -1.617886  ...           -0.069812            0.304099            0.128359   \n",
       "1 -1.805858  ...           -0.069812            0.304099            0.128359   \n",
       "2 -0.043622  ...           -0.069812            0.304099            0.128359   \n",
       "3 -0.983481  ...           -0.069812            0.304099            0.128359   \n",
       "4 -0.654530  ...           -0.069812            0.304099            0.128359   \n",
       "\n",
       "   Medical_History_41  Response  Product_Info_2_char  Product_Info_2_num  \\\n",
       "0            1.455973         8            -0.605233           -1.126402   \n",
       "1           -0.686839         4             0.612101           -0.546185   \n",
       "2           -0.686839         8             1.829435           -0.546185   \n",
       "3           -0.686839         8            -0.605233            0.034033   \n",
       "4           -0.686839         8            -0.605233            0.614250   \n",
       "\n",
       "    BMI_Age  Med_Keywords_Count   countna  \n",
       "0  0.121993           -0.854442 -0.572625  \n",
       "1 -1.591454           -0.854442 -1.496194  \n",
       "2 -1.622455           -0.854442  0.350944  \n",
       "3 -1.218294           -0.178868  0.350944  \n",
       "4 -0.147880           -0.854442  1.274513  \n",
       "\n",
       "[5 rows x 79 columns]"
      ]
     },
     "execution_count": 22,
     "metadata": {},
     "output_type": "execute_result"
    }
   ],
   "source": [
    "df.head()"
   ]
  },
  {
   "cell_type": "markdown",
   "metadata": {},
   "source": [
    "Больше на кагле ничего особо хорошего не нашел кроме разве что \"давайте возьмем корень из каких-то рандомных колонок\", но там не очень высокие результаты поэтому решил оставить так"
   ]
  },
  {
   "cell_type": "markdown",
   "metadata": {},
   "source": [
    "## Models"
   ]
  },
  {
   "cell_type": "markdown",
   "metadata": {},
   "source": [
    "Разобъем все на train и test (файл test.csv использовать не будем, т.к. не очень удобно тестировать качество)"
   ]
  },
  {
   "cell_type": "code",
   "execution_count": 23,
   "metadata": {},
   "outputs": [],
   "source": [
    "from sklearn.model_selection import train_test_split\n",
    "X_train, X_test, y_train, y_test = train_test_split(df.drop(columns='Response'), df['Response'], test_size=0.2, random_state=42)"
   ]
  },
  {
   "cell_type": "markdown",
   "metadata": {},
   "source": [
    "У нас возникает проблема что за метрику взять. У нас нет каких-то предпочтений в классах, т.е. ошибка в предсказании класса 4 равносильна ошибке в классе 7. Но классы распределены не очень равномерно к тому же наврное если мы ошиблись на один класс это менее страшно чем если бы мы ошиблись на несколько классов, т.к. таргет все же ранжированная переменная, а не просто какие-то обособленные классы. "
   ]
  },
  {
   "cell_type": "code",
   "execution_count": 24,
   "metadata": {},
   "outputs": [
    {
     "data": {
      "image/png": "[encoded data removed]",
      "text/plain": [
       "<Figure size 432x288 with 1 Axes>"
      ]
     },
     "metadata": {
      "needs_background": "light"
     },
     "output_type": "display_data"
    }
   ],
   "source": [
    "# посмотрим на распределение классов\n",
    "plt.bar(y_train.value_counts().keys(), y_train.value_counts().values)\n",
    "pass"
   ]
  },
  {
   "cell_type": "code",
   "execution_count": 25,
   "metadata": {},
   "outputs": [],
   "source": [
    "# Сделаем свою метрику, просто посчитаем на сколько мы в среднем ошибаемся\n",
    "def my_metric(y_true, y_pred):\n",
    "    error = sum(abs(y_pred - y_true)) / y_true.shape[0]\n",
    "    return error"
   ]
  },
  {
   "cell_type": "markdown",
   "metadata": {},
   "source": [
    "### KNN"
   ]
  },
  {
   "cell_type": "code",
   "execution_count": 26,
   "metadata": {},
   "outputs": [],
   "source": [
    "from sklearn.neighbors import KNeighborsClassifier\n",
    "from sklearn.metrics import accuracy_score, f1_score"
   ]
  },
  {
   "cell_type": "code",
   "execution_count": 27,
   "metadata": {},
   "outputs": [
    {
     "name": "stderr",
     "output_type": "stream",
     "text": [
      "100%|██████████| 30/30 [09:42<00:00, 19.43s/it]\n"
     ]
    }
   ],
   "source": [
    "# посмотрим на модели с разным количеством соседей для разных типов весов\n",
    "score_uniform = []\n",
    "score_distance = []\n",
    "best_score = 100000\n",
    "best_neighbors = 0\n",
    "\n",
    "for i in tqdm(range(1, 31)):\n",
    "    # init models\n",
    "    model_uniform = KNeighborsClassifier(n_jobs=-1, weights='uniform', n_neighbors=i)\n",
    "    model_distance = KNeighborsClassifier(n_jobs=-1, weights='distance', n_neighbors=i)\n",
    "    # fit models\n",
    "    model_uniform.fit(X_train, y_train)\n",
    "    model_distance.fit(X_train, y_train)\n",
    "    # get preds\n",
    "    pred_uniform = model_uniform.predict(X_test)\n",
    "    pred_distance = model_distance.predict(X_test)\n",
    "    # get score\n",
    "    temp_uniform = my_metric(y_test, pred_uniform)\n",
    "    temp_distance = my_metric(y_test, pred_distance)\n",
    "    if temp_uniform < best_score:\n",
    "        best_neighbors = [i, 'uniform']\n",
    "        best_score = temp_uniform\n",
    "    if temp_distance < best_score:\n",
    "        best_neighbors = [i, 'distance']\n",
    "        best_score = temp_distance\n",
    "    score_uniform.append(temp_uniform)\n",
    "    score_distance.append(temp_distance)"
   ]
  },
  {
   "cell_type": "code",
   "execution_count": 28,
   "metadata": {},
   "outputs": [
    {
     "name": "stdout",
     "output_type": "stream",
     "text": [
      "Best Neighbors: 16 and best weights: uniform\n"
     ]
    },
    {
     "data": {
      "image/png": "[encoded data removed]",
      "text/plain": [
       "<Figure size 432x288 with 1 Axes>"
      ]
     },
     "metadata": {
      "needs_background": "light"
     },
     "output_type": "display_data"
    }
   ],
   "source": [
    "# Визуализируем зависимость качества от количества соседей\n",
    "print('Best Neighbors: {} and best weights: {}'.format(best_neighbors[0], best_neighbors[1]))\n",
    "plt.plot(score_uniform)\n",
    "plt.plot(score_distance)\n",
    "plt.legend(['Uniform', 'Distance'])\n",
    "pass"
   ]
  },
  {
   "cell_type": "code",
   "execution_count": 29,
   "metadata": {},
   "outputs": [
    {
     "name": "stdout",
     "output_type": "stream",
     "text": [
      "Model score: 1.7699755830596953\n",
      "Wall time: 9.3 s\n"
     ]
    }
   ],
   "source": [
    "%%time\n",
    "# посмотрим на итоговое качество\n",
    "model = KNeighborsClassifier(n_jobs=-1, weights='uniform', n_neighbors=16)\n",
    "model.fit(X_train, y_train)\n",
    "y_pred = model.predict(X_test)\n",
    "score = my_metric(y_test, y_pred)\n",
    "print('Model score: {}'.format(score))"
   ]
  },
  {
   "cell_type": "code",
   "execution_count": 30,
   "metadata": {},
   "outputs": [
    {
     "data": {
      "image/png": "[encoded data removed]",
      "text/plain": [
       "<Figure size 720x360 with 2 Axes>"
      ]
     },
     "metadata": {
      "needs_background": "light"
     },
     "output_type": "display_data"
    }
   ],
   "source": [
    "# и на confusion matrix\n",
    "from sklearn.metrics import confusion_matrix, plot_confusion_matrix\n",
    "cf_matrix = confusion_matrix(y_test, y_pred)\n",
    "fig, ax = plt.subplots(figsize=(10, 5))\n",
    "plot_confusion_matrix(model, X_test, y_test, cmap=plt.cm.Blues, ax=ax, normalize='true', values_format='.2f')\n",
    "pass"
   ]
  },
  {
   "cell_type": "markdown",
   "metadata": {},
   "source": [
    "Выглядит довольно плохо, в целом такой классификатор использовать нельзя"
   ]
  },
  {
   "cell_type": "markdown",
   "metadata": {},
   "source": [
    "### Logistic Regression"
   ]
  },
  {
   "cell_type": "code",
   "execution_count": 31,
   "metadata": {},
   "outputs": [],
   "source": [
    "from sklearn.linear_model import LogisticRegression"
   ]
  },
  {
   "cell_type": "code",
   "execution_count": 32,
   "metadata": {},
   "outputs": [
    {
     "name": "stdout",
     "output_type": "stream",
     "text": [
      "Model score: 1.5429822345710196\n",
      "Wall time: 42.3 s\n"
     ]
    },
    {
     "name": "stderr",
     "output_type": "stream",
     "text": [
      "C:\\Users\\Maksim_Krug\\Anaconda3\\lib\\site-packages\\sklearn\\linear_model\\_logistic.py:764: ConvergenceWarning: lbfgs failed to converge (status=1):\n",
      "STOP: TOTAL NO. of ITERATIONS REACHED LIMIT.\n",
      "\n",
      "Increase the number of iterations (max_iter) or scale the data as shown in:\n",
      "    https://scikit-learn.org/stable/modules/preprocessing.html\n",
      "Please also refer to the documentation for alternative solver options:\n",
      "    https://scikit-learn.org/stable/modules/linear_model.html#logistic-regression\n",
      "  extra_warning_msg=_LOGISTIC_SOLVER_CONVERGENCE_MSG)\n"
     ]
    }
   ],
   "source": [
    "%%time\n",
    "model = LogisticRegression(max_iter=1000)\n",
    "model.fit(X_train, y_train)\n",
    "y_pred = model.predict(X_test)\n",
    "score = my_metric(y_test, y_pred)\n",
    "print('Model score: {}'.format(score))"
   ]
  },
  {
   "cell_type": "code",
   "execution_count": 33,
   "metadata": {},
   "outputs": [
    {
     "data": {
      "image/png": "[encoded data removed]",
      "text/plain": [
       "<Figure size 720x360 with 2 Axes>"
      ]
     },
     "metadata": {
      "needs_background": "light"
     },
     "output_type": "display_data"
    }
   ],
   "source": [
    "cf_matrix = confusion_matrix(y_test, y_pred)\n",
    "fig, ax = plt.subplots(figsize=(10, 5))\n",
    "plot_confusion_matrix(model, X_test, y_test, cmap=plt.cm.Blues, ax=ax, normalize='true', values_format='.2f')\n",
    "pass"
   ]
  },
  {
   "cell_type": "markdown",
   "metadata": {},
   "source": [
    "Качество немного получше, но тоже не сильно хорошее, особенно для классов в середине. Попробуем подобрать параметры модели"
   ]
  },
  {
   "cell_type": "code",
   "execution_count": 34,
   "metadata": {},
   "outputs": [],
   "source": [
    "import optuna\n",
    "from sklearn.model_selection import cross_val_score\n",
    "np.random.seed(42)"
   ]
  },
  {
   "cell_type": "code",
   "execution_count": 35,
   "metadata": {},
   "outputs": [],
   "source": [
    "def objective(trial):\n",
    "    penalty = trial.suggest_categorical('penalty', ['l1', 'l2', 'elasticnet'])\n",
    "    alpha = trial.suggest_uniform('alpha', 0, 10)\n",
    "    if penalty == 'l1':\n",
    "        model = LogisticRegression(max_iter=100, n_jobs=-1, penalty=penalty, C=alpha, solver='saga')\n",
    "    elif penalty == 'elasticnet':\n",
    "        l1_ratio = trial.suggest_uniform('l1_ration', 0, 1)\n",
    "        model = LogisticRegression(max_iter=100, n_jobs=-1, penalty=penalty, C=alpha, solver='saga', l1_ratio=l1_ratio)\n",
    "    elif penalty == 'l2':\n",
    "        model = LogisticRegression(max_iter=100, n_jobs=-1, penalty=penalty, C=alpha)\n",
    "    score = cross_val_score(model, X_train, y_train, n_jobs=-1, cv=5)\n",
    "    score = score.mean()       \n",
    "    return score"
   ]
  },
  {
   "cell_type": "code",
   "execution_count": 36,
   "metadata": {
    "scrolled": true
   },
   "outputs": [
    {
     "name": "stderr",
     "output_type": "stream",
     "text": [
      "\u001b[32m[I 2020-10-28 13:39:37,061]\u001b[0m A new study created in memory with name: no-name-58ee21d7-0487-47c8-8d2f-0256d60cb611\u001b[0m\n",
      "C:\\Users\\Maksim_Krug\\Anaconda3\\lib\\site-packages\\optuna\\progress_bar.py:47: ExperimentalWarning: Progress bar is experimental (supported from v1.2.0). The interface can change in the future.\n",
      "  self._init_valid()\n"
     ]
    },
    {
     "data": {
      "application/vnd.jupyter.widget-view+json": {
       "model_id": "efab9cdde0f94873afeab325c31ff29c",
       "version_major": 2,
       "version_minor": 0
      },
      "text/plain": [
       "HBox(children=(FloatProgress(value=0.0), HTML(value='')))"
      ]
     },
     "metadata": {},
     "output_type": "display_data"
    },
    {
     "name": "stdout",
     "output_type": "stream",
     "text": [
      "\u001b[32m[I 2020-10-28 13:40:27,435]\u001b[0m Trial 0 finished with value: 0.4016924844476205 and parameters: {'penalty': 'l1', 'alpha': 3.047292337535966}. Best is trial 0 with value: 0.4016924844476205.\u001b[0m\n",
      "\u001b[32m[I 2020-10-28 13:40:36,453]\u001b[0m Trial 1 finished with value: 0.4323635916440929 and parameters: {'penalty': 'l2', 'alpha': 0.9348194462362369}. Best is trial 1 with value: 0.4323635916440929.\u001b[0m\n",
      "\u001b[32m[I 2020-10-28 13:41:25,647]\u001b[0m Trial 2 finished with value: 0.4016924933109534 and parameters: {'penalty': 'elasticnet', 'alpha': 5.8742864216502655, 'l1_ration': 0.31558060874779503}. Best is trial 1 with value: 0.4323635916440929.\u001b[0m\n",
      "\u001b[32m[I 2020-10-28 13:42:15,062]\u001b[0m Trial 3 finished with value: 0.4018187913737612 and parameters: {'penalty': 'l1', 'alpha': 1.7310763416896402}. Best is trial 1 with value: 0.4323635916440929.\u001b[0m\n",
      "\u001b[32m[I 2020-10-28 13:43:03,351]\u001b[0m Trial 4 finished with value: 0.40173458971077836 and parameters: {'penalty': 'elasticnet', 'alpha': 8.216618500326332, 'l1_ration': 0.6603068666238706}. Best is trial 1 with value: 0.4323635916440929.\u001b[0m\n",
      "\u001b[32m[I 2020-10-28 13:43:55,713]\u001b[0m Trial 5 finished with value: 0.40175564012652415 and parameters: {'penalty': 'elasticnet', 'alpha': 2.268442785262584, 'l1_ration': 0.08515343505353279}. Best is trial 1 with value: 0.4323635916440929.\u001b[0m\n",
      "\u001b[32m[I 2020-10-28 13:44:52,917]\u001b[0m Trial 6 finished with value: 0.40183985286867313 and parameters: {'penalty': 'elasticnet', 'alpha': 8.464700189213392, 'l1_ration': 0.39042772027882044}. Best is trial 1 with value: 0.4323635916440929.\u001b[0m\n",
      "\u001b[32m[I 2020-10-28 13:45:45,929]\u001b[0m Trial 7 finished with value: 0.4017556356948576 and parameters: {'penalty': 'elasticnet', 'alpha': 3.3430375709160067, 'l1_ration': 0.9802090716428438}. Best is trial 1 with value: 0.4323635916440929.\u001b[0m\n",
      "\u001b[32m[I 2020-10-28 13:45:54,630]\u001b[0m Trial 8 finished with value: 0.43181627640303794 and parameters: {'penalty': 'l2', 'alpha': 6.389406986468158}. Best is trial 1 with value: 0.4323635916440929.\u001b[0m\n",
      "\u001b[32m[I 2020-10-28 13:46:48,466]\u001b[0m Trial 9 finished with value: 0.40186089663691915 and parameters: {'penalty': 'l1', 'alpha': 4.4099721640177325}. Best is trial 1 with value: 0.4323635916440929.\u001b[0m\n",
      "\u001b[32m[I 2020-10-28 13:46:57,111]\u001b[0m Trial 10 finished with value: 0.43160575230308174 and parameters: {'penalty': 'l2', 'alpha': 0.6942971879145361}. Best is trial 1 with value: 0.4323635916440929.\u001b[0m\n",
      "\u001b[32m[I 2020-10-28 13:47:05,620]\u001b[0m Trial 11 finished with value: 0.43204782876040754 and parameters: {'penalty': 'l2', 'alpha': 6.634395577781139}. Best is trial 1 with value: 0.4323635916440929.\u001b[0m\n",
      "\u001b[32m[I 2020-10-28 13:47:13,783]\u001b[0m Trial 12 finished with value: 0.43141630520887003 and parameters: {'penalty': 'l2', 'alpha': 7.012067083850018}. Best is trial 1 with value: 0.4323635916440929.\u001b[0m\n",
      "\u001b[32m[I 2020-10-28 13:47:21,293]\u001b[0m Trial 13 finished with value: 0.43173206809255527 and parameters: {'penalty': 'l2', 'alpha': 4.57526533127053}. Best is trial 1 with value: 0.4323635916440929.\u001b[0m\n",
      "\u001b[32m[I 2020-10-28 13:47:28,402]\u001b[0m Trial 14 finished with value: 0.43042692237382213 and parameters: {'penalty': 'l2', 'alpha': 0.0029591343885435606}. Best is trial 1 with value: 0.4323635916440929.\u001b[0m\n",
      "\u001b[32m[I 2020-10-28 13:47:35,473]\u001b[0m Trial 15 finished with value: 0.43185835729203015 and parameters: {'penalty': 'l2', 'alpha': 9.572051523813236}. Best is trial 1 with value: 0.4323635916440929.\u001b[0m\n",
      "\u001b[32m[I 2020-10-28 13:47:43,008]\u001b[0m Trial 16 finished with value: 0.4317952038289598 and parameters: {'penalty': 'l2', 'alpha': 7.822680191961437}. Best is trial 1 with value: 0.4323635916440929.\u001b[0m\n",
      "\u001b[32m[I 2020-10-28 13:47:50,028]\u001b[0m Trial 17 finished with value: 0.43166891462948503 and parameters: {'penalty': 'l2', 'alpha': 9.98108189050829}. Best is trial 1 with value: 0.4323635916440929.\u001b[0m\n",
      "\u001b[32m[I 2020-10-28 13:47:57,336]\u001b[0m Trial 18 finished with value: 0.4317741622765471 and parameters: {'penalty': 'l2', 'alpha': 5.276234588590266}. Best is trial 1 with value: 0.4323635916440929.\u001b[0m\n",
      "\u001b[32m[I 2020-10-28 13:48:04,564]\u001b[0m Trial 19 finished with value: 0.4316478575662396 and parameters: {'penalty': 'l2', 'alpha': 7.165145543417989}. Best is trial 1 with value: 0.4323635916440929.\u001b[0m\n",
      "\u001b[32m[I 2020-10-28 13:48:11,888]\u001b[0m Trial 20 finished with value: 0.4321320282075571 and parameters: {'penalty': 'l2', 'alpha': 3.8532636952776604}. Best is trial 1 with value: 0.4323635916440929.\u001b[0m\n",
      "\u001b[32m[I 2020-10-28 13:48:18,927]\u001b[0m Trial 21 finished with value: 0.43230043818102254 and parameters: {'penalty': 'l2', 'alpha': 1.1547565827446284}. Best is trial 1 with value: 0.4323635916440929.\u001b[0m\n",
      "\u001b[32m[I 2020-10-28 13:48:26,321]\u001b[0m Trial 22 finished with value: 0.431900480281854 and parameters: {'penalty': 'l2', 'alpha': 1.0062428311468843}. Best is trial 1 with value: 0.4323635916440929.\u001b[0m\n",
      "\u001b[32m[I 2020-10-28 13:48:33,436]\u001b[0m Trial 23 finished with value: 0.4275008791318366 and parameters: {'penalty': 'l2', 'alpha': 0.00043792524556907075}. Best is trial 1 with value: 0.4323635916440929.\u001b[0m\n",
      "\u001b[32m[I 2020-10-28 13:48:40,743]\u001b[0m Trial 24 finished with value: 0.43213202156005737 and parameters: {'penalty': 'l2', 'alpha': 3.0962523570781144}. Best is trial 1 with value: 0.4323635916440929.\u001b[0m\n",
      "\u001b[32m[I 2020-10-28 13:48:47,929]\u001b[0m Trial 25 finished with value: 0.4320478154654081 and parameters: {'penalty': 'l2', 'alpha': 1.7147058628557965}. Best is trial 1 with value: 0.4323635916440929.\u001b[0m\n",
      "\u001b[32m[I 2020-10-28 13:49:35,271]\u001b[0m Trial 26 finished with value: 0.4017977476055152 and parameters: {'penalty': 'l1', 'alpha': 3.8586304347779126}. Best is trial 1 with value: 0.4323635916440929.\u001b[0m\n",
      "\u001b[32m[I 2020-10-28 13:49:42,381]\u001b[0m Trial 27 finished with value: 0.43221622322304026 and parameters: {'penalty': 'l2', 'alpha': 2.2858403373708094}. Best is trial 1 with value: 0.4323635916440929.\u001b[0m\n",
      "\u001b[32m[I 2020-10-28 13:49:49,703]\u001b[0m Trial 28 finished with value: 0.43198466864983737 and parameters: {'penalty': 'l2', 'alpha': 0.7683554450465689}. Best is trial 1 with value: 0.4323635916440929.\u001b[0m\n",
      "\u001b[32m[I 2020-10-28 13:50:36,968]\u001b[0m Trial 29 finished with value: 0.4017977387421823 and parameters: {'penalty': 'l1', 'alpha': 2.480704680480896}. Best is trial 1 with value: 0.4323635916440929.\u001b[0m\n",
      "\u001b[32m[I 2020-10-28 13:50:44,074]\u001b[0m Trial 30 finished with value: 0.4320899340235654 and parameters: {'penalty': 'l2', 'alpha': 1.369721092077394}. Best is trial 1 with value: 0.4323635916440929.\u001b[0m\n",
      "\u001b[32m[I 2020-10-28 13:50:51,605]\u001b[0m Trial 31 finished with value: 0.43206886809698697 and parameters: {'penalty': 'l2', 'alpha': 2.5016997588460264}. Best is trial 1 with value: 0.4323635916440929.\u001b[0m\n",
      "\u001b[32m[I 2020-10-28 13:50:58,773]\u001b[0m Trial 32 finished with value: 0.4321530741916363 and parameters: {'penalty': 'l2', 'alpha': 3.709579152993413}. Best is trial 1 with value: 0.4323635916440929.\u001b[0m\n",
      "\u001b[32m[I 2020-10-28 13:51:06,245]\u001b[0m Trial 33 finished with value: 0.4321741201757156 and parameters: {'penalty': 'l2', 'alpha': 2.0527200013193045}. Best is trial 1 with value: 0.4323635916440929.\u001b[0m\n",
      "\u001b[32m[I 2020-10-28 13:51:13,498]\u001b[0m Trial 34 finished with value: 0.4316689013344856 and parameters: {'penalty': 'l2', 'alpha': 0.20899199784226496}. Best is trial 1 with value: 0.4323635916440929.\u001b[0m\n",
      "\u001b[32m[I 2020-10-28 13:51:20,687]\u001b[0m Trial 35 finished with value: 0.4322583196228652 and parameters: {'penalty': 'l2', 'alpha': 1.9328700099513025}. Best is trial 1 with value: 0.4323635916440929.\u001b[0m\n",
      "\u001b[32m[I 2020-10-28 13:52:10,067]\u001b[0m Trial 36 finished with value: 0.4018188046687607 and parameters: {'penalty': 'elasticnet', 'alpha': 1.4260613932744386, 'l1_ration': 0.9159662606827508}. Best is trial 1 with value: 0.4323635916440929.\u001b[0m\n",
      "\u001b[32m[I 2020-10-28 13:52:56,427]\u001b[0m Trial 37 finished with value: 0.4017766971897695 and parameters: {'penalty': 'l1', 'alpha': 2.6852929394632055}. Best is trial 1 with value: 0.4323635916440929.\u001b[0m\n",
      "\u001b[32m[I 2020-10-28 13:53:46,141]\u001b[0m Trial 38 finished with value: 0.40175564677402376 and parameters: {'penalty': 'elasticnet', 'alpha': 0.5125427045300242, 'l1_ration': 0.08462338284284104}. Best is trial 1 with value: 0.4323635916440929.\u001b[0m\n",
      "\u001b[32m[I 2020-10-28 13:53:53,269]\u001b[0m Trial 39 finished with value: 0.4321320193442242 and parameters: {'penalty': 'l2', 'alpha': 2.012133993594832}. Best is trial 1 with value: 0.4323635916440929.\u001b[0m\n"
     ]
    },
    {
     "name": "stdout",
     "output_type": "stream",
     "text": [
      "\u001b[32m[I 2020-10-28 13:54:00,401]\u001b[0m Trial 40 finished with value: 0.4319004692026878 and parameters: {'penalty': 'l2', 'alpha': 1.2466808181340954}. Best is trial 1 with value: 0.4323635916440929.\u001b[0m\n",
      "\u001b[32m[I 2020-10-28 13:54:07,557]\u001b[0m Trial 41 finished with value: 0.4320478132495748 and parameters: {'penalty': 'l2', 'alpha': 1.940810235290233}. Best is trial 1 with value: 0.4323635916440929.\u001b[0m\n",
      "\u001b[32m[I 2020-10-28 13:54:14,663]\u001b[0m Trial 42 finished with value: 0.4322793789019438 and parameters: {'penalty': 'l2', 'alpha': 3.041066826939209}. Best is trial 1 with value: 0.4323635916440929.\u001b[0m\n",
      "\u001b[32m[I 2020-10-28 13:54:22,066]\u001b[0m Trial 43 finished with value: 0.43200571684974987 and parameters: {'penalty': 'l2', 'alpha': 2.96613889444153}. Best is trial 1 with value: 0.4323635916440929.\u001b[0m\n",
      "\u001b[32m[I 2020-10-28 13:54:29,173]\u001b[0m Trial 44 finished with value: 0.4321530741916363 and parameters: {'penalty': 'l2', 'alpha': 3.37277628145054}. Best is trial 1 with value: 0.4323635916440929.\u001b[0m\n",
      "\u001b[32m[I 2020-10-28 13:54:36,494]\u001b[0m Trial 45 finished with value: 0.43185834842869725 and parameters: {'penalty': 'l2', 'alpha': 1.574715573358917}. Best is trial 1 with value: 0.4323635916440929.\u001b[0m\n",
      "\u001b[32m[I 2020-10-28 13:55:22,802]\u001b[0m Trial 46 finished with value: 0.40175564012652415 and parameters: {'penalty': 'elasticnet', 'alpha': 0.3788287734909086, 'l1_ration': 0.6473674831606219}. Best is trial 1 with value: 0.4323635916440929.\u001b[0m\n",
      "\u001b[32m[I 2020-10-28 13:55:29,940]\u001b[0m Trial 47 finished with value: 0.4320267761288285 and parameters: {'penalty': 'l2', 'alpha': 1.1559317490089949}. Best is trial 1 with value: 0.4323635916440929.\u001b[0m\n",
      "\u001b[32m[I 2020-10-28 13:55:37,367]\u001b[0m Trial 48 finished with value: 0.43223728028628566 and parameters: {'penalty': 'l2', 'alpha': 2.3805332411901188}. Best is trial 1 with value: 0.4323635916440929.\u001b[0m\n",
      "\u001b[32m[I 2020-10-28 13:56:23,837]\u001b[0m Trial 49 finished with value: 0.40186088998941943 and parameters: {'penalty': 'l1', 'alpha': 4.9417317984817615}. Best is trial 1 with value: 0.4323635916440929.\u001b[0m\n",
      "\u001b[32m[I 2020-10-28 13:56:31,007]\u001b[0m Trial 50 finished with value: 0.4319004692026878 and parameters: {'penalty': 'l2', 'alpha': 0.8219346780528785}. Best is trial 1 with value: 0.4323635916440929.\u001b[0m\n",
      "\u001b[32m[I 2020-10-28 13:56:38,210]\u001b[0m Trial 51 finished with value: 0.4320899251602325 and parameters: {'penalty': 'l2', 'alpha': 2.2563920578365932}. Best is trial 1 with value: 0.4323635916440929.\u001b[0m\n",
      "\u001b[32m[I 2020-10-28 13:56:45,996]\u001b[0m Trial 52 finished with value: 0.43215305868080367 and parameters: {'penalty': 'l2', 'alpha': 1.7807631832307373}. Best is trial 1 with value: 0.4323635916440929.\u001b[0m\n",
      "\u001b[32m[I 2020-10-28 13:56:54,948]\u001b[0m Trial 53 finished with value: 0.4321530764074695 and parameters: {'penalty': 'l2', 'alpha': 2.699417051801039}. Best is trial 1 with value: 0.4323635916440929.\u001b[0m\n",
      "\u001b[32m[I 2020-10-28 13:57:02,857]\u001b[0m Trial 54 finished with value: 0.4320267672654956 and parameters: {'penalty': 'l2', 'alpha': 3.3220773809838477}. Best is trial 1 with value: 0.4323635916440929.\u001b[0m\n",
      "\u001b[32m[I 2020-10-28 13:57:12,157]\u001b[0m Trial 55 finished with value: 0.4323004293176895 and parameters: {'penalty': 'l2', 'alpha': 2.9536034634616453}. Best is trial 1 with value: 0.4323635916440929.\u001b[0m\n",
      "\u001b[32m[I 2020-10-28 13:57:20,701]\u001b[0m Trial 56 finished with value: 0.43225832627036487 and parameters: {'penalty': 'l2', 'alpha': 2.896466080526025}. Best is trial 1 with value: 0.4323635916440929.\u001b[0m\n",
      "\u001b[32m[I 2020-10-28 13:57:28,239]\u001b[0m Trial 57 finished with value: 0.431900471418521 and parameters: {'penalty': 'l2', 'alpha': 4.384623699003942}. Best is trial 1 with value: 0.4323635916440929.\u001b[0m\n",
      "\u001b[32m[I 2020-10-28 13:57:35,971]\u001b[0m Trial 58 finished with value: 0.4319004625551881 and parameters: {'penalty': 'l2', 'alpha': 5.8768083775577455}. Best is trial 1 with value: 0.4323635916440929.\u001b[0m\n",
      "\u001b[32m[I 2020-10-28 13:57:44,013]\u001b[0m Trial 59 finished with value: 0.4321109711443117 and parameters: {'penalty': 'l2', 'alpha': 3.626965283854293}. Best is trial 1 with value: 0.4323635916440929.\u001b[0m\n",
      "\u001b[32m[I 2020-10-28 13:57:51,549]\u001b[0m Trial 60 finished with value: 0.43223727807045237 and parameters: {'penalty': 'l2', 'alpha': 3.058632197972719}. Best is trial 1 with value: 0.4323635916440929.\u001b[0m\n",
      "\u001b[32m[I 2020-10-28 13:57:59,025]\u001b[0m Trial 61 finished with value: 0.4322793855494435 and parameters: {'penalty': 'l2', 'alpha': 4.15085309633117}. Best is trial 1 with value: 0.4323635916440929.\u001b[0m\n",
      "\u001b[32m[I 2020-10-28 13:58:06,408]\u001b[0m Trial 62 finished with value: 0.43206887252865356 and parameters: {'penalty': 'l2', 'alpha': 4.330385207929493}. Best is trial 1 with value: 0.4323635916440929.\u001b[0m\n",
      "\u001b[32m[I 2020-10-28 13:58:13,326]\u001b[0m Trial 63 finished with value: 0.43196362709742464 and parameters: {'penalty': 'l2', 'alpha': 4.786795558758411}. Best is trial 1 with value: 0.4323635916440929.\u001b[0m\n",
      "\u001b[32m[I 2020-10-28 13:58:20,623]\u001b[0m Trial 64 finished with value: 0.43200571684974987 and parameters: {'penalty': 'l2', 'alpha': 4.064379517089524}. Best is trial 1 with value: 0.4323635916440929.\u001b[0m\n",
      "\u001b[32m[I 2020-10-28 13:58:27,581]\u001b[0m Trial 65 finished with value: 0.4321741290390485 and parameters: {'penalty': 'l2', 'alpha': 2.8743003546676067}. Best is trial 1 with value: 0.4323635916440929.\u001b[0m\n",
      "\u001b[32m[I 2020-10-28 13:58:34,827]\u001b[0m Trial 66 finished with value: 0.43208992959189885 and parameters: {'penalty': 'l2', 'alpha': 3.252339362107992}. Best is trial 1 with value: 0.4323635916440929.\u001b[0m\n",
      "\u001b[32m[I 2020-10-28 13:58:42,005]\u001b[0m Trial 67 finished with value: 0.4316268160138268 and parameters: {'penalty': 'l2', 'alpha': 5.3231997777030005}. Best is trial 1 with value: 0.4323635916440929.\u001b[0m\n",
      "\u001b[32m[I 2020-10-28 13:59:27,907]\u001b[0m Trial 68 finished with value: 0.4019450982999019 and parameters: {'penalty': 'elasticnet', 'alpha': 1.033688870978356, 'l1_ration': 0.7803236693298746}. Best is trial 1 with value: 0.4323635916440929.\u001b[0m\n",
      "\u001b[32m[I 2020-10-28 13:59:34,801]\u001b[0m Trial 69 finished with value: 0.4318583617236967 and parameters: {'penalty': 'l2', 'alpha': 1.6638899945561212}. Best is trial 1 with value: 0.4323635916440929.\u001b[0m\n",
      "\u001b[32m[I 2020-10-28 14:00:35,225]\u001b[0m Trial 70 finished with value: 0.40175564012652404 and parameters: {'penalty': 'l1', 'alpha': 2.610574544563125}. Best is trial 1 with value: 0.4323635916440929.\u001b[0m\n",
      "\u001b[32m[I 2020-10-28 14:00:47,346]\u001b[0m Trial 71 finished with value: 0.4321530786233028 and parameters: {'penalty': 'l2', 'alpha': 2.127873768852902}. Best is trial 1 with value: 0.4323635916440929.\u001b[0m\n",
      "\u001b[32m[I 2020-10-28 14:00:59,113]\u001b[0m Trial 72 finished with value: 0.4321530719758031 and parameters: {'penalty': 'l2', 'alpha': 4.084214249396751}. Best is trial 1 with value: 0.4323635916440929.\u001b[0m\n",
      "\u001b[32m[I 2020-10-28 14:01:10,992]\u001b[0m Trial 73 finished with value: 0.43179522598729225 and parameters: {'penalty': 'l2', 'alpha': 3.532858185001151}. Best is trial 1 with value: 0.4323635916440929.\u001b[0m\n",
      "\u001b[32m[I 2020-10-28 14:01:22,927]\u001b[0m Trial 74 finished with value: 0.43206887474448674 and parameters: {'penalty': 'l2', 'alpha': 2.377185774739077}. Best is trial 1 with value: 0.4323635916440929.\u001b[0m\n",
      "\u001b[32m[I 2020-10-28 14:01:33,441]\u001b[0m Trial 75 finished with value: 0.43246884593865464 and parameters: {'penalty': 'l2', 'alpha': 1.4604110735312288}. Best is trial 75 with value: 0.43246884593865464.\u001b[0m\n",
      "\u001b[32m[I 2020-10-28 14:01:44,535]\u001b[0m Trial 76 finished with value: 0.43181624316553935 and parameters: {'penalty': 'l2', 'alpha': 0.7213509333147703}. Best is trial 75 with value: 0.43246884593865464.\u001b[0m\n",
      "\u001b[32m[I 2020-10-28 14:01:55,863]\u001b[0m Trial 77 finished with value: 0.43244778444374277 and parameters: {'penalty': 'l2', 'alpha': 1.339084255897649}. Best is trial 75 with value: 0.43246884593865464.\u001b[0m\n",
      "\u001b[32m[I 2020-10-28 14:02:05,075]\u001b[0m Trial 78 finished with value: 0.4317741534132141 and parameters: {'penalty': 'l2', 'alpha': 0.2577278213850307}. Best is trial 75 with value: 0.43246884593865464.\u001b[0m\n",
      "\u001b[32m[I 2020-10-28 14:02:16,936]\u001b[0m Trial 79 finished with value: 0.432300433749356 and parameters: {'penalty': 'l2', 'alpha': 1.3158384547852358}. Best is trial 75 with value: 0.43246884593865464.\u001b[0m\n",
      "\u001b[32m[I 2020-10-28 14:02:27,326]\u001b[0m Trial 80 finished with value: 0.43225831740703197 and parameters: {'penalty': 'l2', 'alpha': 1.3399226262660147}. Best is trial 75 with value: 0.43246884593865464.\u001b[0m\n"
     ]
    },
    {
     "name": "stdout",
     "output_type": "stream",
     "text": [
      "\u001b[32m[I 2020-10-28 14:02:37,990]\u001b[0m Trial 81 finished with value: 0.4319004669868546 and parameters: {'penalty': 'l2', 'alpha': 0.9548738629655611}. Best is trial 75 with value: 0.43246884593865464.\u001b[0m\n",
      "\u001b[32m[I 2020-10-28 14:02:48,306]\u001b[0m Trial 82 finished with value: 0.4320478110337416 and parameters: {'penalty': 'l2', 'alpha': 1.6366179170638298}. Best is trial 75 with value: 0.43246884593865464.\u001b[0m\n",
      "\u001b[32m[I 2020-10-28 14:02:59,218]\u001b[0m Trial 83 finished with value: 0.43223725812795327 and parameters: {'penalty': 'l2', 'alpha': 0.6367840186825143}. Best is trial 75 with value: 0.43246884593865464.\u001b[0m\n",
      "\u001b[32m[I 2020-10-28 14:03:09,690]\u001b[0m Trial 84 finished with value: 0.4320267783446618 and parameters: {'penalty': 'l2', 'alpha': 1.468353955993833}. Best is trial 75 with value: 0.43246884593865464.\u001b[0m\n",
      "\u001b[32m[I 2020-10-28 14:03:20,038]\u001b[0m Trial 85 finished with value: 0.4324898764119013 and parameters: {'penalty': 'l2', 'alpha': 0.04863619922193907}. Best is trial 85 with value: 0.4324898764119013.\u001b[0m\n",
      "\u001b[32m[I 2020-10-28 14:03:31,402]\u001b[0m Trial 86 finished with value: 0.431626789423828 and parameters: {'penalty': 'l2', 'alpha': 0.41792599870891545}. Best is trial 85 with value: 0.4324898764119013.\u001b[0m\n",
      "\u001b[32m[I 2020-10-28 14:03:41,977]\u001b[0m Trial 87 finished with value: 0.4319215174026003 and parameters: {'penalty': 'l2', 'alpha': 0.18241289671799035}. Best is trial 85 with value: 0.4324898764119013.\u001b[0m\n",
      "\u001b[32m[I 2020-10-28 14:04:51,697]\u001b[0m Trial 88 finished with value: 0.4018608944210859 and parameters: {'penalty': 'elasticnet', 'alpha': 1.2125189534838519, 'l1_ration': 0.2547094458557101}. Best is trial 85 with value: 0.4324898764119013.\u001b[0m\n",
      "\u001b[32m[I 2020-10-28 14:05:03,012]\u001b[0m Trial 89 finished with value: 0.43257411352821584 and parameters: {'penalty': 'l2', 'alpha': 0.9276819422418382}. Best is trial 89 with value: 0.43257411352821584.\u001b[0m\n",
      "\u001b[32m[I 2020-10-28 14:05:13,577]\u001b[0m Trial 90 finished with value: 0.43185835729203026 and parameters: {'penalty': 'l2', 'alpha': 0.04357042390137056}. Best is trial 89 with value: 0.43257411352821584.\u001b[0m\n",
      "\u001b[32m[I 2020-10-28 14:05:24,655]\u001b[0m Trial 91 finished with value: 0.4322583329178646 and parameters: {'penalty': 'l2', 'alpha': 1.1268506958726026}. Best is trial 89 with value: 0.43257411352821584.\u001b[0m\n",
      "\u001b[32m[I 2020-10-28 14:05:35,305]\u001b[0m Trial 92 finished with value: 0.4319846885923365 and parameters: {'penalty': 'l2', 'alpha': 0.9394606840718387}. Best is trial 89 with value: 0.43257411352821584.\u001b[0m\n",
      "\u001b[32m[I 2020-10-28 14:05:45,948]\u001b[0m Trial 93 finished with value: 0.4321109711443117 and parameters: {'penalty': 'l2', 'alpha': 0.5233566973943515}. Best is trial 89 with value: 0.43257411352821584.\u001b[0m\n",
      "\u001b[32m[I 2020-10-28 14:05:55,151]\u001b[0m Trial 94 finished with value: 0.4321320149125577 and parameters: {'penalty': 'l2', 'alpha': 1.8566727620242287}. Best is trial 89 with value: 0.43257411352821584.\u001b[0m\n",
      "\u001b[32m[I 2020-10-28 14:06:05,167]\u001b[0m Trial 95 finished with value: 0.43219518831812714 and parameters: {'penalty': 'l2', 'alpha': 1.4959200337360787}. Best is trial 89 with value: 0.43257411352821584.\u001b[0m\n",
      "\u001b[32m[I 2020-10-28 14:07:12,783]\u001b[0m Trial 96 finished with value: 0.40175564012652404 and parameters: {'penalty': 'l1', 'alpha': 0.8483388119789572}. Best is trial 89 with value: 0.43257411352821584.\u001b[0m\n",
      "\u001b[32m[I 2020-10-28 14:07:23,174]\u001b[0m Trial 97 finished with value: 0.4323635717015938 and parameters: {'penalty': 'l2', 'alpha': 0.638136382104596}. Best is trial 89 with value: 0.43257411352821584.\u001b[0m\n",
      "\u001b[32m[I 2020-10-28 14:07:32,840]\u001b[0m Trial 98 finished with value: 0.43196360272325907 and parameters: {'penalty': 'l2', 'alpha': 0.02584289168239895}. Best is trial 89 with value: 0.43257411352821584.\u001b[0m\n",
      "\u001b[32m[I 2020-10-28 14:07:43,142]\u001b[0m Trial 99 finished with value: 0.43223725591212003 and parameters: {'penalty': 'l2', 'alpha': 0.633414274813697}. Best is trial 89 with value: 0.43257411352821584.\u001b[0m\n",
      "\n",
      "Wall time: 28min 6s\n"
     ]
    }
   ],
   "source": [
    "%%time\n",
    "study = optuna.create_study(direction=\"maximize\")\n",
    "study.optimize(objective, n_trials=100, timeout=30*60, show_progress_bar=True)"
   ]
  },
  {
   "cell_type": "code",
   "execution_count": 37,
   "metadata": {},
   "outputs": [
    {
     "name": "stdout",
     "output_type": "stream",
     "text": [
      "Best Params: {'penalty': 'l2', 'alpha': 0.9276819422418382}, Best Score: 0.43257411352821584\n"
     ]
    }
   ],
   "source": [
    "print('Best Params: {}, Best Score: {}'.format(study.best_params, study.best_value))"
   ]
  },
  {
   "cell_type": "code",
   "execution_count": 40,
   "metadata": {},
   "outputs": [
    {
     "name": "stdout",
     "output_type": "stream",
     "text": [
      "Model score: 1.4948219247284669\n",
      "Wall time: 1min 47s\n"
     ]
    }
   ],
   "source": [
    "%%time\n",
    "# давайте посмотрим что получилось с новыми параметрами\n",
    "model = LogisticRegression(max_iter=1000, n_jobs=-1, penalty='l2', C=0.9276)\n",
    "model.fit(X_train, y_train)\n",
    "y_pred = model.predict(X_test)\n",
    "score = my_metric(y_test, y_pred)\n",
    "print('Model score: {}'.format(score))"
   ]
  },
  {
   "cell_type": "code",
   "execution_count": 41,
   "metadata": {},
   "outputs": [
    {
     "data": {
      "image/png": "[encoded data removed]",
      "text/plain": [
       "<Figure size 720x360 with 2 Axes>"
      ]
     },
     "metadata": {
      "needs_background": "light"
     },
     "output_type": "display_data"
    }
   ],
   "source": [
    "cf_matrix = confusion_matrix(y_test, y_pred)\n",
    "fig, ax = plt.subplots(figsize=(10, 5))\n",
    "plot_confusion_matrix(model, X_test, y_test, cmap=plt.cm.Blues, ax=ax, normalize='true', values_format='.2f')\n",
    "pass"
   ]
  },
  {
   "cell_type": "markdown",
   "metadata": {},
   "source": [
    "Не сильно помогло улучшить качество, жаль. Плюс проблема с классами 3 и 4 осталась."
   ]
  },
  {
   "cell_type": "markdown",
   "metadata": {},
   "source": [
    "### Ordinal Classification"
   ]
  },
  {
   "cell_type": "markdown",
   "metadata": {},
   "source": [
    "Здесь я взял реализацию из статьи \"A Simple Approach to Ordinal Classification\", т.к. на питоне нет каких-то хороших библиотек, которые это реализуют, а в статье все достаточно просто описано. <br><br>\n",
    "Примерный алгоритм выглядит так:\n",
    "- Разделим на k-1 датасетов где target > some value\n",
    "- Построим для всех новых датасетов модель, но получим вероятность (например в логистической регрессии)\n",
    "- Для того, чтобы найти вероятность, например, класса 3, нам надо: Pr(3) = Pr(>2) - Pr(>3); для первого класса: Pr(1) = 1 - Pr(>1); для последнего класса: Pr(k) = Pr(>k-1)"
   ]
  },
  {
   "cell_type": "code",
   "execution_count": 42,
   "metadata": {},
   "outputs": [],
   "source": [
    "from warnings import filterwarnings\n",
    "filterwarnings('ignore')"
   ]
  },
  {
   "cell_type": "code",
   "execution_count": 43,
   "metadata": {},
   "outputs": [],
   "source": [
    "def ordinal_classification(X_train, X_test, y_train, y_test):\n",
    "    class_probs = pd.DataFrame()\n",
    "    for target in tqdm(range(1, 9)):\n",
    "        if target == 1:\n",
    "            model = LogisticRegression(max_iter=1000, penalty='l2', C=0.93)\n",
    "            new_train = [1 if i > 1 else 0 for i in y_train]\n",
    "            model.fit(X_train, new_train)\n",
    "            pr_v = 1 - model.predict_proba(X_test)[:, 1]\n",
    "            class_probs['1'] = pr_v\n",
    "        elif target == 8:\n",
    "            model = LogisticRegression(max_iter=1000, penalty='l2', C=0.93)\n",
    "            new_train = [1 if i > 7 else 0 for i in y_train]\n",
    "            model.fit(X_train, new_train)\n",
    "            pr_v = model.predict_proba(X_test)[:, 1]\n",
    "            class_probs['8'] = pr_v\n",
    "        else:\n",
    "            model1 = LogisticRegression(max_iter=1000, penalty='l2', C=0.93)\n",
    "            model2 = LogisticRegression(max_iter=1000, penalty='l2', C=0.93)\n",
    "            new_train1 = [1 if i > target-1 else 0 for i in y_train]\n",
    "            new_train2 = [1 if i > target else 0 for i in y_train]\n",
    "            model1.fit(X_train, new_train1)\n",
    "            model2.fit(X_train, new_train2)\n",
    "            pr_v1 = model1.predict_proba(X_test)[:, 1]\n",
    "            pr_v2 = model2.predict_proba(X_test)[:, 1]\n",
    "            pr_v = pr_v1 - pr_v2\n",
    "            class_probs[target] = pr_v\n",
    "    \n",
    "    return class_probs"
   ]
  },
  {
   "cell_type": "code",
   "execution_count": 50,
   "metadata": {},
   "outputs": [
    {
     "name": "stderr",
     "output_type": "stream",
     "text": [
      "100%|██████████| 8/8 [03:49<00:00, 28.66s/it]"
     ]
    },
    {
     "name": "stdout",
     "output_type": "stream",
     "text": [
      "Model score: 1.4546602677443798\n"
     ]
    },
    {
     "name": "stderr",
     "output_type": "stream",
     "text": [
      "\n"
     ]
    }
   ],
   "source": [
    "# Посчитаем все и посмотрим на качество\n",
    "class_probs = ordinal_classification(X_train, X_test, y_train, y_test)\n",
    "y_pred = class_probs.idxmax(axis=1).astype('int')\n",
    "score = sum(abs(y_pred.values - y_test.values)) / y_test.shape[0]\n",
    "print('Model score: {}'.format(score))"
   ]
  },
  {
   "cell_type": "code",
   "execution_count": 51,
   "metadata": {},
   "outputs": [
    {
     "data": {
      "image/png": "[encoded data removed]",
      "text/plain": [
       "<Figure size 432x288 with 2 Axes>"
      ]
     },
     "metadata": {
      "needs_background": "light"
     },
     "output_type": "display_data"
    }
   ],
   "source": [
    "# И визуализируем confusion matrix\n",
    "cm = confusion_matrix(y_test.values, y_pred.values, normalize='true')\n",
    "sns.heatmap(np.round(cm, 2), annot=True, cmap=plt.cm.Blues,\n",
    "            xticklabels=[1,2,3,4,5,6,7,8], yticklabels=[1,2,3,4,5,6,7,8])\n",
    "plt.xlabel('Predict Labels')\n",
    "plt.ylabel('True Labels')\n",
    "pass"
   ]
  },
  {
   "cell_type": "markdown",
   "metadata": {},
   "source": [
    "Стало еще немного получше, но не прям чтоб сильно, проблема с 3 и 4 классами также не решилась, что пичально, но видимо их просто очень мало и стоит взять другую модель, например давайте попробуем xgboost, он был хорош судя по результатам"
   ]
  },
  {
   "cell_type": "code",
   "execution_count": 55,
   "metadata": {},
   "outputs": [],
   "source": [
    "def ordinal_classification_xgb(X_train, X_test, y_train, y_test):\n",
    "    class_probs = pd.DataFrame()\n",
    "    for target in tqdm(range(1, 9)):\n",
    "        if target == 1:\n",
    "            model = XGBClassifier()\n",
    "            new_train = [1 if i > 1 else 0 for i in y_train]\n",
    "            model.fit(X_train, new_train)\n",
    "            pr_v = 1 - model.predict_proba(X_test)[:, 1]\n",
    "            class_probs['1'] = pr_v\n",
    "        elif target == 8:\n",
    "            model = XGBClassifier()\n",
    "            new_train = [1 if i > 7 else 0 for i in y_train]\n",
    "            model.fit(X_train, new_train)\n",
    "            pr_v = model.predict_proba(X_test)[:, 1]\n",
    "            class_probs['8'] = pr_v\n",
    "        else:\n",
    "            model1 = XGBClassifier()\n",
    "            model2 = XGBClassifier()\n",
    "            new_train1 = [1 if i > target-1 else 0 for i in y_train]\n",
    "            new_train2 = [1 if i > target else 0 for i in y_train]\n",
    "            model1.fit(X_train, new_train1)\n",
    "            model2.fit(X_train, new_train2)\n",
    "            pr_v1 = model1.predict_proba(X_test)[:, 1]\n",
    "            pr_v2 = model2.predict_proba(X_test)[:, 1]\n",
    "            pr_v = pr_v1 - pr_v2\n",
    "            class_probs[target] = pr_v\n",
    "    \n",
    "    return class_probs"
   ]
  },
  {
   "cell_type": "code",
   "execution_count": 59,
   "metadata": {},
   "outputs": [
    {
     "name": "stdout",
     "output_type": "stream",
     "text": [
      "Model score: 1.2972972972972974\n"
     ]
    }
   ],
   "source": [
    "# просто без ordinal regression\n",
    "model = XGBClassifier()\n",
    "model.fit(X_train, y_train)\n",
    "y_pred = model.predict(X_test)\n",
    "score = my_metric(y_test, y_pred)\n",
    "print('Model score: {}'.format(score))"
   ]
  },
  {
   "cell_type": "code",
   "execution_count": 56,
   "metadata": {},
   "outputs": [
    {
     "name": "stderr",
     "output_type": "stream",
     "text": [
      "100%|██████████| 8/8 [01:54<00:00, 14.32s/it]"
     ]
    },
    {
     "name": "stdout",
     "output_type": "stream",
     "text": [
      "Model score: 1.2886250736718026\n"
     ]
    },
    {
     "name": "stderr",
     "output_type": "stream",
     "text": [
      "\n"
     ]
    }
   ],
   "source": [
    "# с ordinal regression\n",
    "class_probs = ordinal_classification_xgb(X_train, X_test, y_train, y_test)\n",
    "y_pred = class_probs.idxmax(axis=1).astype('int')\n",
    "score = sum(abs(y_pred.values - y_test.values)) / y_test.shape[0]\n",
    "print('Model score: {}'.format(score))"
   ]
  },
  {
   "cell_type": "code",
   "execution_count": 57,
   "metadata": {},
   "outputs": [
    {
     "data": {
      "image/png": "[encoded data removed]",
      "text/plain": [
       "<Figure size 432x288 with 2 Axes>"
      ]
     },
     "metadata": {
      "needs_background": "light"
     },
     "output_type": "display_data"
    }
   ],
   "source": [
    "# И визуализируем confusion matrix\n",
    "cm = confusion_matrix(y_test.values, y_pred.values, normalize='true')\n",
    "sns.heatmap(np.round(cm, 2), annot=True, cmap=plt.cm.Blues,\n",
    "            xticklabels=[1,2,3,4,5,6,7,8], yticklabels=[1,2,3,4,5,6,7,8])\n",
    "plt.xlabel('Predict Labels')\n",
    "plt.ylabel('True Labels')\n",
    "pass"
   ]
  },
  {
   "cell_type": "markdown",
   "metadata": {},
   "source": [
    "В целом немного ordinal regression помогает, что уже неплохо, но в конретно этой задаче сильного улучшения добиться не удалось"
   ]
  },
  {
   "cell_type": "markdown",
   "metadata": {},
   "source": [
    "### Interpret ML"
   ]
  },
  {
   "cell_type": "markdown",
   "metadata": {},
   "source": [
    "Посмотрим что есть в этой библиотеке\n",
    "#### СКОРЕЕ ВСЕГО В ГИТХАБЕ НЕ ВИДНО ЧТО ЗДЕСЬ, МОГУ ПРОСТО СО СВОЕГО ЭКРАНА ПОКАЗАТЬ"
   ]
  },
  {
   "cell_type": "code",
   "execution_count": 81,
   "metadata": {},
   "outputs": [],
   "source": [
    "from interpret.glassbox import ExplainableBoostingClassifier, ClassificationTree, LogisticRegression\n",
    "from interpret import show"
   ]
  },
  {
   "cell_type": "code",
   "execution_count": 63,
   "metadata": {},
   "outputs": [
    {
     "name": "stdout",
     "output_type": "stream",
     "text": [
      "Wall time: 19min 28s\n"
     ]
    },
    {
     "data": {
      "text/plain": [
       "ExplainableBoostingClassifier(feature_names=['Product_Info_1', 'Product_Info_2',\n",
       "                                             'Product_Info_3', 'Product_Info_4',\n",
       "                                             'Product_Info_5', 'Product_Info_6',\n",
       "                                             'Product_Info_7', 'Ins_Age', 'Ht',\n",
       "                                             'Wt', 'BMI', 'Employment_Info_1',\n",
       "                                             'Employment_Info_2',\n",
       "                                             'Employment_Info_3',\n",
       "                                             'Employment_Info_4',\n",
       "                                             'Employment_Info_5',\n",
       "                                             'Employment_Info_6',\n",
       "                                             'InsuredInfo_1', 'InsuredInfo_2',\n",
       "                                             'Insured...\n",
       "                                             'categorical', 'categorical',\n",
       "                                             'continuous', 'continuous',\n",
       "                                             'continuous', 'continuous',\n",
       "                                             'continuous', 'continuous',\n",
       "                                             'continuous', 'categorical',\n",
       "                                             'continuous', 'categorical',\n",
       "                                             'continuous', 'continuous',\n",
       "                                             'categorical', 'continuous',\n",
       "                                             'categorical', 'categorical',\n",
       "                                             'categorical', 'categorical',\n",
       "                                             'categorical', 'continuous',\n",
       "                                             'continuous', 'continuous',\n",
       "                                             'continuous', 'continuous', ...])"
      ]
     },
     "execution_count": 63,
     "metadata": {},
     "output_type": "execute_result"
    }
   ],
   "source": [
    "%%time\n",
    "ebm = ExplainableBoostingClassifier()\n",
    "ebm.fit(X_train, y_train)"
   ]
  },
  {
   "cell_type": "code",
   "execution_count": 67,
   "metadata": {},
   "outputs": [
    {
     "name": "stdout",
     "output_type": "stream",
     "text": [
      "Model score: 1.3366169908225982\n"
     ]
    }
   ],
   "source": [
    "# посмортим на качество\n",
    "y_pred = ebm.predict(X_test)\n",
    "score = my_metric(y_test, y_pred)\n",
    "print('Model score: {}'.format(score))"
   ]
  },
  {
   "cell_type": "code",
   "execution_count": 68,
   "metadata": {},
   "outputs": [
    {
     "data": {
      "image/png": "[encoded data removed]",
      "text/plain": [
       "<Figure size 720x360 with 2 Axes>"
      ]
     },
     "metadata": {
      "needs_background": "light"
     },
     "output_type": "display_data"
    }
   ],
   "source": [
    "# и на confusion matrix\n",
    "cf_matrix = confusion_matrix(y_test, y_pred)\n",
    "fig, ax = plt.subplots(figsize=(10, 5))\n",
    "plot_confusion_matrix(ebm, X_test, y_test, cmap=plt.cm.Blues, ax=ax, normalize='true', values_format='.2f')\n",
    "pass"
   ]
  },
  {
   "cell_type": "markdown",
   "metadata": {},
   "source": [
    "Впринципе неплохо, но основная фича - интерпретируемость результатов, давайте посмотрим что с ней"
   ]
  },
  {
   "cell_type": "code",
   "execution_count": 65,
   "metadata": {},
   "outputs": [
    {
     "data": {
      "text/html": [
       "<!-- http://127.0.0.1:7001/1991436151832/ -->\n",
       "<iframe src=\"http://127.0.0.1:7001/1991436151832/\" width=100% height=800 frameBorder=\"0\"></iframe>"
      ]
     },
     "metadata": {},
     "output_type": "display_data"
    }
   ],
   "source": [
    "# во-первых есть глобальное описание, можно посмотреть summary с важностью каждой переменной. \n",
    "# наибольшее влияние оказывает BMI, а countna оказалась тоже неплохой переменной\n",
    "ebm_global = ebm.explain_global()\n",
    "show(ebm_global)"
   ]
  },
  {
   "cell_type": "code",
   "execution_count": 72,
   "metadata": {},
   "outputs": [
    {
     "data": {
      "text/html": [
       "<!-- http://127.0.0.1:7001/1991430530720/ -->\n",
       "<iframe src=\"http://127.0.0.1:7001/1991430530720/\" width=100% height=800 frameBorder=\"0\"></iframe>"
      ]
     },
     "metadata": {},
     "output_type": "display_data"
    }
   ],
   "source": [
    "# можно посмотреть на конкретную переменную и как она влияет на таргет при всех значениях\n",
    "ebm_global = ebm.explain_global()\n",
    "show(ebm_global)"
   ]
  },
  {
   "cell_type": "code",
   "execution_count": 69,
   "metadata": {},
   "outputs": [
    {
     "data": {
      "text/html": [
       "<!-- http://127.0.0.1:7001/1991464170160/ -->\n",
       "<iframe src=\"http://127.0.0.1:7001/1991464170160/\" width=100% height=800 frameBorder=\"0\"></iframe>"
      ]
     },
     "metadata": {},
     "output_type": "display_data"
    }
   ],
   "source": [
    "# Можно посмотреть на конкретное наблюдение и почему получился конкретный предикт\n",
    "# Для большого количества данных это не очень эффективно, но для маленьких данных прям отлично, особенно если есть какие-то выбросы\n",
    "ebm_local = ebm.explain_local(X_test, y_test)\n",
    "show(ebm_local)"
   ]
  },
  {
   "cell_type": "code",
   "execution_count": 78,
   "metadata": {
    "scrolled": true
   },
   "outputs": [
    {
     "name": "stdout",
     "output_type": "stream",
     "text": [
      "Wall time: 6.69 s\n"
     ]
    },
    {
     "data": {
      "text/plain": [
       "<interpret.glassbox.linear.LogisticRegression at 0x1cfbde55668>"
      ]
     },
     "execution_count": 78,
     "metadata": {},
     "output_type": "execute_result"
    }
   ],
   "source": [
    "%%time\n",
    "# посмотрим на другие модели и сравним их\n",
    "tree_explain = ClassificationTree()\n",
    "logistic_explain = LogisticRegression()\n",
    "tree_explain.fit(X_train, y_train)\n",
    "logistic_explain.fit(X_train, y_train)"
   ]
  },
  {
   "cell_type": "code",
   "execution_count": 80,
   "metadata": {},
   "outputs": [
    {
     "data": {
      "text/html": [
       "<!-- http://127.0.0.1:7001/1991756155272/ -->\n",
       "<a href=\"http://127.0.0.1:7001/1991756155272/\" target=\"_new\">Open in new window</a><iframe src=\"http://127.0.0.1:7001/1991756155272/\" width=100% height=800 frameBorder=\"0\"></iframe>"
      ]
     },
     "metadata": {},
     "output_type": "display_data"
    }
   ],
   "source": [
    "# можно две разные модели сравнить, но это не очень удобно на небольшом экране\n",
    "show([tree_explain.explain_global(), logistic_explain.explain_global()])"
   ]
  },
  {
   "cell_type": "markdown",
   "metadata": {},
   "source": [
    "В итоге библиотека довольно неплохая, особенно возможность посмотреть на конкретный предикт, это прям классно, но пока только альфа версия и не так много фич, хотя сама библиотека работает стабильно, что тоже радует"
   ]
  },
  {
   "cell_type": "markdown",
   "metadata": {},
   "source": [
    "##### P.S. По итогу получилось не так много какого-то исследования, возможно я что-то упустил"
   ]
  }
 ],
 "metadata": {
  "kernelspec": {
   "display_name": "Python 3",
   "language": "python",
   "name": "python3"
  },
  "language_info": {
   "codemirror_mode": {
    "name": "ipython",
    "version": 3
   },
   "file_extension": ".py",
   "mimetype": "text/x-python",
   "name": "python",
   "nbconvert_exporter": "python",
   "pygments_lexer": "ipython3",
   "version": "3.6.10"
  }
 },
 "nbformat": 4,
 "nbformat_minor": 4
}
