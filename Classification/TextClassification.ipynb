{
 "cells": [
  {
   "cell_type": "code",
   "execution_count": 1,
   "metadata": {},
   "outputs": [],
   "source": [
    "import pandas as pd\n",
    "import numpy as np\n",
    "import os\n",
    "from tqdm import tqdm\n",
    "import re\n",
    "from copy import copy\n",
    "import seaborn as sns"
   ]
  },
  {
   "cell_type": "markdown",
   "metadata": {},
   "source": [
    "## Download Data"
   ]
  },
  {
   "cell_type": "code",
   "execution_count": 2,
   "metadata": {},
   "outputs": [
    {
     "name": "stderr",
     "output_type": "stream",
     "text": [
      "100%|██████████| 7769/7769 [00:03<00:00, 2561.21it/s]"
     ]
    },
    {
     "name": "stdout",
     "output_type": "stream",
     "text": [
      "(7769,)\n"
     ]
    },
    {
     "name": "stderr",
     "output_type": "stream",
     "text": [
      "\n"
     ]
    }
   ],
   "source": [
    "# download train\n",
    "files = os.listdir('reuters/training/')\n",
    "files = sorted([int(i) for i in files])\n",
    "text = []\n",
    "for file in tqdm(files):\n",
    "    with open('reuters/training/' + str(file), 'r') as f:\n",
    "        temp = f.readlines()\n",
    "        temp = ' '.join(temp).replace('\\n', ' ')\n",
    "        text.append(temp)\n",
    "\n",
    "text = np.array(text)\n",
    "print(text.shape)"
   ]
  },
  {
   "cell_type": "code",
   "execution_count": 3,
   "metadata": {},
   "outputs": [
    {
     "name": "stderr",
     "output_type": "stream",
     "text": [
      "10788it [00:00, 721143.54it/s]"
     ]
    },
    {
     "name": "stdout",
     "output_type": "stream",
     "text": [
      "(7769,)\n"
     ]
    },
    {
     "name": "stderr",
     "output_type": "stream",
     "text": [
      "\n"
     ]
    }
   ],
   "source": [
    "# categories\n",
    "cats = []\n",
    "with open('reuters/cats.txt', 'r') as cats_file:\n",
    "    for i in tqdm(cats_file):\n",
    "        if 'training/' in i:\n",
    "            cat = ' '.join(i.split()[1:])\n",
    "            cats.append(cat)\n",
    "\n",
    "cats = np.array(cats)\n",
    "print(cats.shape)"
   ]
  },
  {
   "cell_type": "code",
   "execution_count": 4,
   "metadata": {},
   "outputs": [],
   "source": [
    "# stopwords\n",
    "with open('reuters/stopwords', 'r') as f:\n",
    "    temp = f.readlines()\n",
    "stopwords_reuters = [i.replace('\\n', '') for i in temp]"
   ]
  },
  {
   "cell_type": "markdown",
   "metadata": {},
   "source": [
    "## EDA"
   ]
  },
  {
   "cell_type": "code",
   "execution_count": 5,
   "metadata": {},
   "outputs": [],
   "source": [
    "# lowercase\n",
    "for i in range(len(text)):\n",
    "    text[i] = np.char.lower(text[i])"
   ]
  },
  {
   "cell_type": "code",
   "execution_count": 6,
   "metadata": {},
   "outputs": [
    {
     "name": "stderr",
     "output_type": "stream",
     "text": [
      "[nltk_data] Downloading package stopwords to\n",
      "[nltk_data]     C:\\Users\\Maksim_Krug\\AppData\\Roaming\\nltk_data...\n",
      "[nltk_data]   Package stopwords is already up-to-date!\n",
      "100%|██████████| 7769/7769 [00:08<00:00, 881.76it/s]\n"
     ]
    }
   ],
   "source": [
    "# stopwords\n",
    "from nltk.corpus import stopwords\n",
    "import nltk\n",
    "nltk.download('stopwords')\n",
    "res_stopwords = stopwords.words('english') + stopwords_reuters\n",
    "\n",
    "for i in tqdm(range(len(text))):\n",
    "    temp = text[i].split()\n",
    "    new_text = ''\n",
    "    for word in temp:\n",
    "        if word not in res_stopwords:\n",
    "            new_text = new_text + \" \" + word\n",
    "        text[i] = new_text"
   ]
  },
  {
   "cell_type": "code",
   "execution_count": 7,
   "metadata": {},
   "outputs": [
    {
     "name": "stderr",
     "output_type": "stream",
     "text": [
      "100%|██████████| 7769/7769 [00:00<00:00, 19728.39it/s]\n"
     ]
    }
   ],
   "source": [
    "# punctuation\n",
    "from nltk.tokenize import RegexpTokenizer\n",
    "\n",
    "tokenizer = RegexpTokenizer(r'\\w+')\n",
    "for i in tqdm(range(len(text))):\n",
    "    text[i] = ' '.join(tokenizer.tokenize(text[i]))"
   ]
  },
  {
   "cell_type": "code",
   "execution_count": 8,
   "metadata": {},
   "outputs": [
    {
     "name": "stderr",
     "output_type": "stream",
     "text": [
      "100%|██████████| 7769/7769 [00:00<00:00, 18007.68it/s]\n"
     ]
    }
   ],
   "source": [
    "# single character\n",
    "for i in tqdm(range(len(text))):\n",
    "    temp = text[i].split()\n",
    "    new_text = ''\n",
    "    for word in temp:\n",
    "        if len(word) > 1:\n",
    "            new_text = new_text + \" \" + word\n",
    "    text[i] = new_text"
   ]
  },
  {
   "cell_type": "code",
   "execution_count": 9,
   "metadata": {},
   "outputs": [
    {
     "name": "stderr",
     "output_type": "stream",
     "text": [
      "100%|██████████| 7769/7769 [00:11<00:00, 655.16it/s]\n"
     ]
    }
   ],
   "source": [
    "# stemming\n",
    "from nltk.stem import PorterStemmer\n",
    "stemmer = PorterStemmer()\n",
    "for i in tqdm(range(len(text))):\n",
    "    temp = text[i].split()\n",
    "    new_text = ''\n",
    "    for word in temp:\n",
    "        new_text = new_text + \" \" + stemmer.stem(word)\n",
    "    text[i] = new_text"
   ]
  },
  {
   "cell_type": "code",
   "execution_count": 10,
   "metadata": {},
   "outputs": [
    {
     "name": "stdout",
     "output_type": "stream",
     "text": [
      "Num Unique Words: 19658\n"
     ]
    }
   ],
   "source": [
    "# получим все уникальные слова\n",
    "UniqueWords = set()\n",
    "for i in range(len(text)):\n",
    "    words = text[i].split()\n",
    "    words = set(words)\n",
    "    UniqueWords = UniqueWords.union(words)\n",
    "    \n",
    "print('Num Unique Words: {}'.format(len(UniqueWords)))"
   ]
  },
  {
   "cell_type": "code",
   "execution_count": 11,
   "metadata": {},
   "outputs": [
    {
     "name": "stderr",
     "output_type": "stream",
     "text": [
      "100%|██████████| 7769/7769 [00:00<00:00, 26507.06it/s]\n"
     ]
    }
   ],
   "source": [
    "# посмотрим что с распределением количества слов\n",
    "num_words = dict.fromkeys(UniqueWords, 0)\n",
    "for i in tqdm(range(len(text))):\n",
    "    for word in text[i].split():\n",
    "        num_words[word] += 1"
   ]
  },
  {
   "cell_type": "code",
   "execution_count": 12,
   "metadata": {},
   "outputs": [
    {
     "data": {
      "image/png": "[encoded data removed]",
      "text/plain": [
       "<Figure size 432x288 with 1 Axes>"
      ]
     },
     "metadata": {
      "needs_background": "light"
     },
     "output_type": "display_data"
    }
   ],
   "source": [
    "sns.distplot(list(num_words.values()));"
   ]
  },
  {
   "cell_type": "markdown",
   "metadata": {},
   "source": [
    "Распределение выглядит плохо, давайте просто удалим по 5% сверху и снизу"
   ]
  },
  {
   "cell_type": "code",
   "execution_count": 13,
   "metadata": {},
   "outputs": [],
   "source": [
    "q_05 = np.quantile(list(num_words.values()), 0.05)\n",
    "q_95 = np.quantile(list(num_words.values()), 0.95)\n",
    "drop_words = [i for i, j in num_words.items() if j > q_95 or j < q_05]\n",
    "for i in drop_words:\n",
    "    num_words.pop(i) "
   ]
  },
  {
   "cell_type": "code",
   "execution_count": 14,
   "metadata": {},
   "outputs": [
    {
     "data": {
      "image/png": "[encoded data removed]",
      "text/plain": [
       "<Figure size 432x288 with 1 Axes>"
      ]
     },
     "metadata": {
      "needs_background": "light"
     },
     "output_type": "display_data"
    }
   ],
   "source": [
    "sns.distplot(list(num_words.values()));"
   ]
  },
  {
   "cell_type": "markdown",
   "metadata": {},
   "source": [
    "В целом выглядит получше, больше похоже на распределение ципфа, давайте эти же слова просто удалим из текста.<br>\n",
    "<b> Я не очень понял почему, но это сильно ухудшает качество, так что удалять ничего не будем, но код я оставил</b> "
   ]
  },
  {
   "cell_type": "code",
   "execution_count": 15,
   "metadata": {},
   "outputs": [],
   "source": [
    "# for i in tqdm(range(len(text))):\n",
    "#     temp = text[i].split()\n",
    "#     new_text = ''\n",
    "#     for word in temp:\n",
    "#         if word not in drop_words:\n",
    "#             new_text = new_text + \" \" + word\n",
    "#     text[i] = new_text"
   ]
  },
  {
   "cell_type": "code",
   "execution_count": 16,
   "metadata": {},
   "outputs": [],
   "source": [
    "# # некоторые документы содержали только редкие слова, давайте просто удалим их\n",
    "# drop_indexes = []\n",
    "# for i in range(len(text)):\n",
    "#     if text[i] == '':\n",
    "#         drop_indexes.append(i)\n",
    "\n",
    "# text = np.delete(text, drop_indexes)\n",
    "# cats = np.delete(cats, drop_indexes)"
   ]
  },
  {
   "cell_type": "markdown",
   "metadata": {},
   "source": [
    "## TF-IDF"
   ]
  },
  {
   "cell_type": "code",
   "execution_count": 17,
   "metadata": {},
   "outputs": [
    {
     "name": "stdout",
     "output_type": "stream",
     "text": [
      "Num Unique Words: 19658\n"
     ]
    }
   ],
   "source": [
    "# получим все уникальные слова еще раз, т.к. часть мы удалили\n",
    "UniqueWords = set()\n",
    "for i in range(len(text)):\n",
    "    words = text[i].split()\n",
    "    words = set(words)\n",
    "    UniqueWords = UniqueWords.union(words)\n",
    "    \n",
    "print('Num Unique Words: {}'.format(len(UniqueWords)))"
   ]
  },
  {
   "cell_type": "code",
   "execution_count": 18,
   "metadata": {},
   "outputs": [
    {
     "name": "stderr",
     "output_type": "stream",
     "text": [
      "100%|██████████| 7769/7769 [00:09<00:00, 813.56it/s]\n"
     ]
    }
   ],
   "source": [
    "BagofWords = []\n",
    "for i in tqdm(range(len(text))):\n",
    "    temp = text[i].split()\n",
    "    temp_words = dict.fromkeys(UniqueWords, 0)\n",
    "    for word in temp:\n",
    "        temp_words[word] += 1\n",
    "    BagofWords.append(temp_words)"
   ]
  },
  {
   "cell_type": "code",
   "execution_count": 19,
   "metadata": {},
   "outputs": [],
   "source": [
    "def get_TF(WordDict, BagofWords):\n",
    "    tfDict = {}\n",
    "    BagOfWordsCount = len(BagofWords)\n",
    "    for word, count in WordDict.items():\n",
    "        tfDict[word] = count / BagOfWordsCount\n",
    "    return tfDict"
   ]
  },
  {
   "cell_type": "code",
   "execution_count": 20,
   "metadata": {},
   "outputs": [
    {
     "name": "stderr",
     "output_type": "stream",
     "text": [
      "100%|██████████| 7769/7769 [00:40<00:00, 194.11it/s]\n"
     ]
    }
   ],
   "source": [
    "TF = []\n",
    "for i in tqdm(range(len(text))):\n",
    "    temp = get_TF(BagofWords[i], text[i].split())\n",
    "    TF.append(temp)"
   ]
  },
  {
   "cell_type": "code",
   "execution_count": 21,
   "metadata": {},
   "outputs": [],
   "source": [
    "def get_IDF(text):\n",
    "    N = len(text)\n",
    "    \n",
    "    idfDict = dict.fromkeys(text[0].keys(), 0)\n",
    "    for document in text:\n",
    "        for word, val in document.items():\n",
    "            if val > 0:\n",
    "                idfDict[word] += 1\n",
    "    \n",
    "    for word, val in idfDict.items():\n",
    "        idfDict[word] = np.log(N / val)\n",
    "    return idfDict"
   ]
  },
  {
   "cell_type": "code",
   "execution_count": 22,
   "metadata": {},
   "outputs": [],
   "source": [
    "IDF = get_IDF(BagofWords)"
   ]
  },
  {
   "cell_type": "code",
   "execution_count": 23,
   "metadata": {},
   "outputs": [],
   "source": [
    "def get_TFIDF(TF, IDF):\n",
    "    tfidf = {}\n",
    "    for word, val in TF.items():\n",
    "        tfidf[word] = val * IDF[word]\n",
    "    return tfidf"
   ]
  },
  {
   "cell_type": "code",
   "execution_count": 24,
   "metadata": {},
   "outputs": [
    {
     "name": "stderr",
     "output_type": "stream",
     "text": [
      "100%|██████████| 7769/7769 [01:39<00:00, 77.76it/s] \n"
     ]
    }
   ],
   "source": [
    "TFIDF = []\n",
    "for i in tqdm(range(len(text))):\n",
    "    temp = get_TFIDF(TF[i], IDF)\n",
    "    TFIDF.append(temp)"
   ]
  },
  {
   "cell_type": "code",
   "execution_count": 25,
   "metadata": {},
   "outputs": [],
   "source": [
    "import scipy\n",
    "df = pd.DataFrame(TFIDF)\n",
    "result = scipy.sparse.csr_matrix(df.values)"
   ]
  },
  {
   "cell_type": "markdown",
   "metadata": {},
   "source": [
    "Давайте посмотрим на KNN для того что я руками сделал и что может выдать Sklearn чтобы проверить что примерно одно и то же получилось"
   ]
  },
  {
   "cell_type": "code",
   "execution_count": 26,
   "metadata": {},
   "outputs": [
    {
     "data": {
      "text/plain": [
       "0.8098854421418458"
      ]
     },
     "execution_count": 26,
     "metadata": {},
     "output_type": "execute_result"
    }
   ],
   "source": [
    "# Ручной tfidf\n",
    "from sklearn.neighbors import KNeighborsClassifier\n",
    "model = KNeighborsClassifier()\n",
    "model.fit(result, cats)\n",
    "model.score(result, cats)"
   ]
  },
  {
   "cell_type": "code",
   "execution_count": 27,
   "metadata": {},
   "outputs": [
    {
     "data": {
      "text/plain": [
       "0.8428369159479985"
      ]
     },
     "execution_count": 27,
     "metadata": {},
     "output_type": "execute_result"
    }
   ],
   "source": [
    "# sklearn tfidf\n",
    "from sklearn.feature_extraction.text import TfidfVectorizer\n",
    "vectorizer = TfidfVectorizer()\n",
    "sklearn_tfidf = vectorizer.fit_transform(text)\n",
    "model = KNeighborsClassifier()\n",
    "model.fit(sklearn_tfidf, cats)\n",
    "model.score(sklearn_tfidf, cats)"
   ]
  },
  {
   "cell_type": "markdown",
   "metadata": {},
   "source": [
    "Разница есть, видимо sklearn как-то по другому что-то считает и видимо эффективней. Я пробовал удалять редкие слова, но там совсем все плохо получается. Посмотрел просто глазами и цифры тоже разные получаются, возможно я что-то не так закодил или sklearn как-то по другому считает. В итоге лучше использовать из sklearn tfidf."
   ]
  },
  {
   "cell_type": "markdown",
   "metadata": {},
   "source": [
    "## SVM"
   ]
  },
  {
   "cell_type": "code",
   "execution_count": 28,
   "metadata": {},
   "outputs": [
    {
     "data": {
      "text/plain": [
       "(array(['acq', 'acq coffee', 'acq crude', 'acq earn', 'acq pet-chem',\n",
       "        'acq ship', 'acq sugar', 'acq trade', 'acq trade dlr money-fx',\n",
       "        'alum', 'alum earn', 'alum nickel silver zinc lead copper',\n",
       "        'barley corn grain', 'barley corn wheat grain', 'barley grain',\n",
       "        'barley sorghum corn wheat grain',\n",
       "        'barley sorghum soy-oil veg-oil meal-feed soybean oilseed wheat corn grain',\n",
       "        'barley wheat', 'barley wheat corn grain', 'barley wheat grain',\n",
       "        'bop', 'bop coffee gnp', 'bop gnp', 'bop trade', 'carcass',\n",
       "        'carcass hog livestock', 'carcass l-cattle livestock',\n",
       "        'carcass livestock', 'carcass livestock sugar grain',\n",
       "        'carcass livestock veg-oil', 'castor-oil veg-oil oilseed', 'cocoa',\n",
       "        'cocoa sugar coffee', 'cocoa sugar trade soybean oilseed coffee',\n",
       "        'cocoa trade', 'coconut oilseed', 'coconut-oil palm-oil veg-oil',\n",
       "        'coconut-oil palm-oil veg-oil soybean oilseed',\n",
       "        'coconut-oil veg-oil', 'coconut-oil veg-oil trade', 'coffee',\n",
       "        'coffee cocoa', 'coffee cocoa tea', 'coffee gnp', 'coffee ship',\n",
       "        'coffee trade', 'copper', 'copper acq', 'copper earn',\n",
       "        'copper gold', 'copper lead zinc',\n",
       "        'copper nickel palladium platinum gold', 'copper silver',\n",
       "        'copper wheat grain', 'copra-cake meal-feed', 'corn barley grain',\n",
       "        'corn barley sorghum cotton corn wheat grain',\n",
       "        'corn barley wheat grain', 'corn grain', 'corn grain acq',\n",
       "        'corn grain gas', 'corn grain money-fx',\n",
       "        'corn grain soy-meal meal-feed', 'corn grain sugar',\n",
       "        'corn oilseed grain', 'corn soy-oil oilseed grain', 'corn wheat',\n",
       "        'corn wheat grain', 'corn wheat soybean grain oilseed', 'cotton',\n",
       "        'cotton corn grain', 'cotton corn rice grain',\n",
       "        'cotton iron-steel trade', 'cotton rice grain',\n",
       "        'cotton sorghum corn wheat grain',\n",
       "        'cotton soy-meal meal-feed soy-oil veg-oil soybean oilseed corn grain',\n",
       "        'cotton soy-meal tea coffee palmkernel palm-oil corn copra-cake rubber sugar soybean veg-oil rice wheat grain',\n",
       "        'cotton wheat grain veg-oil', 'cotton-oil sun-oil veg-oil', 'cpi',\n",
       "        'cpi bop gnp trade interest', 'cpi gnp',\n",
       "        'cpi trade gnp jobs retail', 'cpu', 'crude', 'crude acq',\n",
       "        'crude coffee', 'crude earn', 'crude fuel gas', 'crude gas',\n",
       "        'crude interest', 'crude iron-steel',\n",
       "        'crude iron-steel coffee tea wheat grain trade',\n",
       "        'crude iron-steel tea coffee wheat grain trade', 'crude nat-gas',\n",
       "        'crude pet-chem', 'crude ship', 'crude ship trade',\n",
       "        'crude sugar acq', 'crude trade', 'crude trade ship',\n",
       "        'dfl bop cpi jobs gnp', 'dfl money-fx', 'dlr', 'dlr bop gnp trade',\n",
       "        'dlr gnp crude money-fx bop trade', 'dlr interest',\n",
       "        'dlr interest money-fx', 'dlr money-fx', 'dlr money-fx bop trade',\n",
       "        'dlr money-fx interest', 'dlr wheat grain', 'dlr yen money-fx',\n",
       "        'dlr yen trade', 'dmk', 'dmk dlr money-fx', 'dmk nkr dlr money-fx',\n",
       "        'earn', 'earn acq', 'earn alum iron-steel', 'earn copper',\n",
       "        'earn nat-gas crude', 'fuel', 'fuel crude', 'fuel crude gas',\n",
       "        'fuel crude ship', 'fuel gas', 'fuel gas crude',\n",
       "        'fuel jet naphtha heat', 'fuel nat-gas crude', 'gas', 'gas cpi',\n",
       "        'gas crude', 'gas crude earn', 'gas heat', 'gas heat propane',\n",
       "        'gas ship', 'gnp', 'gnp bop trade', 'gnp cpi', 'gnp interest',\n",
       "        'gnp interest housing', 'gnp money-fx', 'gnp money-supply',\n",
       "        'gnp trade', 'gnp trade bop', 'gnp yen money-fx', 'gold',\n",
       "        'gold acq', 'gold silver', 'grain', 'grain barley',\n",
       "        'grain carcass livestock', 'grain corn', 'grain corn sugar',\n",
       "        'grain oilseed trade', 'grain reserves cpi gnp', 'grain rice',\n",
       "        'grain ship', 'grain sorghum corn', 'grain trade',\n",
       "        'grain veg-oil sugar cotton', 'grain wheat',\n",
       "        'groundnut soybean rapeseed sunseed grain wheat cotton oilseed',\n",
       "        'groundnut veg-oil',\n",
       "        'groundnut-oil palm-oil soy-oil veg-oil rapeseed soybean sunseed oilseed',\n",
       "        'heat', 'heat crude nat-gas gas wpi', 'heat gas crude',\n",
       "        'heat sugar coffee cocoa', 'hog livestock',\n",
       "        'hog livestock carcass', 'housing', 'income', 'instal-debt',\n",
       "        'interest', 'interest dlr money-fx', 'interest money-fx',\n",
       "        'interest money-fx money-supply', 'interest money-fx trade bop',\n",
       "        'interest money-supply', 'interest yen dlr money-fx',\n",
       "        'interest yen money-fx', 'ipi', 'ipi gnp cpi',\n",
       "        'ipi retail interest', 'iron-steel', 'iron-steel earn',\n",
       "        'iron-steel nat-gas crude', 'iron-steel ship', 'iron-steel trade',\n",
       "        'jet', 'jet fuel crude', 'jobs', 'jobs gnp', 'jobs ipi',\n",
       "        'jobs trade', 'l-cattle', 'l-cattle livestock', 'lead',\n",
       "        'lead zinc', 'lead zinc copper silver gold',\n",
       "        'lead zinc iron-steel', 'lead zinc silver gold',\n",
       "        'lead zinc silver gold acq', 'lei', 'lei gnp', 'livestock',\n",
       "        'livestock carcass',\n",
       "        'livestock carcass hog soy-meal meal-feed barley wheat potato grain',\n",
       "        'livestock carcass hog trade', 'livestock carcass sugar grain',\n",
       "        'livestock hog', 'livestock l-cattle', 'livestock l-cattle hog',\n",
       "        'livestock oilseed corn grain', 'livestock ship',\n",
       "        'livestock soy-meal carcass meal-feed grain', 'livestock sugar',\n",
       "        'lumber', 'meal-feed', 'meal-feed corn grain', 'meal-feed grain',\n",
       "        'meal-feed oilseed', 'meal-feed soy-meal',\n",
       "        'meal-feed veg-oil oilseed grain ship', 'money-fx',\n",
       "        'money-fx cpi gnp', 'money-fx dlr', 'money-fx dmk dlr',\n",
       "        'money-fx gnp', 'money-fx gnp interest', 'money-fx gold',\n",
       "        'money-fx interest', 'money-fx interest bop trade',\n",
       "        'money-fx money-supply', 'money-fx reserves', 'money-fx trade',\n",
       "        'money-fx trade reserves', 'money-supply',\n",
       "        'money-supply bop interest', 'money-supply cpi trade money-fx dlr',\n",
       "        'money-supply gnp', 'money-supply income money-fx',\n",
       "        'money-supply interest', 'money-supply interest money-fx',\n",
       "        'nat-gas', 'nat-gas crude', 'nat-gas crude acq',\n",
       "        'nat-gas crude earn', 'nat-gas crude trade', 'nat-gas earn crude',\n",
       "        'nat-gas pet-chem', 'nickel', 'nickel copper',\n",
       "        'nickel copper palladium platinum gold', 'nzdlr', 'nzdlr money-fx',\n",
       "        'oat barley sorghum corn wheat grain',\n",
       "        'oat barley sorghum wheat cotton corn rice grain',\n",
       "        'oat corn grain', 'oat grain', 'oilseed', 'oilseed coconut',\n",
       "        'oilseed grain', 'oilseed grain ship',\n",
       "        'oilseed grain soybean corn wheat',\n",
       "        'oilseed grain soybean sunseed corn', 'oilseed groundnut',\n",
       "        'oilseed groundnut cotton sugar trade',\n",
       "        'oilseed meal-feed veg-oil', 'oilseed pet-chem',\n",
       "        'oilseed rapeseed', 'oilseed soybean',\n",
       "        'oilseed soybean corn grain', 'oilseed soybean corn wheat grain',\n",
       "        'oilseed soybean sorghum rye oat corn wheat grain',\n",
       "        'oilseed soybean wheat grain',\n",
       "        'oilseed sunseed sorghum corn grain', 'oilseed wheat corn grain',\n",
       "        'oilseed wheat corn grain cotton trade', 'orange',\n",
       "        'orange livestock carcass',\n",
       "        'orange soybean oilseed rice corn grain', 'orange tea',\n",
       "        'palm-oil rape-oil veg-oil', 'palm-oil rubber coffee trade',\n",
       "        'palm-oil veg-oil',\n",
       "        'palm-oil veg-oil naphtha iron-steel cotton trade',\n",
       "        'palm-oil veg-oil rubber bop trade', 'pet-chem',\n",
       "        'pet-chem crude earn', 'pet-chem rubber', 'platinum',\n",
       "        'platinum acq gold', 'potato', 'propane heat nat-gas crude cpi',\n",
       "        'propane nat-gas', 'rand', 'rand money-fx',\n",
       "        'rape-oil sun-oil veg-oil',\n",
       "        'rape-oil sun-oil veg-oil rapeseed sunseed oilseed',\n",
       "        'rape-oil veg-oil', 'rapeseed oilseed',\n",
       "        'rapeseed oilseed barley grain',\n",
       "        'rapeseed oilseed corn grain soy-meal meal-feed',\n",
       "        'rapeseed oilseed corn wheat barley grain',\n",
       "        'rapeseed wheat oilseed grain', 'reserves', 'reserves cpi gnp',\n",
       "        'reserves cpi money-fx trade', 'reserves gnp', 'reserves gold',\n",
       "        'reserves money-fx', 'reserves money-supply', 'retail',\n",
       "        'retail jobs trade gnp', 'retail trade income gnp ipi jobs',\n",
       "        'rice corn grain',\n",
       "        'rice cotton corn carcass soybean oilseed grain',\n",
       "        'rice cotton sorghum barley oilseed soybean wheat corn grain',\n",
       "        'rice cotton soybean oilseed wheat grain',\n",
       "        'rice cotton wheat grain', 'rice grain', 'rice wheat corn grain',\n",
       "        'rice wheat grain', 'rubber',\n",
       "        'rubber coffee cocoa wheat grain sugar tin', 'rubber tea coffee',\n",
       "        'ship', 'ship acq', 'ship coffee', 'ship corn grain', 'ship crude',\n",
       "        'ship earn', 'ship grain', 'ship iron-steel',\n",
       "        'ship oilseed grain rapeseed corn barley wheat',\n",
       "        'ship palm-oil veg-oil', 'ship pet-chem',\n",
       "        'ship rape-oil palm-oil veg-oil',\n",
       "        'ship soy-oil palm-oil corn wheat grain rapeseed oilseed',\n",
       "        'ship sugar', 'ship wheat grain', 'silver', 'silver acq',\n",
       "        'silver gold', 'silver zinc copper', 'sorghum corn grain',\n",
       "        'sorghum corn wheat grain', 'sorghum cotton',\n",
       "        'sorghum oat barley corn wheat grain',\n",
       "        'sorghum soybean corn sunseed oilseed grain', 'soy-meal meal-feed',\n",
       "        'soy-meal meal-feed oilseed soybean veg-oil',\n",
       "        'soy-meal meal-feed soybean oilseed',\n",
       "        'soy-meal soy-oil soybean meal-feed oilseed veg-oil',\n",
       "        'soy-meal sun-meal meal-feed', 'soy-oil soybean oilseed',\n",
       "        'soy-oil veg-oil', 'soy-oil veg-oil soy-meal soybean oilseed',\n",
       "        'soybean corn oilseed grain', 'soybean oilseed',\n",
       "        'soybean oilseed corn grain', 'soybean oilseed corn oat grain',\n",
       "        'soybean oilseed corn wheat grain', 'soybean oilseed grain',\n",
       "        'soybean oilseed oat wheat cotton grain',\n",
       "        'soybean oilseed rice cotton grain',\n",
       "        'soybean oilseed sorghum corn grain meal-feed',\n",
       "        'soybean oilseed soy-oil veg-oil',\n",
       "        'soybean oilseed sunseed sorghum corn grain',\n",
       "        'soybean oilseed veg-oil', 'soybean oilseed wheat corn grain',\n",
       "        'soybean oilseed wheat grain',\n",
       "        'soybean sunseed oilseed sorghum corn grain', 'soybean veg-oil',\n",
       "        'soybean veg-oil oilseed', 'strategic-metal',\n",
       "        'strategic-metal acq', 'strategic-metal earn',\n",
       "        'strategic-metal gold zinc lead copper silver',\n",
       "        'strategic-metal nickel acq', 'strategic-metal platinum gold',\n",
       "        'strategic-metal zinc lead copper', 'sugar', 'sugar carcass',\n",
       "        'sugar carcass l-cattle livestock', 'sugar cocoa coffee',\n",
       "        'sugar corn grain', 'sugar nat-gas crude',\n",
       "        'sugar tea wheat rice grain', 'sugar trade', 'sugar wheat grain',\n",
       "        'sun-oil veg-oil', 'sunseed sorghum soybean oilseed corn grain',\n",
       "        'sunseed soybean rapeseed oilseed', 'tea', 'tin', 'trade',\n",
       "        'trade acq', 'trade bop', 'trade carcass livestock',\n",
       "        'trade dlr money-fx', 'trade gnp', 'trade gnp interest',\n",
       "        'trade ipi', 'trade iron-steel', 'trade jobs', 'trade money-fx',\n",
       "        'trade money-fx interest gnp', 'trade reserves',\n",
       "        'trade yen money-fx', 'veg-oil', 'veg-oil corn grain',\n",
       "        'veg-oil cotton oilseed groundnut livestock carcass sugar corn wheat grain',\n",
       "        'veg-oil grain wheat', 'veg-oil meal-feed', 'veg-oil oilseed',\n",
       "        'veg-oil oilseed palmkernel palm-oil', 'veg-oil palm-oil',\n",
       "        'veg-oil soybean oilseed', 'veg-oil soybean oilseed wheat grain',\n",
       "        'veg-oil trade', 'veg-oil wheat grain', 'wheat corn grain',\n",
       "        'wheat corn grain soybean oilseed', 'wheat grain',\n",
       "        'wheat grain ship', 'wheat grain trade',\n",
       "        'wheat sorghum grain sunseed corn oilseed soybean sun-oil soy-oil lin-oil veg-oil',\n",
       "        'wpi', 'wpi cpi', 'wpi ipi gnp interest', 'wpi money-supply',\n",
       "        'wpi nat-gas gas crude', 'yen dlr money-fx', 'yen dmk money-fx',\n",
       "        'yen money-fx', 'zinc', 'zinc copper', 'zinc lead',\n",
       "        'zinc lead silver gold acq'], dtype='<U108'),\n",
       " array([1596,    1,    2,    9,    1,    1,    1,    1,    1,   31,    2,\n",
       "           1,    2,    1,    8,    1,    1,    1,    3,    6,   22,    1,\n",
       "           3,   23,    6,    1,    1,   17,    1,    1,    1,   46,    2,\n",
       "           1,    1,    3,    1,    1,    1,    1,   90,    1,    1,    1,\n",
       "           1,    1,   31,    1,    1,    1,    1,    1,    1,    1,    1,\n",
       "           1,    1,    3,   67,    2,    1,    1,    1,    2,    1,    1,\n",
       "           2,   15,    1,   15,    1,    1,    1,    1,    1,    1,    1,\n",
       "           1,    1,   54,    1,    1,    1,    3,  253,    8,    1,    6,\n",
       "           1,    5,    1,    1,    1,    1,    2,    1,   13,    1,    1,\n",
       "           1,    1,    1,    1,    3,    1,    1,    1,    1,   65,    1,\n",
       "           1,    1,    2,    1,    1,    6,    1, 2840,    7,    1,    1,\n",
       "           1,    4,    1,    1,    1,    1,    1,    1,    1,   10,    1,\n",
       "           8,    1,    1,    1,    1,   59,    1,    2,    2,    1,    1,\n",
       "           1,    1,    1,    2,   70,    3,    1,   41,    1,    1,    6,\n",
       "           1,    1,    1,    1,    3,    1,    3,    1,   13,    1,    1,\n",
       "           1,    6,    1,    2,    1,    3,    1,   15,    7,    5,  191,\n",
       "           1,  112,    1,    1,    4,    1,    1,   34,    1,    1,   26,\n",
       "           1,    1,    2,    1,    2,    1,   37,    2,    1,    1,    1,\n",
       "           1,    4,    1,    1,    1,    1,    1,   11,    1,   16,   11,\n",
       "           1,    1,    1,    8,    1,    1,    1,    1,    1,    1,   10,\n",
       "          10,    1,    1,    1,    1,    1,  222,    1,   15,    1,    1,\n",
       "           1,    1,   16,    2,    2,    2,    9,    1,  123,    1,    1,\n",
       "           1,    1,    1,    2,   24,   32,    3,    3,    1,    1,    1,\n",
       "           3,    1,    1,    1,    1,    1,    1,    1,    1,    9,    1,\n",
       "           1,    2,    1,    1,    1,    1,    1,    1,    2,    4,    1,\n",
       "           2,    1,    1,    1,    1,    1,   13,    1,    1,    1,    1,\n",
       "           1,   17,    1,    1,   13,    1,    1,    1,    1,    2,    1,\n",
       "           1,    1,    1,    1,    1,    1,    6,    1,    1,    1,    1,\n",
       "          37,    1,    1,    1,    2,    6,    1,   19,    1,    1,    1,\n",
       "           1,    1,    1,    2,   14,    2,    5,   31,    1,    1,  108,\n",
       "           4,    2,    2,   24,    1,   13,    1,    1,    1,    1,    1,\n",
       "           1,    4,    3,    4,    1,    7,    1,    5,    1,    1,    1,\n",
       "           1,    1,    1,    1,    1,    1,    1,    4,    1,    2,   16,\n",
       "           5,    1,    4,    2,    1,    1,    1,    1,    1,    2,    2,\n",
       "           1,    1,    1,    1,    9,    2,    1,    1,    1,    1,    1,\n",
       "          97,    1,    1,    1,    1,    1,    1,    1,    1,    1,    1,\n",
       "           1,    2,   17,  250,    1,   14,    1,    3,    3,    1,    2,\n",
       "           1,    1,    8,    1,    2,    1,   19,    1,    1,    1,    1,\n",
       "           1,    1,    1,    1,    1,    3,    1,    4,    1,  102,    2,\n",
       "           1,    1,   14,    1,    1,    1,    1,   23,    1,   13,    8,\n",
       "           1,    1,    1], dtype=int64))"
      ]
     },
     "execution_count": 28,
     "metadata": {},
     "output_type": "execute_result"
    }
   ],
   "source": [
    "# посмотрим как распределены классы\n",
    "x = np.unique(cats, return_counts=True)[0]\n",
    "y = np.unique(cats, return_counts=True)[1]\n",
    "x, y"
   ]
  },
  {
   "cell_type": "markdown",
   "metadata": {},
   "source": [
    "Классы распределены довольно плохо, давайте просто accuracy считать"
   ]
  },
  {
   "cell_type": "code",
   "execution_count": 29,
   "metadata": {},
   "outputs": [],
   "source": [
    "from sklearn.svm import SVC\n",
    "from sklearn.metrics import accuracy_score"
   ]
  },
  {
   "cell_type": "code",
   "execution_count": 30,
   "metadata": {},
   "outputs": [
    {
     "name": "stdout",
     "output_type": "stream",
     "text": [
      "Wall time: 5min 20s\n"
     ]
    },
    {
     "data": {
      "text/plain": [
       "0.9115716308405201"
      ]
     },
     "execution_count": 30,
     "metadata": {},
     "output_type": "execute_result"
    }
   ],
   "source": [
    "%%time\n",
    "# посмотрим сколько по времени займет и есть ли вообще смысл его считать\n",
    "model = SVC()\n",
    "model.fit(sklearn_tfidf, cats)\n",
    "model.score(sklearn_tfidf, cats)"
   ]
  },
  {
   "cell_type": "markdown",
   "metadata": {},
   "source": [
    "По времени нормально работает, давайте посмотрим можно ли подобрать параметры часа за два"
   ]
  },
  {
   "cell_type": "code",
   "execution_count": 31,
   "metadata": {},
   "outputs": [],
   "source": [
    "from sklearn.model_selection import train_test_split\n",
    "X_train, X_test, y_train, y_test = train_test_split(sklearn_tfidf, cats)"
   ]
  },
  {
   "cell_type": "code",
   "execution_count": 32,
   "metadata": {},
   "outputs": [],
   "source": [
    "import optuna\n",
    "np.random.seed(42)"
   ]
  },
  {
   "cell_type": "code",
   "execution_count": 33,
   "metadata": {},
   "outputs": [],
   "source": [
    "def objective(trial):\n",
    "    C = trial.suggest_uniform('C', 0, 10)\n",
    "    kernel = trial.suggest_categorical('kernel', ['linear', 'poly', 'rbf', 'sigmoid'])\n",
    "    model = SVC(C=C, kernel=kernel, random_state=42)\n",
    "    model.fit(X_train, y_train)\n",
    "    y_pred = model.predict(X_test)\n",
    "    score = accuracy_score(y_test, y_pred)       \n",
    "    return score"
   ]
  },
  {
   "cell_type": "code",
   "execution_count": 34,
   "metadata": {},
   "outputs": [
    {
     "name": "stderr",
     "output_type": "stream",
     "text": [
      "\u001b[32m[I 2020-11-10 12:16:11,492]\u001b[0m A new study created in memory with name: no-name-18e4bffa-b5ee-4b5d-934c-09fd470a1fc2\u001b[0m\n",
      "C:\\Users\\Maksim_Krug\\Anaconda3\\lib\\site-packages\\optuna\\progress_bar.py:47: ExperimentalWarning:\n",
      "\n",
      "Progress bar is experimental (supported from v1.2.0). The interface can change in the future.\n",
      "\n"
     ]
    },
    {
     "data": {
      "application/vnd.jupyter.widget-view+json": {
       "model_id": "cc8b07a91cb547199d56d3c265051967",
       "version_major": 2,
       "version_minor": 0
      },
      "text/plain": [
       "HBox(children=(FloatProgress(value=0.0), HTML(value='')))"
      ]
     },
     "metadata": {},
     "output_type": "display_data"
    },
    {
     "name": "stdout",
     "output_type": "stream",
     "text": [
      "\u001b[32m[I 2020-11-10 12:19:02,167]\u001b[0m Trial 0 finished with value: 0.827071538857437 and parameters: {'C': 8.591326121930337, 'kernel': 'rbf'}. Best is trial 0 with value: 0.827071538857437.\u001b[0m\n",
      "\u001b[32m[I 2020-11-10 12:20:14,144]\u001b[0m Trial 1 finished with value: 0.8528049408131755 and parameters: {'C': 5.2821606866341675, 'kernel': 'linear'}. Best is trial 1 with value: 0.8528049408131755.\u001b[0m\n",
      "\u001b[32m[I 2020-11-10 12:23:04,486]\u001b[0m Trial 2 finished with value: 0.827071538857437 and parameters: {'C': 3.470276540950399, 'kernel': 'rbf'}. Best is trial 1 with value: 0.8528049408131755.\u001b[0m\n",
      "\u001b[32m[I 2020-11-10 12:33:37,041]\u001b[0m Trial 3 finished with value: 0.6906845084920227 and parameters: {'C': 7.452000969396794, 'kernel': 'poly'}. Best is trial 1 with value: 0.8528049408131755.\u001b[0m\n",
      "\u001b[32m[I 2020-11-10 12:36:28,029]\u001b[0m Trial 4 finished with value: 0.8265568708183222 and parameters: {'C': 4.630003982057169, 'kernel': 'rbf'}. Best is trial 1 with value: 0.8528049408131755.\u001b[0m\n",
      "\u001b[32m[I 2020-11-10 12:46:41,863]\u001b[0m Trial 5 finished with value: 0.6906845084920227 and parameters: {'C': 8.31938197019072, 'kernel': 'poly'}. Best is trial 1 with value: 0.8528049408131755.\u001b[0m\n",
      "\u001b[32m[I 2020-11-10 12:47:52,860]\u001b[0m Trial 6 finished with value: 0.8512609366958311 and parameters: {'C': 7.167001081622104, 'kernel': 'linear'}. Best is trial 1 with value: 0.8528049408131755.\u001b[0m\n",
      "\u001b[32m[I 2020-11-10 12:58:01,980]\u001b[0m Trial 7 finished with value: 0.6901698404529079 and parameters: {'C': 5.204806535939447, 'kernel': 'poly'}. Best is trial 1 with value: 0.8528049408131755.\u001b[0m\n",
      "\u001b[32m[I 2020-11-10 13:00:48,849]\u001b[0m Trial 8 finished with value: 0.8255275347400927 and parameters: {'C': 1.4745692653690656, 'kernel': 'rbf'}. Best is trial 1 with value: 0.8528049408131755.\u001b[0m\n",
      "\u001b[32m[I 2020-11-10 13:01:59,690]\u001b[0m Trial 9 finished with value: 0.8502316006176016 and parameters: {'C': 7.830005367237134, 'kernel': 'linear'}. Best is trial 1 with value: 0.8528049408131755.\u001b[0m\n",
      "\u001b[32m[I 2020-11-10 13:03:03,646]\u001b[0m Trial 10 finished with value: 0.8528049408131755 and parameters: {'C': 1.3933018564861621, 'kernel': 'sigmoid'}. Best is trial 1 with value: 0.8528049408131755.\u001b[0m\n",
      "\u001b[32m[I 2020-11-10 13:04:04,234]\u001b[0m Trial 11 finished with value: 0.8054554812146165 and parameters: {'C': 0.4720284550317766, 'kernel': 'sigmoid'}. Best is trial 1 with value: 0.8528049408131755.\u001b[0m\n",
      "\u001b[32m[I 2020-11-10 13:05:06,742]\u001b[0m Trial 12 finished with value: 0.8543489449305198 and parameters: {'C': 2.9675612194723344, 'kernel': 'sigmoid'}. Best is trial 12 with value: 0.8543489449305198.\u001b[0m\n",
      "\u001b[32m[I 2020-11-10 13:06:16,692]\u001b[0m Trial 13 finished with value: 0.8522902727740608 and parameters: {'C': 2.9116085452454845, 'kernel': 'linear'}. Best is trial 12 with value: 0.8543489449305198.\u001b[0m\n",
      "\u001b[32m[I 2020-11-10 13:07:18,941]\u001b[0m Trial 14 finished with value: 0.8528049408131755 and parameters: {'C': 5.921056472473025, 'kernel': 'sigmoid'}. Best is trial 12 with value: 0.8543489449305198.\u001b[0m\n",
      "\u001b[32m[I 2020-11-10 13:08:21,396]\u001b[0m Trial 15 finished with value: 0.853834276891405 and parameters: {'C': 3.5678582143523436, 'kernel': 'sigmoid'}. Best is trial 12 with value: 0.8543489449305198.\u001b[0m\n",
      "\u001b[32m[I 2020-11-10 13:09:24,202]\u001b[0m Trial 16 finished with value: 0.8558929490478642 and parameters: {'C': 3.38170441861067, 'kernel': 'sigmoid'}. Best is trial 16 with value: 0.8558929490478642.\u001b[0m\n",
      "\u001b[32m[I 2020-11-10 13:10:26,843]\u001b[0m Trial 17 finished with value: 0.8553782810087494 and parameters: {'C': 2.338946317069671, 'kernel': 'sigmoid'}. Best is trial 16 with value: 0.8558929490478642.\u001b[0m\n",
      "\u001b[32m[I 2020-11-10 13:11:28,952]\u001b[0m Trial 18 finished with value: 0.8512609366958311 and parameters: {'C': 9.94756391959843, 'kernel': 'sigmoid'}. Best is trial 16 with value: 0.8558929490478642.\u001b[0m\n",
      "\u001b[32m[I 2020-11-10 13:12:31,442]\u001b[0m Trial 19 finished with value: 0.8543489449305198 and parameters: {'C': 1.6678588100044363, 'kernel': 'sigmoid'}. Best is trial 16 with value: 0.8558929490478642.\u001b[0m\n",
      "\u001b[32m[I 2020-11-10 13:13:31,112]\u001b[0m Trial 20 finished with value: 0.7848687596500258 and parameters: {'C': 0.29414380567988685, 'kernel': 'sigmoid'}. Best is trial 16 with value: 0.8558929490478642.\u001b[0m\n",
      "\u001b[32m[I 2020-11-10 13:14:33,650]\u001b[0m Trial 21 finished with value: 0.853834276891405 and parameters: {'C': 1.8343108434426698, 'kernel': 'sigmoid'}. Best is trial 16 with value: 0.8558929490478642.\u001b[0m\n",
      "\u001b[32m[I 2020-11-10 13:15:36,209]\u001b[0m Trial 22 finished with value: 0.8548636129696345 and parameters: {'C': 1.9026426260771523, 'kernel': 'sigmoid'}. Best is trial 16 with value: 0.8558929490478642.\u001b[0m\n",
      "\u001b[32m[I 2020-11-10 13:16:38,928]\u001b[0m Trial 23 finished with value: 0.8558929490478642 and parameters: {'C': 2.289582343639685, 'kernel': 'sigmoid'}. Best is trial 16 with value: 0.8558929490478642.\u001b[0m\n",
      "\u001b[32m[I 2020-11-10 13:17:41,214]\u001b[0m Trial 24 finished with value: 0.8548636129696345 and parameters: {'C': 4.1066034977545245, 'kernel': 'sigmoid'}. Best is trial 16 with value: 0.8558929490478642.\u001b[0m\n",
      "\u001b[32m[I 2020-11-10 13:18:43,740]\u001b[0m Trial 25 finished with value: 0.8558929490478642 and parameters: {'C': 2.6294081284993664, 'kernel': 'sigmoid'}. Best is trial 16 with value: 0.8558929490478642.\u001b[0m\n",
      "\u001b[32m[I 2020-11-10 13:19:45,046]\u001b[0m Trial 26 finished with value: 0.835820895522388 and parameters: {'C': 0.7176240654475192, 'kernel': 'sigmoid'}. Best is trial 16 with value: 0.8558929490478642.\u001b[0m\n",
      "\u001b[32m[I 2020-11-10 13:20:47,646]\u001b[0m Trial 27 finished with value: 0.8558929490478642 and parameters: {'C': 2.810898229996646, 'kernel': 'sigmoid'}. Best is trial 16 with value: 0.8558929490478642.\u001b[0m\n",
      "\u001b[32m[I 2020-11-10 13:21:55,268]\u001b[0m Trial 28 finished with value: 0.8558929490478642 and parameters: {'C': 2.811885325231639, 'kernel': 'sigmoid'}. Best is trial 16 with value: 0.8558929490478642.\u001b[0m\n",
      "\u001b[32m[I 2020-11-10 13:22:57,624]\u001b[0m Trial 29 finished with value: 0.8558929490478642 and parameters: {'C': 4.434627472178065, 'kernel': 'sigmoid'}. Best is trial 16 with value: 0.8558929490478642.\u001b[0m\n",
      "\u001b[32m[I 2020-11-10 13:33:02,102]\u001b[0m Trial 30 finished with value: 0.6901698404529079 and parameters: {'C': 4.158897267513533, 'kernel': 'poly'}. Best is trial 16 with value: 0.8558929490478642.\u001b[0m\n",
      "\u001b[32m[I 2020-11-10 13:34:04,537]\u001b[0m Trial 31 finished with value: 0.853834276891405 and parameters: {'C': 3.1773141517804984, 'kernel': 'sigmoid'}. Best is trial 16 with value: 0.8558929490478642.\u001b[0m\n",
      "\u001b[32m[I 2020-11-10 13:35:06,885]\u001b[0m Trial 32 finished with value: 0.8558929490478642 and parameters: {'C': 4.376614819569406, 'kernel': 'sigmoid'}. Best is trial 16 with value: 0.8558929490478642.\u001b[0m\n",
      "\u001b[32m[I 2020-11-10 13:36:09,436]\u001b[0m Trial 33 finished with value: 0.8543489449305198 and parameters: {'C': 3.7033118298861227, 'kernel': 'sigmoid'}. Best is trial 16 with value: 0.8558929490478642.\u001b[0m\n",
      "\u001b[32m[I 2020-11-10 13:39:06,949]\u001b[0m Trial 34 finished with value: 0.8265568708183222 and parameters: {'C': 5.937986892432856, 'kernel': 'rbf'}. Best is trial 16 with value: 0.8558929490478642.\u001b[0m\n",
      "\u001b[32m[I 2020-11-10 13:40:09,562]\u001b[0m Trial 35 finished with value: 0.8564076170869789 and parameters: {'C': 2.792803843546136, 'kernel': 'sigmoid'}. Best is trial 35 with value: 0.8564076170869789.\u001b[0m\n",
      "\u001b[32m[I 2020-11-10 13:41:11,959]\u001b[0m Trial 36 finished with value: 0.8528049408131755 and parameters: {'C': 4.7737313698333645, 'kernel': 'sigmoid'}. Best is trial 35 with value: 0.8564076170869789.\u001b[0m\n",
      "\u001b[32m[I 2020-11-10 13:43:50,324]\u001b[0m Trial 37 finished with value: 0.8126608337622233 and parameters: {'C': 0.9721939540448146, 'kernel': 'rbf'}. Best is trial 35 with value: 0.8564076170869789.\u001b[0m\n",
      "\u001b[32m[I 2020-11-10 13:53:54,453]\u001b[0m Trial 38 finished with value: 0.6901698404529079 and parameters: {'C': 2.1461021445760236, 'kernel': 'poly'}. Best is trial 35 with value: 0.8564076170869789.\u001b[0m\n",
      "\u001b[32m[I 2020-11-10 13:55:03,855]\u001b[0m Trial 39 finished with value: 0.8507462686567164 and parameters: {'C': 1.30440884472304, 'kernel': 'linear'}. Best is trial 35 with value: 0.8564076170869789.\u001b[0m\n",
      "\u001b[32m[I 2020-11-10 13:56:06,212]\u001b[0m Trial 40 finished with value: 0.8533196088522903 and parameters: {'C': 3.6192204609374965, 'kernel': 'sigmoid'}. Best is trial 35 with value: 0.8564076170869789.\u001b[0m\n"
     ]
    },
    {
     "name": "stdout",
     "output_type": "stream",
     "text": [
      "\u001b[32m[I 2020-11-10 13:57:08,779]\u001b[0m Trial 41 finished with value: 0.8548636129696345 and parameters: {'C': 2.400210125728452, 'kernel': 'sigmoid'}. Best is trial 35 with value: 0.8564076170869789.\u001b[0m\n",
      "\u001b[32m[I 2020-11-10 13:58:11,475]\u001b[0m Trial 42 finished with value: 0.8564076170869789 and parameters: {'C': 2.712686860827791, 'kernel': 'sigmoid'}. Best is trial 35 with value: 0.8564076170869789.\u001b[0m\n",
      "\u001b[32m[I 2020-11-10 13:59:13,973]\u001b[0m Trial 43 finished with value: 0.8564076170869789 and parameters: {'C': 2.670832958304819, 'kernel': 'sigmoid'}. Best is trial 35 with value: 0.8564076170869789.\u001b[0m\n",
      "\u001b[32m[I 2020-11-10 14:00:16,577]\u001b[0m Trial 44 finished with value: 0.8548636129696345 and parameters: {'C': 2.3843914757054168, 'kernel': 'sigmoid'}. Best is trial 35 with value: 0.8564076170869789.\u001b[0m\n",
      "\u001b[32m[I 2020-11-10 14:01:18,876]\u001b[0m Trial 45 finished with value: 0.851775604734946 and parameters: {'C': 5.538609699656817, 'kernel': 'sigmoid'}. Best is trial 35 with value: 0.8564076170869789.\u001b[0m\n",
      "\u001b[32m[I 2020-11-10 14:02:27,683]\u001b[0m Trial 46 finished with value: 0.8507462686567164 and parameters: {'C': 0.9908857597875658, 'kernel': 'linear'}. Best is trial 35 with value: 0.8564076170869789.\u001b[0m\n",
      "\u001b[32m[I 2020-11-10 14:04:11,823]\u001b[0m Trial 47 finished with value: 0.5661348430262481 and parameters: {'C': 0.12251754937850912, 'kernel': 'rbf'}. Best is trial 35 with value: 0.8564076170869789.\u001b[0m\n",
      "\u001b[32m[I 2020-11-10 14:14:15,618]\u001b[0m Trial 48 finished with value: 0.6901698404529079 and parameters: {'C': 4.087898002548945, 'kernel': 'poly'}. Best is trial 35 with value: 0.8564076170869789.\u001b[0m\n",
      "\u001b[32m[I 2020-11-10 14:15:20,167]\u001b[0m Trial 49 finished with value: 0.853834276891405 and parameters: {'C': 3.2205397890020757, 'kernel': 'sigmoid'}. Best is trial 35 with value: 0.8564076170869789.\u001b[0m\n",
      "\u001b[32m[I 2020-11-10 14:17:56,025]\u001b[0m Trial 50 finished with value: 0.8528049408131755 and parameters: {'C': 5.004906582668505, 'kernel': 'sigmoid'}. Best is trial 35 with value: 0.8564076170869789.\u001b[0m\n",
      "\n",
      "Wall time: 2h 1min 44s\n"
     ]
    }
   ],
   "source": [
    "%%time\n",
    "study = optuna.create_study(direction=\"maximize\")\n",
    "study.optimize(objective, n_trials=100, timeout=120*60, show_progress_bar=True)"
   ]
  },
  {
   "cell_type": "code",
   "execution_count": 35,
   "metadata": {},
   "outputs": [
    {
     "name": "stdout",
     "output_type": "stream",
     "text": [
      "Best Params: {'C': 2.792803843546136, 'kernel': 'sigmoid'}, Best Score: 0.8564076170869789\n"
     ]
    }
   ],
   "source": [
    "print('Best Params: {}, Best Score: {}'.format(study.best_params, study.best_value))"
   ]
  },
  {
   "cell_type": "code",
   "execution_count": 36,
   "metadata": {},
   "outputs": [
    {
     "name": "stdout",
     "output_type": "stream",
     "text": [
      "Model Score: 0.8564076170869789\n"
     ]
    }
   ],
   "source": [
    "# посмотрим на финальное качество\n",
    "model = SVC(C=2.792803843546136, kernel='sigmoid', random_state=42)\n",
    "model.fit(X_train, y_train)\n",
    "y_pred = model.predict(X_test)\n",
    "score = accuracy_score(y_test, y_pred)  \n",
    "print('Model Score: {}'.format(score))"
   ]
  },
  {
   "cell_type": "markdown",
   "metadata": {},
   "source": [
    "В целом качество неплохое, хотя конечно не понятно какое оно должно быть. Давайте попробуем условный XGBoost и посмотрим что он даст чтобы понять хорошее ли у SVM качество"
   ]
  },
  {
   "cell_type": "code",
   "execution_count": 37,
   "metadata": {},
   "outputs": [
    {
     "name": "stdout",
     "output_type": "stream",
     "text": [
      "Model Score: 0.7900154400411734\n"
     ]
    }
   ],
   "source": [
    "from xgboost import XGBClassifier\n",
    "model = XGBClassifier()\n",
    "model.fit(X_train, y_train)\n",
    "y_pred = model.predict(X_test)\n",
    "score = accuracy_score(y_test, y_pred)  \n",
    "print('Model Score: {}'.format(score))"
   ]
  },
  {
   "cell_type": "markdown",
   "metadata": {},
   "source": [
    "XGBoost дает качество хуже, так что можем сделать вывод, что SVM в этой задаче скорее всего вполне неплох. Еще одно интересное наблюдение: SVM и XGBoost работает без перекодировки таргета, а например Logistic Regression требует перекодировать таргет, но да ладно"
   ]
  },
  {
   "cell_type": "markdown",
   "metadata": {},
   "source": [
    "#### Мне все же не понятно почему sklearn работает не так как мой tfidf, давайте посмотрим на примере, который просто посчитать"
   ]
  },
  {
   "cell_type": "code",
   "execution_count": 80,
   "metadata": {},
   "outputs": [
    {
     "data": {
      "text/plain": [
       "0.17328679513998632"
      ]
     },
     "execution_count": 80,
     "metadata": {},
     "output_type": "execute_result"
    }
   ],
   "source": [
    "import numpy as np\n",
    "(np.log(2/1)) * 0.25"
   ]
  },
  {
   "cell_type": "code",
   "execution_count": 45,
   "metadata": {},
   "outputs": [
    {
     "name": "stdout",
     "output_type": "stream",
     "text": [
      "MY TF: [{'my': 0.25, 'is': 0.25, 'lives': 0.0, 'maksim': 0.25, 'name': 0.25, 'here': 0.0}, {'my': 0.0, 'is': 0.0, 'lives': 0.3333333333333333, 'maksim': 0.3333333333333333, 'name': 0.0, 'here': 0.3333333333333333}]\n",
      "MY IDF: {'my': 0.6931471805599453, 'is': 0.6931471805599453, 'lives': 0.6931471805599453, 'maksim': 0.0, 'name': 0.6931471805599453, 'here': 0.6931471805599453}\n",
      "MY TFIDF: [{'my': 0.17328679513998632, 'is': 0.17328679513998632, 'lives': 0.0, 'maksim': 0.0, 'name': 0.17328679513998632, 'here': 0.0}, {'my': 0.0, 'is': 0.0, 'lives': 0.23104906018664842, 'maksim': 0.0, 'name': 0.0, 'here': 0.23104906018664842}]\n"
     ]
    }
   ],
   "source": [
    "text = ['my name is maksim', 'maksim lives here']\n",
    "\n",
    "UniqueWords = set()\n",
    "for i in range(len(text)):\n",
    "    words = text[i].split()\n",
    "    words = set(words)\n",
    "    UniqueWords = UniqueWords.union(words)\n",
    "    \n",
    "BagofWords = []\n",
    "for i in range(len(text)):\n",
    "    temp = text[i].split()\n",
    "    temp_words = dict.fromkeys(UniqueWords, 0)\n",
    "    for word in temp:\n",
    "        temp_words[word] += 1\n",
    "    BagofWords.append(temp_words)\n",
    "    \n",
    "TF = []\n",
    "for i in range(len(text)):\n",
    "    temp = get_TF(BagofWords[i], text[i].split())\n",
    "    TF.append(temp)\n",
    "    \n",
    "IDF = get_IDF(BagofWords)\n",
    "\n",
    "TFIDF = []\n",
    "for i in range(len(text)):\n",
    "    temp = get_TFIDF(TF[i], IDF)\n",
    "    TFIDF.append(temp)\n",
    "    \n",
    "print('MY TF:', TF)\n",
    "print('MY IDF:', IDF)\n",
    "print('MY TFIDF:', TFIDF)"
   ]
  },
  {
   "cell_type": "markdown",
   "metadata": {},
   "source": [
    "Вроде все правильно, теперь посмотрим на sklearn"
   ]
  },
  {
   "cell_type": "code",
   "execution_count": 71,
   "metadata": {},
   "outputs": [
    {
     "data": {
      "text/plain": [
       "array([[0.        , 0.27850374, 0.        , 0.16448879, 0.27850374,\n",
       "        0.27850374],\n",
       "       [0.38600856, 0.        , 0.38600856, 0.22798288, 0.        ,\n",
       "        0.        ]])"
      ]
     },
     "execution_count": 71,
     "metadata": {},
     "output_type": "execute_result"
    }
   ],
   "source": [
    "vectorizer = TfidfVectorizer(use_idf=True, norm='l1', smooth_idf=False, )\n",
    "sklearn_tfidf = vectorizer.fit_transform(text)\n",
    "sklearn_tfidf.toarray()"
   ]
  },
  {
   "cell_type": "code",
   "execution_count": 69,
   "metadata": {},
   "outputs": [
    {
     "data": {
      "text/plain": [
       "array([[0.        , 0.25      , 0.        , 0.25      , 0.25      ,\n",
       "        0.25      ],\n",
       "       [0.33333333, 0.        , 0.33333333, 0.33333333, 0.        ,\n",
       "        0.        ]])"
      ]
     },
     "execution_count": 69,
     "metadata": {},
     "output_type": "execute_result"
    }
   ],
   "source": [
    "# что-то странное, посмотрим на TF\n",
    "text = ['my name is maksim', 'maksim lives here']\n",
    "from sklearn.feature_extraction.text import TfidfVectorizer\n",
    "vectorizer = TfidfVectorizer(use_idf=False, norm='l1')\n",
    "sklearn_tfidf = vectorizer.fit_transform(text)\n",
    "sklearn_tfidf.toarray()"
   ]
  },
  {
   "cell_type": "markdown",
   "metadata": {},
   "source": [
    "Sklearn выдает что-то странное, но работает вроде лучше. В итоге мне не очень понятно в чем разница, так что если честно я просто забил"
   ]
  },
  {
   "cell_type": "code",
   "execution_count": null,
   "metadata": {},
   "outputs": [],
   "source": []
  },
  {
   "cell_type": "code",
   "execution_count": null,
   "metadata": {},
   "outputs": [],
   "source": []
  },
  {
   "cell_type": "code",
   "execution_count": null,
   "metadata": {},
   "outputs": [],
   "source": []
  }
 ],
 "metadata": {
  "kernelspec": {
   "display_name": "Python 3",
   "language": "python",
   "name": "python3"
  },
  "language_info": {
   "codemirror_mode": {
    "name": "ipython",
    "version": 3
   },
   "file_extension": ".py",
   "mimetype": "text/x-python",
   "name": "python",
   "nbconvert_exporter": "python",
   "pygments_lexer": "ipython3",
   "version": "3.6.10"
  }
 },
 "nbformat": 4,
 "nbformat_minor": 4
}
