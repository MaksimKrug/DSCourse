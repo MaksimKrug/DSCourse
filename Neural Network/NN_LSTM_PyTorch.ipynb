{
 "cells": [
  {
   "cell_type": "code",
   "execution_count": 1,
   "metadata": {},
   "outputs": [],
   "source": [
    "import numpy as np\n",
    "import pandas as pd\n",
    "import matplotlib.pyplot as plt\n",
    "import seaborn as sns\n",
    "from tqdm import tqdm\n",
    "from gensim.parsing.preprocessing import STOPWORDS\n",
    "import spacy\n",
    "from sklearn.model_selection import train_test_split\n",
    "from sklearn.metrics import mean_absolute_error\n",
    "\n",
    "from torch.utils.data import Dataset, DataLoader\n",
    "import torch\n",
    "from torch import nn\n",
    "import torch.nn.functional as F\n",
    "\n",
    "from warnings import filterwarnings\n",
    "filterwarnings('ignore')"
   ]
  },
  {
   "cell_type": "markdown",
   "metadata": {},
   "source": [
    "## Load Data"
   ]
  },
  {
   "cell_type": "code",
   "execution_count": 2,
   "metadata": {},
   "outputs": [
    {
     "data": {
      "text/plain": [
       "(17249, 2)"
      ]
     },
     "execution_count": 2,
     "metadata": {},
     "output_type": "execute_result"
    }
   ],
   "source": [
    "df = pd.read_csv('Feedback.csv')\n",
    "df = df[['Feedback', 'Rating']]\n",
    "df['Rating'] = df['Rating'].astype(int)\n",
    "df['Rating'] = df['Rating'] - 1\n",
    "df.shape"
   ]
  },
  {
   "cell_type": "code",
   "execution_count": 3,
   "metadata": {},
   "outputs": [
    {
     "data": {
      "text/html": [
       "<div>\n",
       "<style scoped>\n",
       "    .dataframe tbody tr th:only-of-type {\n",
       "        vertical-align: middle;\n",
       "    }\n",
       "\n",
       "    .dataframe tbody tr th {\n",
       "        vertical-align: top;\n",
       "    }\n",
       "\n",
       "    .dataframe thead th {\n",
       "        text-align: right;\n",
       "    }\n",
       "</style>\n",
       "<table border=\"1\" class=\"dataframe\">\n",
       "  <thead>\n",
       "    <tr style=\"text-align: right;\">\n",
       "      <th></th>\n",
       "      <th>Feedback</th>\n",
       "      <th>Rating</th>\n",
       "    </tr>\n",
       "  </thead>\n",
       "  <tbody>\n",
       "    <tr>\n",
       "      <th>0</th>\n",
       "      <td>Я являюсь пользователем Пилотов уже больше 10 ...</td>\n",
       "      <td>4</td>\n",
       "    </tr>\n",
       "    <tr>\n",
       "      <th>1</th>\n",
       "      <td>хорошая. почти два года. корпус внушающий дове...</td>\n",
       "      <td>4</td>\n",
       "    </tr>\n",
       "    <tr>\n",
       "      <th>2</th>\n",
       "      <td>Отличная кофемолка во всех отношениях: качеств...</td>\n",
       "      <td>4</td>\n",
       "    </tr>\n",
       "    <tr>\n",
       "      <th>3</th>\n",
       "      <td>Плюсы: компактная, удобна в обращении, не кокс...</td>\n",
       "      <td>4</td>\n",
       "    </tr>\n",
       "    <tr>\n",
       "      <th>4</th>\n",
       "      <td>Тоже сломалась - похоже сгорел мотор.</td>\n",
       "      <td>1</td>\n",
       "    </tr>\n",
       "  </tbody>\n",
       "</table>\n",
       "</div>"
      ],
      "text/plain": [
       "                                            Feedback  Rating\n",
       "0  Я являюсь пользователем Пилотов уже больше 10 ...       4\n",
       "1  хорошая. почти два года. корпус внушающий дове...       4\n",
       "2  Отличная кофемолка во всех отношениях: качеств...       4\n",
       "3  Плюсы: компактная, удобна в обращении, не кокс...       4\n",
       "4              Тоже сломалась - похоже сгорел мотор.       1"
      ]
     },
     "execution_count": 3,
     "metadata": {},
     "output_type": "execute_result"
    }
   ],
   "source": [
    "df.head()"
   ]
  },
  {
   "cell_type": "markdown",
   "metadata": {},
   "source": [
    "## Preprocessing"
   ]
  },
  {
   "cell_type": "code",
   "execution_count": 4,
   "metadata": {},
   "outputs": [],
   "source": [
    "# words count without punctuation\n",
    "from string import punctuation\n",
    "all_reviews = []\n",
    "reviews = df['Feedback'].values\n",
    "\n",
    "for text in reviews:\n",
    "  text = text.lower()\n",
    "  text = \"\".join([ch for ch in text if ch not in punctuation])\n",
    "  all_reviews.append(text)\n",
    "all_text = \" \".join(all_reviews)\n",
    "all_words = all_text.split()"
   ]
  },
  {
   "cell_type": "code",
   "execution_count": 5,
   "metadata": {},
   "outputs": [
    {
     "name": "stdout",
     "output_type": "stream",
     "text": [
      "Top ten occuring words : [('и', 24967), ('не', 23165), ('в', 19261), ('на', 14310), ('что', 8446), ('с', 8279), ('очень', 8211), ('но', 6814), ('для', 5322), ('а', 5237)]\n"
     ]
    }
   ],
   "source": [
    "# Calculate words frquency\n",
    "from collections import Counter \n",
    "\n",
    "count_words = Counter(all_words)\n",
    "total_words=len(all_words)\n",
    "sorted_words=count_words.most_common(total_words)\n",
    "print(f\"Top ten occuring words : {sorted_words[:10]}\")"
   ]
  },
  {
   "cell_type": "code",
   "execution_count": 6,
   "metadata": {},
   "outputs": [],
   "source": [
    "# Stopwords\n",
    "words_frequency = np.array([i[1] for i in sorted_words])\n",
    "lower_bound = 2\n",
    "upper_bound = np.quantile(words_frequency, 0.99)\n",
    "my_stop_words = [i[0] for i in sorted_words if i[1] <= lower_bound or i[1] >= upper_bound]\n",
    "\n",
    "# stopwords = STOPWORDS.union(set(my_stop_words))\n",
    "stopwords = STOPWORDS.union(set(punctuation))"
   ]
  },
  {
   "cell_type": "code",
   "execution_count": 7,
   "metadata": {},
   "outputs": [],
   "source": [
    "# lower\n",
    "df['Feedback'] = df['Feedback'].str.lower()\n",
    "# remove punctuation\n",
    "df['Feedback'] = df['Feedback'].apply(lambda x: \"\".join([i for i in x if i not in punctuation]))\n",
    "# remove stopwords\n",
    "df['Feedback'] = df['Feedback'].apply(lambda x: [i for i in x.split() if i not in stopwords and len(i) > 2])"
   ]
  },
  {
   "cell_type": "code",
   "execution_count": 8,
   "metadata": {},
   "outputs": [
    {
     "data": {
      "text/html": [
       "<div>\n",
       "<style scoped>\n",
       "    .dataframe tbody tr th:only-of-type {\n",
       "        vertical-align: middle;\n",
       "    }\n",
       "\n",
       "    .dataframe tbody tr th {\n",
       "        vertical-align: top;\n",
       "    }\n",
       "\n",
       "    .dataframe thead th {\n",
       "        text-align: right;\n",
       "    }\n",
       "</style>\n",
       "<table border=\"1\" class=\"dataframe\">\n",
       "  <thead>\n",
       "    <tr style=\"text-align: right;\">\n",
       "      <th></th>\n",
       "      <th>Feedback</th>\n",
       "      <th>Rating</th>\n",
       "    </tr>\n",
       "  </thead>\n",
       "  <tbody>\n",
       "    <tr>\n",
       "      <th>0</th>\n",
       "      <td>[являюсь, пользователем, пилотов, уже, больше,...</td>\n",
       "      <td>4</td>\n",
       "    </tr>\n",
       "    <tr>\n",
       "      <th>1</th>\n",
       "      <td>[хорошая, почти, два, года, корпус, внушающий,...</td>\n",
       "      <td>4</td>\n",
       "    </tr>\n",
       "    <tr>\n",
       "      <th>2</th>\n",
       "      <td>[отличная, кофемолка, всех, отношениях, качест...</td>\n",
       "      <td>4</td>\n",
       "    </tr>\n",
       "    <tr>\n",
       "      <th>3</th>\n",
       "      <td>[плюсы, компактная, удобна, обращении, коксует...</td>\n",
       "      <td>4</td>\n",
       "    </tr>\n",
       "    <tr>\n",
       "      <th>4</th>\n",
       "      <td>[тоже, сломалась, похоже, сгорел, мотор]</td>\n",
       "      <td>1</td>\n",
       "    </tr>\n",
       "  </tbody>\n",
       "</table>\n",
       "</div>"
      ],
      "text/plain": [
       "                                            Feedback  Rating\n",
       "0  [являюсь, пользователем, пилотов, уже, больше,...       4\n",
       "1  [хорошая, почти, два, года, корпус, внушающий,...       4\n",
       "2  [отличная, кофемолка, всех, отношениях, качест...       4\n",
       "3  [плюсы, компактная, удобна, обращении, коксует...       4\n",
       "4           [тоже, сломалась, похоже, сгорел, мотор]       1"
      ]
     },
     "execution_count": 8,
     "metadata": {},
     "output_type": "execute_result"
    }
   ],
   "source": [
    "df.head()"
   ]
  },
  {
   "cell_type": "markdown",
   "metadata": {},
   "source": [
    "## Prepare data for training"
   ]
  },
  {
   "cell_type": "code",
   "execution_count": 9,
   "metadata": {},
   "outputs": [],
   "source": [
    "#creating vocabulary\n",
    "vocab2index = {\"\":0, \"UNK\":1}\n",
    "counts = [i for i in sorted_words if i[0] not in stopwords]\n",
    "words = [\"\", \"UNK\"]\n",
    "for word in counts:\n",
    "    vocab2index[word[0]] = len(words)\n",
    "    words.append(word)"
   ]
  },
  {
   "cell_type": "code",
   "execution_count": 10,
   "metadata": {},
   "outputs": [],
   "source": [
    "tok = spacy.load('ru2_combined_400ks_96')\n",
    "def tokenize(text):\n",
    "    return [token.text for token in tok.tokenizer(text)]"
   ]
  },
  {
   "cell_type": "code",
   "execution_count": 11,
   "metadata": {},
   "outputs": [],
   "source": [
    "def encode_sentence(text, vocab2index, N=30):\n",
    "    tokenized = tokenize(text)\n",
    "    encoded = np.zeros(N, dtype=int)\n",
    "    enc1 = np.array([vocab2index.get(word, vocab2index[\"UNK\"]) for word in tokenized])\n",
    "    length = min(N, len(enc1))\n",
    "    encoded[:length] = enc1[:length]\n",
    "    return encoded, length"
   ]
  },
  {
   "cell_type": "code",
   "execution_count": 12,
   "metadata": {},
   "outputs": [],
   "source": [
    "# tokenize text\n",
    "df['Feedback'] = df['Feedback'].apply(lambda x: ' '.join(x))\n",
    "df['Feedback'] = df['Feedback'].apply(lambda x: np.array(encode_sentence(x, vocab2index )))"
   ]
  },
  {
   "cell_type": "code",
   "execution_count": 13,
   "metadata": {},
   "outputs": [],
   "source": [
    "# drop for packed sequence\n",
    "df = df.loc[df['Feedback'].apply(lambda x: x[1]) != 0]"
   ]
  },
  {
   "cell_type": "code",
   "execution_count": 14,
   "metadata": {},
   "outputs": [],
   "source": [
    "# calculate baseline metrics\n",
    "baseline_mae = mean_absolute_error(np.full((df.shape[0]), int(df['Rating'].mean())), df['Rating'])"
   ]
  },
  {
   "cell_type": "code",
   "execution_count": 15,
   "metadata": {},
   "outputs": [
    {
     "data": {
      "text/html": [
       "<div>\n",
       "<style scoped>\n",
       "    .dataframe tbody tr th:only-of-type {\n",
       "        vertical-align: middle;\n",
       "    }\n",
       "\n",
       "    .dataframe tbody tr th {\n",
       "        vertical-align: top;\n",
       "    }\n",
       "\n",
       "    .dataframe thead th {\n",
       "        text-align: right;\n",
       "    }\n",
       "</style>\n",
       "<table border=\"1\" class=\"dataframe\">\n",
       "  <thead>\n",
       "    <tr style=\"text-align: right;\">\n",
       "      <th></th>\n",
       "      <th>Feedback</th>\n",
       "      <th>Rating</th>\n",
       "    </tr>\n",
       "  </thead>\n",
       "  <tbody>\n",
       "    <tr>\n",
       "      <th>0</th>\n",
       "      <td>[[3545, 7980, 28669, 27, 72, 98, 43, 3425, 197...</td>\n",
       "      <td>4</td>\n",
       "    </tr>\n",
       "    <tr>\n",
       "      <th>1</th>\n",
       "      <td>[[117, 136, 139, 38, 294, 28671, 4811, 104, 11...</td>\n",
       "      <td>4</td>\n",
       "    </tr>\n",
       "    <tr>\n",
       "      <th>2</th>\n",
       "      <td>[[115, 1244, 177, 6814, 64, 128, 884, 303, 529...</td>\n",
       "      <td>4</td>\n",
       "    </tr>\n",
       "    <tr>\n",
       "      <th>3</th>\n",
       "      <td>[[275, 946, 884, 1051, 28673, 256, 127, 4175, ...</td>\n",
       "      <td>4</td>\n",
       "    </tr>\n",
       "    <tr>\n",
       "      <th>4</th>\n",
       "      <td>[[66, 474, 1655, 933, 1599, 0, 0, 0, 0, 0, 0, ...</td>\n",
       "      <td>1</td>\n",
       "    </tr>\n",
       "  </tbody>\n",
       "</table>\n",
       "</div>"
      ],
      "text/plain": [
       "                                            Feedback  Rating\n",
       "0  [[3545, 7980, 28669, 27, 72, 98, 43, 3425, 197...       4\n",
       "1  [[117, 136, 139, 38, 294, 28671, 4811, 104, 11...       4\n",
       "2  [[115, 1244, 177, 6814, 64, 128, 884, 303, 529...       4\n",
       "3  [[275, 946, 884, 1051, 28673, 256, 127, 4175, ...       4\n",
       "4  [[66, 474, 1655, 933, 1599, 0, 0, 0, 0, 0, 0, ...       1"
      ]
     },
     "execution_count": 15,
     "metadata": {},
     "output_type": "execute_result"
    }
   ],
   "source": [
    "df.head()"
   ]
  },
  {
   "cell_type": "markdown",
   "metadata": {},
   "source": [
    "## Create Pytorch Dataset"
   ]
  },
  {
   "cell_type": "code",
   "execution_count": 16,
   "metadata": {},
   "outputs": [],
   "source": [
    "# create X, y\n",
    "X = np.array(df['Feedback'])\n",
    "y = np.array(df['Rating'])\n",
    "\n",
    "X_train, X_valid, y_train, y_valid = train_test_split(X, y, test_size=0.2)"
   ]
  },
  {
   "cell_type": "code",
   "execution_count": 17,
   "metadata": {},
   "outputs": [],
   "source": [
    "class CustomDataset(Dataset):\n",
    "    def __init__(self, X, Y):\n",
    "        self.X = X\n",
    "        self.y = Y\n",
    "        \n",
    "    def __len__(self):\n",
    "        return len(self.y)\n",
    "    \n",
    "    def __getitem__(self, idx):\n",
    "        return torch.from_numpy(self.X[idx][0]).long(), self.y[idx].long(), self.X[idx][1]"
   ]
  },
  {
   "cell_type": "code",
   "execution_count": 18,
   "metadata": {},
   "outputs": [],
   "source": [
    "# create custom dataset\n",
    "train_ds = CustomDataset(X_train, torch.Tensor(y_train))\n",
    "valid_ds = CustomDataset(X_valid, torch.Tensor(y_valid))"
   ]
  },
  {
   "cell_type": "code",
   "execution_count": 19,
   "metadata": {},
   "outputs": [],
   "source": [
    "def train_model(model, epochs=10, lr=0.001):\n",
    "    # metrics\n",
    "    train_loss = []\n",
    "    test_loss = []\n",
    "    # train loop\n",
    "    parameters = filter(lambda p: p.requires_grad, model.parameters())\n",
    "    optimizer = torch.optim.Adam(parameters, lr=lr)\n",
    "    for i in range(epochs):\n",
    "        model.train()\n",
    "        sum_loss = 0.0\n",
    "        total = 0\n",
    "        for x, y, l in train_dl:\n",
    "            y_pred = model(x, l)\n",
    "            optimizer.zero_grad()\n",
    "            loss = F.cross_entropy(y_pred, y)\n",
    "            loss.backward()\n",
    "            optimizer.step()\n",
    "            sum_loss += loss.item()*y.shape[0]\n",
    "            total += y.shape[0]\n",
    "        val_loss, val_acc, val_mae = validation_metrics(model, val_dl)\n",
    "        print(\"train loss %.3f, val loss %.3f, val accuracy %.3f, and val MAE %.3f\" % (sum_loss/total, val_loss, val_acc, val_mae/baseline_mae))\n",
    "        train_loss.append(sum_loss/total)\n",
    "        test_loss.append(val_loss)\n",
    "    return train_loss, test_loss\n",
    "\n",
    "\n",
    "def validation_metrics(model, valid_dl):\n",
    "    model.eval()\n",
    "    correct = 0\n",
    "    total = 0\n",
    "    sum_loss = 0.0\n",
    "    sum_mae = 0.0\n",
    "    for x, y, l in valid_dl:\n",
    "        y_hat = model(x, l)\n",
    "        loss = F.cross_entropy(y_hat, y)\n",
    "        pred = torch.max(y_hat, 1)[1]\n",
    "        correct += (pred == y).float().sum()\n",
    "        total += y.shape[0]\n",
    "        sum_loss += loss.item()*y.shape[0]\n",
    "        sum_mae += mean_absolute_error(pred, y.unsqueeze(-1))*y.shape[0]\n",
    "    return sum_loss/total, correct/total, sum_mae/total"
   ]
  },
  {
   "cell_type": "code",
   "execution_count": 20,
   "metadata": {},
   "outputs": [],
   "source": [
    "def print_losses(train_loss, test_loss):\n",
    "    plt.figure(figsize=(15,6))\n",
    "    plt.plot(train_loss)\n",
    "    plt.plot(test_loss)\n",
    "    plt.legend(['Train', 'Test'])\n",
    "    plt.show()"
   ]
  },
  {
   "cell_type": "code",
   "execution_count": 21,
   "metadata": {},
   "outputs": [],
   "source": [
    "# training parameters\n",
    "batch_size = 256\n",
    "vocab_size = len(words)\n",
    "# create dataloader\n",
    "train_dl = DataLoader(train_ds, batch_size=batch_size, shuffle=True)\n",
    "val_dl = DataLoader(valid_ds, batch_size=batch_size)"
   ]
  },
  {
   "cell_type": "markdown",
   "metadata": {},
   "source": [
    "## MaxPool Example"
   ]
  },
  {
   "cell_type": "code",
   "execution_count": 22,
   "metadata": {},
   "outputs": [],
   "source": [
    "class PoolingModel(torch.nn.Module):\n",
    "    def __init__(self, vocab_size, embedding_dim):\n",
    "        super().__init__()\n",
    "        self.embedding = nn.Embedding(vocab_size, embedding_dim, padding_idx=0)\n",
    "        self.linear = nn.Linear(50, 5)\n",
    "        \n",
    "    def forward(self, x, l):\n",
    "        x = self.embedding(x) # [128, 30, 50]\n",
    "        x = x.mean(dim=1) # [128, 50]\n",
    "        output = self.linear(x) # [128/batch_size, 5]\n",
    "        return output"
   ]
  },
  {
   "cell_type": "code",
   "execution_count": 23,
   "metadata": {},
   "outputs": [],
   "source": [
    "model_pooling = PoolingModel(vocab_size, 50)"
   ]
  },
  {
   "cell_type": "code",
   "execution_count": 24,
   "metadata": {
    "scrolled": true
   },
   "outputs": [
    {
     "name": "stdout",
     "output_type": "stream",
     "text": [
      "train loss 1.591, val loss 1.529, val accuracy 0.415, and val MAE 1.498\n",
      "train loss 1.450, val loss 1.373, val accuracy 0.581, and val MAE 0.875\n",
      "train loss 1.295, val loss 1.247, val accuracy 0.599, and val MAE 0.803\n",
      "train loss 1.194, val loss 1.187, val accuracy 0.603, and val MAE 0.788\n",
      "train loss 1.138, val loss 1.153, val accuracy 0.605, and val MAE 0.779\n",
      "train loss 1.093, val loss 1.125, val accuracy 0.606, and val MAE 0.769\n",
      "train loss 1.051, val loss 1.100, val accuracy 0.612, and val MAE 0.753\n",
      "train loss 1.009, val loss 1.077, val accuracy 0.620, and val MAE 0.724\n",
      "train loss 0.967, val loss 1.057, val accuracy 0.625, and val MAE 0.695\n",
      "train loss 0.926, val loss 1.039, val accuracy 0.628, and val MAE 0.678\n",
      "train loss 0.886, val loss 1.023, val accuracy 0.631, and val MAE 0.663\n",
      "train loss 0.848, val loss 1.010, val accuracy 0.631, and val MAE 0.656\n",
      "train loss 0.811, val loss 0.999, val accuracy 0.628, and val MAE 0.647\n",
      "train loss 0.775, val loss 0.991, val accuracy 0.634, and val MAE 0.634\n",
      "train loss 0.741, val loss 0.984, val accuracy 0.631, and val MAE 0.632\n",
      "train loss 0.709, val loss 0.979, val accuracy 0.631, and val MAE 0.628\n",
      "train loss 0.678, val loss 0.975, val accuracy 0.638, and val MAE 0.607\n",
      "train loss 0.648, val loss 0.973, val accuracy 0.638, and val MAE 0.602\n",
      "train loss 0.619, val loss 0.973, val accuracy 0.639, and val MAE 0.593\n",
      "train loss 0.592, val loss 0.973, val accuracy 0.640, and val MAE 0.588\n",
      "train loss 0.566, val loss 0.974, val accuracy 0.639, and val MAE 0.584\n",
      "train loss 0.540, val loss 0.977, val accuracy 0.638, and val MAE 0.584\n",
      "train loss 0.516, val loss 0.980, val accuracy 0.637, and val MAE 0.581\n",
      "train loss 0.492, val loss 0.984, val accuracy 0.632, and val MAE 0.586\n",
      "train loss 0.470, val loss 0.989, val accuracy 0.631, and val MAE 0.585\n",
      "train loss 0.448, val loss 0.994, val accuracy 0.630, and val MAE 0.583\n",
      "train loss 0.427, val loss 1.000, val accuracy 0.630, and val MAE 0.584\n",
      "train loss 0.407, val loss 1.006, val accuracy 0.628, and val MAE 0.581\n",
      "train loss 0.387, val loss 1.013, val accuracy 0.625, and val MAE 0.582\n",
      "train loss 0.369, val loss 1.020, val accuracy 0.625, and val MAE 0.583\n"
     ]
    }
   ],
   "source": [
    "train_loss, test_loss = train_model(model_pooling, epochs=30, lr=0.001)"
   ]
  },
  {
   "cell_type": "code",
   "execution_count": 25,
   "metadata": {},
   "outputs": [
    {
     "data": {
      "image/png": "[encoded data removed]",
      "text/plain": [
       "<Figure size 1080x432 with 1 Axes>"
      ]
     },
     "metadata": {
      "needs_background": "light"
     },
     "output_type": "display_data"
    }
   ],
   "source": [
    "print_losses(train_loss, test_loss)"
   ]
  },
  {
   "cell_type": "markdown",
   "metadata": {},
   "source": [
    "## Fixed len LSTM"
   ]
  },
  {
   "cell_type": "code",
   "execution_count": 26,
   "metadata": {},
   "outputs": [],
   "source": [
    "class LSTM_fixed_len(torch.nn.Module) :\n",
    "    def __init__(self, vocab_size, embedding_dim, hidden_dim):\n",
    "        super().__init__()\n",
    "        self.embeddings = nn.Embedding(vocab_size, embedding_dim, padding_idx=0)\n",
    "        self.lstm = nn.LSTM(embedding_dim, hidden_dim, batch_first=True)\n",
    "        self.linear1 = nn.Linear(hidden_dim*3, 32)\n",
    "        self.linear2 = nn.Linear(32, 5)\n",
    "        self.dropout = nn.Dropout(0.3)\n",
    "        \n",
    "        self.relu = nn.ReLU(inplace=True)\n",
    "        self.batchnorm = nn.BatchNorm1d(32)\n",
    "        \n",
    "    def forward(self, x, l):\n",
    "        x = self.embeddings(x)\n",
    "        x = self.dropout(x)\n",
    "        lstm_out, (ht, ct) = self.lstm(x)\n",
    "        x = self.linear1(torch.cat((lstm_out[torch.arange(lstm_out.shape[0]), l-1], ht[-1], ct[-1]), axis=1))\n",
    "        x = self.batchnorm(x)\n",
    "        x = self.relu(x)\n",
    "        x = self.linear2(x)\n",
    "        return x"
   ]
  },
  {
   "cell_type": "code",
   "execution_count": 27,
   "metadata": {},
   "outputs": [],
   "source": [
    "model_fixed = LSTM_fixed_len(vocab_size, 50, 50)"
   ]
  },
  {
   "cell_type": "code",
   "execution_count": 28,
   "metadata": {
    "scrolled": true
   },
   "outputs": [
    {
     "name": "stdout",
     "output_type": "stream",
     "text": [
      "train loss 1.550, val loss 1.336, val accuracy 0.593, and val MAE 0.812\n",
      "train loss 1.256, val loss 1.194, val accuracy 0.603, and val MAE 0.797\n",
      "train loss 1.190, val loss 1.176, val accuracy 0.603, and val MAE 0.797\n",
      "train loss 1.164, val loss 1.160, val accuracy 0.603, and val MAE 0.796\n",
      "train loss 1.138, val loss 1.145, val accuracy 0.602, and val MAE 0.797\n",
      "train loss 1.112, val loss 1.125, val accuracy 0.600, and val MAE 0.796\n",
      "train loss 1.073, val loss 1.107, val accuracy 0.602, and val MAE 0.778\n",
      "train loss 1.024, val loss 1.065, val accuracy 0.608, and val MAE 0.737\n",
      "train loss 0.985, val loss 1.047, val accuracy 0.610, and val MAE 0.741\n",
      "train loss 0.946, val loss 1.040, val accuracy 0.607, and val MAE 0.716\n",
      "train loss 0.909, val loss 1.041, val accuracy 0.607, and val MAE 0.688\n",
      "train loss 0.880, val loss 1.043, val accuracy 0.610, and val MAE 0.732\n",
      "train loss 0.845, val loss 1.046, val accuracy 0.617, and val MAE 0.668\n",
      "train loss 0.814, val loss 1.065, val accuracy 0.611, and val MAE 0.643\n",
      "train loss 0.793, val loss 1.083, val accuracy 0.589, and val MAE 0.627\n",
      "train loss 0.768, val loss 1.084, val accuracy 0.605, and val MAE 0.628\n",
      "train loss 0.746, val loss 1.090, val accuracy 0.596, and val MAE 0.656\n",
      "train loss 0.723, val loss 1.094, val accuracy 0.591, and val MAE 0.632\n",
      "train loss 0.697, val loss 1.115, val accuracy 0.606, and val MAE 0.625\n",
      "train loss 0.680, val loss 1.103, val accuracy 0.586, and val MAE 0.647\n",
      "train loss 0.660, val loss 1.176, val accuracy 0.591, and val MAE 0.617\n",
      "train loss 0.634, val loss 1.194, val accuracy 0.590, and val MAE 0.622\n",
      "train loss 0.622, val loss 1.158, val accuracy 0.587, and val MAE 0.634\n",
      "train loss 0.592, val loss 1.236, val accuracy 0.553, and val MAE 0.653\n",
      "train loss 0.579, val loss 1.227, val accuracy 0.564, and val MAE 0.656\n",
      "train loss 0.571, val loss 1.226, val accuracy 0.576, and val MAE 0.640\n",
      "train loss 0.541, val loss 1.278, val accuracy 0.589, and val MAE 0.619\n",
      "train loss 0.532, val loss 1.272, val accuracy 0.560, and val MAE 0.639\n",
      "train loss 0.516, val loss 1.309, val accuracy 0.590, and val MAE 0.621\n",
      "train loss 0.506, val loss 1.387, val accuracy 0.528, and val MAE 0.665\n"
     ]
    }
   ],
   "source": [
    "train_loss, test_loss = train_model(model_fixed, epochs=30, lr=0.001)"
   ]
  },
  {
   "cell_type": "code",
   "execution_count": 29,
   "metadata": {},
   "outputs": [
    {
     "data": {
      "image/png": "[encoded data removed]",
      "text/plain": [
       "<Figure size 1080x432 with 1 Axes>"
      ]
     },
     "metadata": {
      "needs_background": "light"
     },
     "output_type": "display_data"
    }
   ],
   "source": [
    "print_losses(train_loss, test_loss)"
   ]
  },
  {
   "cell_type": "markdown",
   "metadata": {},
   "source": [
    "## Variable len LSTM"
   ]
  },
  {
   "cell_type": "code",
   "execution_count": 30,
   "metadata": {},
   "outputs": [],
   "source": [
    "class LSTM_variable_input(torch.nn.Module) :\n",
    "    def __init__(self, vocab_size, embedding_dim, hidden_dim) :\n",
    "        super().__init__()\n",
    "        self.hidden_dim = hidden_dim\n",
    "        self.dropout = nn.Dropout(0.3)\n",
    "        self.embeddings = nn.Embedding(vocab_size, embedding_dim, padding_idx=0)\n",
    "        self.lstm = nn.LSTM(embedding_dim, hidden_dim, batch_first=True)\n",
    "        self.linear1 = nn.Linear(hidden_dim*2, 32)\n",
    "        self.linear2 = nn.Linear(32, 5)\n",
    "        \n",
    "        self.relu = nn.ReLU(inplace=True)\n",
    "        self.batchnorm = nn.BatchNorm1d(32)\n",
    "        \n",
    "    def forward(self, x, s):\n",
    "        x = self.embeddings(x)\n",
    "        x = self.dropout(x)\n",
    "        x_pack = nn.utils.rnn.pack_padded_sequence(x, s, batch_first=True, enforce_sorted=False)\n",
    "        out_pack, (ht, ct) = self.lstm(x_pack)\n",
    "        x = self.linear1(torch.cat((ht[-1], ct[-1]), axis=1))\n",
    "        x = self.batchnorm(x)\n",
    "        x = self.relu(x)\n",
    "        x = self.linear2(x)\n",
    "        return x"
   ]
  },
  {
   "cell_type": "code",
   "execution_count": 31,
   "metadata": {},
   "outputs": [],
   "source": [
    "model = LSTM_variable_input(vocab_size, 50, 50)"
   ]
  },
  {
   "cell_type": "code",
   "execution_count": 32,
   "metadata": {
    "scrolled": true
   },
   "outputs": [
    {
     "name": "stdout",
     "output_type": "stream",
     "text": [
      "train loss 1.562, val loss 1.341, val accuracy 0.566, and val MAE 0.836\n",
      "train loss 1.249, val loss 1.201, val accuracy 0.602, and val MAE 0.796\n",
      "train loss 1.179, val loss 1.176, val accuracy 0.602, and val MAE 0.797\n",
      "train loss 1.150, val loss 1.165, val accuracy 0.601, and val MAE 0.797\n",
      "train loss 1.120, val loss 1.129, val accuracy 0.601, and val MAE 0.792\n",
      "train loss 1.075, val loss 1.105, val accuracy 0.598, and val MAE 0.810\n",
      "train loss 1.035, val loss 1.095, val accuracy 0.592, and val MAE 0.832\n",
      "train loss 1.000, val loss 1.087, val accuracy 0.589, and val MAE 0.838\n",
      "train loss 0.960, val loss 1.087, val accuracy 0.607, and val MAE 0.736\n",
      "train loss 0.929, val loss 1.096, val accuracy 0.591, and val MAE 0.804\n",
      "train loss 0.901, val loss 1.073, val accuracy 0.607, and val MAE 0.740\n",
      "train loss 0.874, val loss 1.127, val accuracy 0.612, and val MAE 0.705\n",
      "train loss 0.839, val loss 1.208, val accuracy 0.613, and val MAE 0.707\n",
      "train loss 0.822, val loss 1.197, val accuracy 0.617, and val MAE 0.672\n",
      "train loss 0.792, val loss 1.192, val accuracy 0.620, and val MAE 0.658\n",
      "train loss 0.770, val loss 1.192, val accuracy 0.592, and val MAE 0.724\n",
      "train loss 0.740, val loss 1.151, val accuracy 0.597, and val MAE 0.651\n",
      "train loss 0.725, val loss 1.187, val accuracy 0.564, and val MAE 0.750\n",
      "train loss 0.697, val loss 1.158, val accuracy 0.593, and val MAE 0.660\n",
      "train loss 0.678, val loss 1.197, val accuracy 0.576, and val MAE 0.668\n",
      "train loss 0.652, val loss 1.241, val accuracy 0.581, and val MAE 0.668\n",
      "train loss 0.635, val loss 1.249, val accuracy 0.571, and val MAE 0.679\n",
      "train loss 0.623, val loss 1.267, val accuracy 0.580, and val MAE 0.653\n",
      "train loss 0.605, val loss 1.302, val accuracy 0.600, and val MAE 0.647\n",
      "train loss 0.583, val loss 1.337, val accuracy 0.588, and val MAE 0.678\n",
      "train loss 0.567, val loss 1.400, val accuracy 0.599, and val MAE 0.622\n",
      "train loss 0.546, val loss 1.399, val accuracy 0.597, and val MAE 0.622\n",
      "train loss 0.527, val loss 1.354, val accuracy 0.575, and val MAE 0.664\n",
      "train loss 0.512, val loss 1.415, val accuracy 0.561, and val MAE 0.675\n",
      "train loss 0.497, val loss 1.427, val accuracy 0.570, and val MAE 0.669\n"
     ]
    }
   ],
   "source": [
    "train_loss, test_loss = train_model(model, epochs=30, lr=0.001)"
   ]
  },
  {
   "cell_type": "code",
   "execution_count": 33,
   "metadata": {},
   "outputs": [
    {
     "data": {
      "image/png": "[encoded data removed]",
      "text/plain": [
       "<Figure size 1080x432 with 1 Axes>"
      ]
     },
     "metadata": {
      "needs_background": "light"
     },
     "output_type": "display_data"
    }
   ],
   "source": [
    "print_losses(train_loss, test_loss)"
   ]
  },
  {
   "cell_type": "markdown",
   "metadata": {},
   "source": [
    "## FastText Embeddings"
   ]
  },
  {
   "cell_type": "code",
   "execution_count": 34,
   "metadata": {},
   "outputs": [],
   "source": [
    "from torchnlp.word_to_vector import FastText"
   ]
  },
  {
   "cell_type": "code",
   "execution_count": 35,
   "metadata": {},
   "outputs": [],
   "source": [
    "word_vecs = FastText(language='ru')"
   ]
  },
  {
   "cell_type": "code",
   "execution_count": 36,
   "metadata": {},
   "outputs": [],
   "source": [
    "def get_emb_matrix(pretrained, word_counts, emb_size = 50):\n",
    "    vocab_size = len(word_counts) + 2\n",
    "    vocab_to_idx = {}\n",
    "    vocab = [\"\", \"UNK\"]\n",
    "    W = np.zeros((vocab_size, emb_size), dtype=\"float32\")\n",
    "    W[0] = np.zeros(emb_size, dtype='float32') # adding a vector for padding\n",
    "    W[1] = np.random.uniform(-0.25, 0.25, emb_size) # adding a vector for unknown words \n",
    "    vocab_to_idx[\"UNK\"] = 1\n",
    "    i = 2\n",
    "    for word in word_counts:\n",
    "        if word[0] in word_vecs:\n",
    "            W[i] = word_vecs[word[0]][:emb_size]\n",
    "        else:\n",
    "            W[i] = np.random.uniform(-0.25,0.25, emb_size)\n",
    "        vocab_to_idx[word] = i\n",
    "        vocab.append(word)\n",
    "        i += 1   \n",
    "    return W, np.array(vocab), vocab_to_idx"
   ]
  },
  {
   "cell_type": "code",
   "execution_count": 37,
   "metadata": {},
   "outputs": [],
   "source": [
    "pretrained_weights, vocab, vocab2index = get_emb_matrix(word_vecs, counts)"
   ]
  },
  {
   "cell_type": "code",
   "execution_count": 38,
   "metadata": {},
   "outputs": [],
   "source": [
    "class LSTM_fasttext_vecs(torch.nn.Module) :\n",
    "    def __init__(self, vocab_size, embedding_dim, hidden_dim, fasttext_weights) :\n",
    "        super().__init__()\n",
    "        self.embeddings = nn.Embedding(vocab_size, embedding_dim, padding_idx=0)\n",
    "        self.embeddings.weight.data.copy_(torch.from_numpy(fasttext_weights))\n",
    "        self.embeddings.weight.requires_grad = False ## freeze embeddings\n",
    "        self.lstm = nn.LSTM(embedding_dim, hidden_dim, batch_first=True)\n",
    "        self.linear1 = nn.Linear(hidden_dim*3, 32)\n",
    "        self.linear2 = nn.Linear(32, 5)\n",
    "        self.dropout = nn.Dropout(0.3)\n",
    "        \n",
    "        self.relu = nn.ReLU(inplace=True)\n",
    "        self.batchnorm = nn.BatchNorm1d(32)\n",
    "        \n",
    "    def forward(self, x, l):\n",
    "        x = self.embeddings(x)\n",
    "        x = self.dropout(x)\n",
    "        lstm_out, (ht, ct) = self.lstm(x)\n",
    "        x = self.linear1(torch.cat((lstm_out[torch.arange(lstm_out.shape[0]), l-1], ht[-1], ct[-1]), axis=1))\n",
    "        x = self.batchnorm(x)\n",
    "        x = self.relu(x)\n",
    "        x = self.linear2(x)\n",
    "        return x"
   ]
  },
  {
   "cell_type": "code",
   "execution_count": 39,
   "metadata": {},
   "outputs": [],
   "source": [
    "model = LSTM_fasttext_vecs(vocab_size, 50, 50, pretrained_weights)"
   ]
  },
  {
   "cell_type": "code",
   "execution_count": 40,
   "metadata": {
    "scrolled": true
   },
   "outputs": [
    {
     "name": "stdout",
     "output_type": "stream",
     "text": [
      "train loss 1.323, val loss 1.223, val accuracy 0.603, and val MAE 0.797\n",
      "train loss 1.159, val loss 1.098, val accuracy 0.611, and val MAE 0.756\n",
      "train loss 1.110, val loss 1.074, val accuracy 0.611, and val MAE 0.751\n",
      "train loss 1.096, val loss 1.062, val accuracy 0.622, and val MAE 0.708\n",
      "train loss 1.087, val loss 1.054, val accuracy 0.620, and val MAE 0.720\n",
      "train loss 1.078, val loss 1.063, val accuracy 0.619, and val MAE 0.719\n",
      "train loss 1.071, val loss 1.061, val accuracy 0.619, and val MAE 0.723\n",
      "train loss 1.059, val loss 1.028, val accuracy 0.619, and val MAE 0.705\n",
      "train loss 1.050, val loss 1.022, val accuracy 0.623, and val MAE 0.693\n",
      "train loss 1.043, val loss 1.031, val accuracy 0.621, and val MAE 0.695\n",
      "train loss 1.029, val loss 1.032, val accuracy 0.617, and val MAE 0.681\n",
      "train loss 1.020, val loss 1.004, val accuracy 0.627, and val MAE 0.679\n",
      "train loss 1.015, val loss 1.092, val accuracy 0.585, and val MAE 0.693\n",
      "train loss 0.999, val loss 1.010, val accuracy 0.622, and val MAE 0.670\n",
      "train loss 0.997, val loss 1.008, val accuracy 0.622, and val MAE 0.708\n",
      "train loss 0.997, val loss 1.101, val accuracy 0.569, and val MAE 0.765\n",
      "train loss 0.989, val loss 1.008, val accuracy 0.625, and val MAE 0.654\n",
      "train loss 0.981, val loss 1.085, val accuracy 0.595, and val MAE 0.798\n",
      "train loss 0.984, val loss 1.043, val accuracy 0.612, and val MAE 0.672\n",
      "train loss 0.975, val loss 0.992, val accuracy 0.623, and val MAE 0.628\n",
      "train loss 0.972, val loss 0.995, val accuracy 0.627, and val MAE 0.679\n",
      "train loss 0.967, val loss 0.974, val accuracy 0.632, and val MAE 0.653\n",
      "train loss 0.963, val loss 0.988, val accuracy 0.631, and val MAE 0.656\n",
      "train loss 0.956, val loss 0.997, val accuracy 0.614, and val MAE 0.650\n",
      "train loss 0.952, val loss 0.982, val accuracy 0.629, and val MAE 0.650\n",
      "train loss 0.953, val loss 1.007, val accuracy 0.608, and val MAE 0.654\n",
      "train loss 0.946, val loss 0.976, val accuracy 0.631, and val MAE 0.665\n",
      "train loss 0.944, val loss 0.970, val accuracy 0.628, and val MAE 0.651\n",
      "train loss 0.942, val loss 0.968, val accuracy 0.630, and val MAE 0.654\n",
      "train loss 0.936, val loss 0.972, val accuracy 0.630, and val MAE 0.629\n"
     ]
    }
   ],
   "source": [
    "train_loss, test_loss = train_model(model, epochs=30, lr=0.001)"
   ]
  },
  {
   "cell_type": "code",
   "execution_count": 41,
   "metadata": {},
   "outputs": [
    {
     "data": {
      "image/png": "[encoded data removed]",
      "text/plain": [
       "<Figure size 1080x432 with 1 Axes>"
      ]
     },
     "metadata": {
      "needs_background": "light"
     },
     "output_type": "display_data"
    }
   ],
   "source": [
    "print_losses(train_loss, test_loss)"
   ]
  },
  {
   "cell_type": "markdown",
   "metadata": {},
   "source": [
    "## Try Different optimizers"
   ]
  },
  {
   "cell_type": "code",
   "execution_count": 42,
   "metadata": {},
   "outputs": [],
   "source": [
    "def train_model(model, optimizer_type, epochs=10, lr=0.001):\n",
    "    # metrics\n",
    "    train_loss = []\n",
    "    test_loss = []\n",
    "    # train loop\n",
    "    parameters = filter(lambda p: p.requires_grad, model.parameters())\n",
    "    if optimizer_type == 'Adam':\n",
    "        optimizer = torch.optim.Adam(parameters, lr=lr)\n",
    "    elif optimizer_type == 'RMSprop':\n",
    "        optimizer = torch.optim.RMSprop(parameters, lr=lr)\n",
    "    elif optimizer_type == 'Adagrad':\n",
    "        optimizer = torch.optim.Adagrad(parameters, lr=lr)\n",
    "    for i in range(epochs):\n",
    "        model.train()\n",
    "        sum_loss = 0.0\n",
    "        total = 0\n",
    "        for x, y, l in train_dl:\n",
    "            y_pred = model(x, l)\n",
    "            optimizer.zero_grad()\n",
    "            loss = F.cross_entropy(y_pred, y)\n",
    "            loss.backward()\n",
    "            optimizer.step()\n",
    "            sum_loss += loss.item()*y.shape[0]\n",
    "            total += y.shape[0]\n",
    "        val_loss, val_acc, val_mae = validation_metrics(model, val_dl)\n",
    "        if i % 5 == 1:\n",
    "            print(\"train loss %.3f, val loss %.3f, val accuracy %.3f, and val MAE %.3f\" % (sum_loss/total, val_loss, val_acc, val_mae/baseline_mae))\n",
    "        train_loss.append(sum_loss/total)\n",
    "        test_loss.append(val_loss)\n",
    "    return train_loss, test_loss"
   ]
  },
  {
   "cell_type": "code",
   "execution_count": 43,
   "metadata": {},
   "outputs": [
    {
     "name": "stdout",
     "output_type": "stream",
     "text": [
      "train loss 1.203, val loss 1.178, val accuracy 0.603, and val MAE 0.797\n",
      "train loss 1.101, val loss 1.140, val accuracy 0.603, and val MAE 0.789\n",
      "train loss 0.917, val loss 1.096, val accuracy 0.615, and val MAE 0.693\n",
      "train loss 0.758, val loss 1.123, val accuracy 0.619, and val MAE 0.637\n",
      "train loss 0.648, val loss 1.178, val accuracy 0.611, and val MAE 0.638\n",
      "train loss 0.541, val loss 1.286, val accuracy 0.603, and val MAE 0.615\n"
     ]
    },
    {
     "data": {
      "image/png": "[encoded data removed]",
      "text/plain": [
       "<Figure size 1080x432 with 1 Axes>"
      ]
     },
     "metadata": {
      "needs_background": "light"
     },
     "output_type": "display_data"
    }
   ],
   "source": [
    "model = LSTM_fixed_len(vocab_size, 50, 50)\n",
    "train_loss, test_loss = train_model(model, optimizer_type='Adam', epochs=30, lr=0.001)\n",
    "print_losses(train_loss, test_loss)"
   ]
  },
  {
   "cell_type": "code",
   "execution_count": 44,
   "metadata": {},
   "outputs": [
    {
     "name": "stdout",
     "output_type": "stream",
     "text": [
      "train loss 1.175, val loss 1.155, val accuracy 0.602, and val MAE 0.797\n",
      "train loss 0.993, val loss 1.042, val accuracy 0.601, and val MAE 0.789\n",
      "train loss 0.874, val loss 1.031, val accuracy 0.615, and val MAE 0.656\n",
      "train loss 0.774, val loss 1.053, val accuracy 0.594, and val MAE 0.668\n",
      "train loss 0.691, val loss 1.115, val accuracy 0.604, and val MAE 0.617\n",
      "train loss 0.624, val loss 1.170, val accuracy 0.594, and val MAE 0.635\n"
     ]
    },
    {
     "data": {
      "image/png": "[encoded data removed]",
      "text/plain": [
       "<Figure size 1080x432 with 1 Axes>"
      ]
     },
     "metadata": {
      "needs_background": "light"
     },
     "output_type": "display_data"
    }
   ],
   "source": [
    "model = LSTM_fixed_len(vocab_size, 50, 50)\n",
    "train_loss, test_loss = train_model(model, optimizer_type='RMSprop', epochs=30, lr=0.001)\n",
    "print_losses(train_loss, test_loss)"
   ]
  },
  {
   "cell_type": "code",
   "execution_count": 45,
   "metadata": {},
   "outputs": [
    {
     "name": "stdout",
     "output_type": "stream",
     "text": [
      "train loss 1.587, val loss 1.564, val accuracy 0.279, and val MAE 1.182\n",
      "train loss 1.402, val loss 1.411, val accuracy 0.522, and val MAE 0.854\n",
      "train loss 1.317, val loss 1.329, val accuracy 0.574, and val MAE 0.808\n",
      "train loss 1.268, val loss 1.286, val accuracy 0.589, and val MAE 0.800\n",
      "train loss 1.240, val loss 1.255, val accuracy 0.595, and val MAE 0.798\n",
      "train loss 1.219, val loss 1.237, val accuracy 0.599, and val MAE 0.798\n"
     ]
    },
    {
     "data": {
      "image/png": "[encoded data removed]",
      "text/plain": [
       "<Figure size 1080x432 with 1 Axes>"
      ]
     },
     "metadata": {
      "needs_background": "light"
     },
     "output_type": "display_data"
    }
   ],
   "source": [
    "model = LSTM_fixed_len(vocab_size, 50, 50)\n",
    "train_loss, test_loss = train_model(model, optimizer_type='Adagrad', epochs=30, lr=0.001)\n",
    "print_losses(train_loss, test_loss)"
   ]
  },
  {
   "cell_type": "code",
   "execution_count": null,
   "metadata": {},
   "outputs": [],
   "source": []
  },
  {
   "cell_type": "code",
   "execution_count": null,
   "metadata": {},
   "outputs": [],
   "source": []
  },
  {
   "cell_type": "code",
   "execution_count": null,
   "metadata": {},
   "outputs": [],
   "source": []
  },
  {
   "cell_type": "code",
   "execution_count": null,
   "metadata": {},
   "outputs": [],
   "source": []
  }
 ],
 "metadata": {
  "kernelspec": {
   "display_name": "Python 3",
   "language": "python",
   "name": "python3"
  },
  "language_info": {
   "codemirror_mode": {
    "name": "ipython",
    "version": 3
   },
   "file_extension": ".py",
   "mimetype": "text/x-python",
   "name": "python",
   "nbconvert_exporter": "python",
   "pygments_lexer": "ipython3",
   "version": "3.8.5"
  }
 },
 "nbformat": 4,
 "nbformat_minor": 4
}
